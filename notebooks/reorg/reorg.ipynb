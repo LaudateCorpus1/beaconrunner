{
 "cells": [
  {
   "cell_type": "code",
   "execution_count": 1,
   "id": "55f267a2-dc08-48c0-befd-59774bbed465",
   "metadata": {},
   "outputs": [],
   "source": [
    "import os, sys\n",
    "sys.path.append(\"./beaconrunner\")\n",
    "\n",
    "import numpy as np\n",
    "import pandas as pd\n",
    "\n",
    "import plotly.express as px\n",
    "import plotly.io as pio\n",
    "pd.options.plotting.backend = \"plotly\"\n",
    "pio.renderers.default = \"plotly_mimetype+notebook_connected\"\n",
    "import plotly.graph_objects as go\n",
    "\n",
    "from experiments.utils import display_code\n",
    "\n",
    "import logging\n",
    "logger = logging.getLogger(__name__)\n",
    "logger.setLevel(logging.DEBUG)"
   ]
  },
  {
   "cell_type": "code",
   "execution_count": 2,
   "id": "e8a5d368-65f5-472c-86f4-61cccff06cf3",
   "metadata": {
    "tags": []
   },
   "outputs": [],
   "source": [
    "import experiments.templates.reorg.observers as reorg_observers"
   ]
  },
  {
   "cell_type": "code",
   "execution_count": 3,
   "id": "b10a4e56-34e7-47e4-b24b-7bf6dade12fa",
   "metadata": {},
   "outputs": [
    {
     "name": "stdout",
     "output_type": "stream",
     "text": [
      "malicious_indices {2, 4, 5, 6, 8, 11, 15, 17, 18}\n"
     ]
    }
   ],
   "source": [
    "from experiments.run import run\n",
    "import experiments.templates.reorg.experiment as reorg_experiment"
   ]
  },
  {
   "cell_type": "code",
   "execution_count": 4,
   "id": "b0868763-813a-471f-9f45-bec846c7eb16",
   "metadata": {},
   "outputs": [
    {
     "name": "stdout",
     "output_type": "stream",
     "text": [
      "2021-10-22 11:30:01,157 - root - INFO - Running experiment\n",
      "19 proposing block for slot 1\n",
      "6 (malicious) proposing block for slot 2\n",
      "8 (malicious) attesting for malicious block\n",
      "15 (malicious) attesting for malicious block\n",
      "7 proposing block for slot 3\n",
      "2 (malicious) attesting for malicious block\n",
      "4 (malicious) attesting for malicious block\n",
      "18 (malicious) attesting for malicious block\n",
      "resetting attack\n",
      "14 proposing block for slot 4\n",
      "9 proposing block for slot 5\n",
      "10 proposing block for slot 6\n",
      "0 proposing block for slot 7\n",
      "0 proposing block for slot 8\n",
      "18 (malicious) proposing block for slot 9\n",
      "timestep 100 of run 1\n",
      "2 (malicious) attesting for malicious block\n",
      "8 (malicious) attesting for malicious block\n",
      "11 (malicious) attesting for malicious block\n",
      "17 (malicious) attesting for malicious block\n",
      "7 proposing block for slot 10\n",
      "resetting attack\n",
      "16 proposing block for slot 11\n",
      "8 (malicious) proposing block for slot 12\n",
      "5 (malicious) attesting for malicious block\n",
      "11 (malicious) attesting for malicious block\n",
      "0 proposing block for slot 13\n",
      "4 (malicious) attesting for malicious block\n",
      "resetting attack\n",
      "9 proposing block for slot 14\n",
      "5 (malicious) proposing block for slot 15\n",
      "2 (malicious) attesting for malicious block\n",
      "8 (malicious) attesting for malicious block\n",
      "15 (malicious) attesting for malicious block\n",
      "3 proposing block for slot 16\n",
      "2 (malicious) attesting for malicious block\n",
      "4 (malicious) attesting for malicious block\n",
      "8 (malicious) attesting for malicious block\n",
      "resetting attack\n",
      "2021-10-22 11:35:04,181 - root - INFO - Experiment complete in 303.0235650539398 seconds\n",
      "2021-10-22 11:35:04,182 - root - INFO - Post-processing results\n",
      "2021-10-22 11:35:04,286 - root - INFO - Post-processing complete in 0.10523223876953125 seconds\n"
     ]
    }
   ],
   "source": [
    "# Experiment execution\n",
    "df, exceptions = run(reorg_experiment.experiment)"
   ]
  },
  {
   "cell_type": "code",
   "execution_count": 6,
   "id": "a0264dfc-be6c-43a7-93e9-c60efadfb5f9",
   "metadata": {
    "tags": []
   },
   "outputs": [
    {
     "data": {
      "image/png": "[encoded data removed]",
      "text/plain": [
       "<Figure size 864x288 with 1 Axes>"
      ]
     },
     "metadata": {},
     "output_type": "display_data"
    }
   ],
   "source": [
    "import matplotlib.pyplot as plt \n",
    "from experiments.visualizations.plot_chain import plot_chain_tree\n",
    "\n",
    "ax = plot_chain_tree(df.iloc[12*16-1][\"network\"])\n",
    "plt.show()"
   ]
  },
  {
   "cell_type": "code",
   "execution_count": null,
   "id": "1066e291-85cf-47b4-87ce-6dfac7284838",
   "metadata": {},
   "outputs": [],
   "source": [
    "import itertools\n",
    "import pandas as pd\n",
    "pd.set_option('display.max_rows', 100)\n",
    "validator_df = pd.DataFrame(\n",
    "    itertools.chain(*df[((df.substep == 0) | (df.substep == 4)) & (df.timestep % 12 == 1) & (df.current_slot > 11)][\"current_validator_state\"].iloc[:])\n",
    ")\n",
    "validator_df[\"previous_balance\"] = validator_df.groupby([\"validator_index\"])[[\"balance\"]].shift()\n",
    "validator_df[\"balance_diff\"] = validator_df[\"balance\"] - validator_df[\"previous_balance\"]\n",
    "validator_df = validator_df[validator_df.slot > 12]\n",
    "validator_df"
   ]
  },
  {
   "cell_type": "code",
   "execution_count": null,
   "id": "8e14736a-988b-4771-94dd-e58a9789483e",
   "metadata": {},
   "outputs": [],
   "source": [
    "# validator_df.to_csv('export.csv')"
   ]
  }
 ],
 "metadata": {
  "interpreter": {
   "hash": "2fe5a55708fa59a611f45baac8ee0715d3b60c1a6bca4af142312eb83f5ba1cb"
  },
  "kernelspec": {
   "display_name": "Python 3",
   "language": "python",
   "name": "python3"
  },
  "language_info": {
   "codemirror_mode": {
    "name": "ipython",
    "version": 3
   },
   "file_extension": ".py",
   "mimetype": "text/x-python",
   "name": "python",
   "nbconvert_exporter": "python",
   "pygments_lexer": "ipython3",
   "version": "3.8.2"
  }
 },
 "nbformat": 4,
 "nbformat_minor": 5
}
