{
 "cells": [
  {
   "cell_type": "markdown",
   "id": "emotional-assistant",
   "metadata": {},
   "source": [
    "## How to use\n",
    "\n",
    "In this noteboook we test the rewards given out by the protocol to different types of validators. Our `fast` config reduces the size of most constants to avoid allocating more memory than necessary (we'll only test with a few validators). We also reduce the number of slots per epoch to speed things up. All these changes are without loss of generality.\n",
    "\n",
    "You may test various spec versions by renaming either of the `specs_*.py` files in the `beaconrunner` folder to `specs.py`. Current version tested is v1.1.0-alpha.7."
   ]
  },
  {
   "cell_type": "code",
   "execution_count": 1,
   "id": "structured-shannon",
   "metadata": {},
   "outputs": [],
   "source": [
    "import os, sys\n",
    "sys.path.insert(1, os.path.realpath(os.path.pardir))\n",
    "import beaconrunner as br\n",
    "\n",
    "import types\n",
    "from eth2spec.utils.ssz.ssz_impl import hash_tree_root\n",
    "\n",
    "from cadCAD_tools.profiling.visualizations import visualize_substep_impact\n",
    "\n",
    "import pandas as pd\n",
    "import plotly.express as px\n",
    "import plotly.io as pio\n",
    "pd.options.plotting.backend = \"plotly\"\n",
    "pio.renderers.default = \"plotly_mimetype+notebook_connected\"\n",
    "import plotly.graph_objects as go"
   ]
  },
  {
   "cell_type": "markdown",
   "id": "saving-kelly",
   "metadata": {},
   "source": [
    "Below are metrics extracted from the state of the simulation. We don't really care about most of them except for `get_current_validator_state`, but they are left here for future use/reference."
   ]
  },
  {
   "cell_type": "code",
   "execution_count": 2,
   "id": "enhanced-staff",
   "metadata": {},
   "outputs": [],
   "source": [
    "def extract_state(s):\n",
    "    validators = s[\"network\"].validators\n",
    "    validator = validators[1]\n",
    "    head = br.specs.get_head(validator.store)\n",
    "    current_state = validator.store.block_states[head].copy()\n",
    "    return current_state\n",
    "\n",
    "def current_slot(params, step, sL, s, _input):\n",
    "    return (\"current_slot\", s[\"network\"].validators[0].data.slot)\n",
    "\n",
    "def total_balance_asap(params, step, sL, s, _input):\n",
    "    validators = s[\"network\"].validators\n",
    "    current_state = extract_state(s)\n",
    "    current_epoch = br.specs.get_current_epoch(current_state)\n",
    "    asap_indices = [i for i, v in enumerate(validators) if v.validator_behaviour == \"asap\"]\n",
    "    asap_balances = [b for i, b in enumerate(current_state.balances) if i in asap_indices]\n",
    "    return (\"total_balance_asap\", sum(asap_balances))\n",
    "\n",
    "def get_base_reward(params, step, sL, s, _input):\n",
    "    current_state = extract_state(s)\n",
    "    base_reward = br.specs.get_base_reward(current_state, 0)\n",
    "    return (\"base_reward\", base_reward)\n",
    "\n",
    "def get_block_proposer(params, step, sL, s, _input):\n",
    "    current_state = extract_state(s)\n",
    "    block_proposer = [v.validator_index for v in s[\"network\"].validators if v.data.current_proposer_duties[s[\"current_slot\"] % br.specs.SLOTS_PER_EPOCH]][0]\n",
    "    return (\"block_proposer\", block_proposer)\n",
    "\n",
    "def get_block_proposer_balance(params, step, sL, s, _input):\n",
    "    current_state = extract_state(s)\n",
    "    block_proposer_balance = current_state.balances[s[\"block_proposer\"]]\n",
    "    return (\"block_proposer_balance\", block_proposer_balance)\n",
    "\n",
    "def get_sync_committee(params, step, sL, s, _input):\n",
    "    current_state = extract_state(s)\n",
    "    current_epoch = br.specs.get_current_epoch(current_state)\n",
    "    sync_committee = current_state.current_sync_committee.pubkeys\n",
    "    val_pubkeys = [v.pubkey for v in current_state.validators]\n",
    "    sync_committee_indices = [val_pubkeys.index(pubkey) for pubkey in sync_comittee]\n",
    "    return (\"sync_committee\", sync_committee_indices)\n",
    "\n",
    "def get_head(params, step, sL, s, _input):\n",
    "    validators = s[\"network\"].validators\n",
    "    validator = validators[0]\n",
    "    head = br.specs.get_head(validator.store).hex()[0:6]\n",
    "    return (\"head\", head)\n",
    "\n",
    "def get_current_validator_state(params, step, sL, s, _input):\n",
    "    current_state = extract_state(s)\n",
    "    current_validator_state = []\n",
    "    for v in s[\"network\"].validators:\n",
    "        current_validator_state += [{\n",
    "            \"slot\": v.data.slot,\n",
    "            \"validator_index\": v.validator_index,\n",
    "            \"balance\": current_state.balances[v.validator_index],\n",
    "            \"block_proposer\": 1 if s[\"block_proposer\"] == v.validator_index else 0,\n",
    "            \"attester\": 1 if v.data.current_attest_slot == v.data.slot else 0,\n",
    "            \"sync_committee\": len(v.data.current_sync_committee),\n",
    "        }]\n",
    "    return (\"current_validator_state\", current_validator_state)\n",
    "\n",
    "observers = {\n",
    "    \"current_slot\": current_slot,\n",
    "    \"total_balance_asap\": total_balance_asap,\n",
    "    \"base_reward\": get_base_reward,\n",
    "    \"block_proposer\": get_block_proposer,\n",
    "    \"block_proposer_balance\": get_block_proposer_balance,\n",
    "#     \"sync_committee\": get_sync_committee,\n",
    "    \"head\": get_head,\n",
    "    \"current_validator_state\": get_current_validator_state,\n",
    "}"
   ]
  },
  {
   "cell_type": "markdown",
   "id": "current-piano",
   "metadata": {},
   "source": [
    "Run the simulation."
   ]
  },
  {
   "cell_type": "code",
   "execution_count": 3,
   "id": "silent-abortion",
   "metadata": {
    "tags": []
   },
   "outputs": [
    {
     "name": "stderr",
     "output_type": "stream",
     "text": [
      "INFO:root:Starting simulation 0 / run 0 / subset 0\n"
     ]
    },
    {
     "name": "stdout",
     "output_type": "stream",
     "text": [
      "will simulate 4 epochs ( 16 slots ) at frequency 1 moves/second\n",
      "total 192 simulation steps\n",
      "19 proposing block for slot 1\n",
      "6 proposing block for slot 2\n",
      "7 proposing block for slot 3\n",
      "14 proposing block for slot 4\n",
      "9 proposing block for slot 5\n",
      "10 proposing block for slot 6\n",
      "0 proposing block for slot 7\n",
      "10 proposing block for slot 8\n",
      "13 proposing block for slot 9\n",
      "timestep 100 of run 1\n",
      "18 proposing block for slot 10\n",
      "3 proposing block for slot 11\n",
      "0 proposing block for slot 12\n",
      "2 proposing block for slot 13\n",
      "3 proposing block for slot 14\n",
      "12 proposing block for slot 15\n",
      "11 proposing block for slot 16\n"
     ]
    }
   ],
   "source": [
    "from random import sample\n",
    "from beaconrunner.validators.ASAPValidator import ASAPValidator\n",
    "\n",
    "num_validators = 20\n",
    "\n",
    "# Initiate validators\n",
    "validators = []\n",
    "for i in range(num_validators):\n",
    "    new_validator = ASAPValidator(i)\n",
    "    validators.append(new_validator)\n",
    "\n",
    "# Create a genesis state\n",
    "(genesis_state, genesis_block) = br.simulator.get_genesis_state_block(validators)\n",
    "\n",
    "# Validators load the state\n",
    "[v.load_state(genesis_state.copy(), genesis_block.copy()) for v in validators]\n",
    "\n",
    "# We skip the genesis block\n",
    "br.simulator.skip_genesis_block(validators)\n",
    "# print(genesis_state)\n",
    "\n",
    "# Create the network\n",
    "set_a = br.network.NetworkSet(validators=list(range(num_validators)))\n",
    "network_sets = list([set_a])\n",
    "network = br.network.Network(validators = validators, sets = network_sets)\n",
    "\n",
    "# Set simulation parameters\n",
    "parameters = br.simulator.SimulationParameters({\n",
    "    \"num_epochs\": 4,\n",
    "    \"run_index\": 1,\n",
    "    \"frequency\": 1,\n",
    "    \"network_update_rate\": 1.0,\n",
    "})\n",
    "\n",
    "df = br.simulator.simulate(network, parameters, observers) "
   ]
  },
  {
   "cell_type": "code",
   "execution_count": 4,
   "id": "liable-aurora",
   "metadata": {
    "tags": []
   },
   "outputs": [],
   "source": [
    "df = df.drop(columns=['network'])"
   ]
  },
  {
   "cell_type": "markdown",
   "id": "communist-charleston",
   "metadata": {},
   "source": [
    "We collect the validator state data in a separate dataframe, of schema `(slot, validator_index, balance, block_proposer, attester, sync_committee)`. We ignore the first few epochs (rewards aren't given out, or imperfectly) and make sure the key `(slot, validator_index)` is unique."
   ]
  },
  {
   "cell_type": "code",
   "execution_count": 5,
   "id": "3111b718-767b-43e1-b0c8-3a040944bc9f",
   "metadata": {},
   "outputs": [
    {
     "data": {
      "text/html": [
       "<div>\n",
       "<style scoped>\n",
       "    .dataframe tbody tr th:only-of-type {\n",
       "        vertical-align: middle;\n",
       "    }\n",
       "\n",
       "    .dataframe tbody tr th {\n",
       "        vertical-align: top;\n",
       "    }\n",
       "\n",
       "    .dataframe thead th {\n",
       "        text-align: right;\n",
       "    }\n",
       "</style>\n",
       "<table border=\"1\" class=\"dataframe\">\n",
       "  <thead>\n",
       "    <tr style=\"text-align: right;\">\n",
       "      <th></th>\n",
       "      <th>current_slot</th>\n",
       "      <th>total_balance_asap</th>\n",
       "      <th>base_reward</th>\n",
       "      <th>block_proposer</th>\n",
       "      <th>block_proposer_balance</th>\n",
       "      <th>head</th>\n",
       "      <th>current_validator_state</th>\n",
       "      <th>run_time</th>\n",
       "      <th>simulation</th>\n",
       "      <th>subset</th>\n",
       "      <th>run</th>\n",
       "      <th>substep</th>\n",
       "      <th>timestep</th>\n",
       "      <th>substep_label</th>\n",
       "    </tr>\n",
       "  </thead>\n",
       "  <tbody>\n",
       "    <tr>\n",
       "      <th>0</th>\n",
       "      <td>1</td>\n",
       "      <td>640000000000</td>\n",
       "      <td>2560000</td>\n",
       "      <td>19</td>\n",
       "      <td>32000000000</td>\n",
       "      <td>168f82</td>\n",
       "      <td>[{'slot': 1, 'validator_index': 0, 'balance': ...</td>\n",
       "      <td>0.000000e+00</td>\n",
       "      <td>0</td>\n",
       "      <td>0</td>\n",
       "      <td>1</td>\n",
       "      <td>0</td>\n",
       "      <td>0</td>\n",
       "      <td>Initial State</td>\n",
       "    </tr>\n",
       "    <tr>\n",
       "      <th>1</th>\n",
       "      <td>1</td>\n",
       "      <td>640000000000</td>\n",
       "      <td>2560000</td>\n",
       "      <td>19</td>\n",
       "      <td>32000000000</td>\n",
       "      <td>168f82</td>\n",
       "      <td>[{'slot': 1, 'validator_index': 0, 'balance': ...</td>\n",
       "      <td>1.626053e+09</td>\n",
       "      <td>0</td>\n",
       "      <td>0</td>\n",
       "      <td>1</td>\n",
       "      <td>1</td>\n",
       "      <td>1</td>\n",
       "      <td>Initial measure runtime</td>\n",
       "    </tr>\n",
       "    <tr>\n",
       "      <th>2</th>\n",
       "      <td>1</td>\n",
       "      <td>640000000000</td>\n",
       "      <td>2560000</td>\n",
       "      <td>19</td>\n",
       "      <td>32000000000</td>\n",
       "      <td>168f82</td>\n",
       "      <td>[{'slot': 1, 'validator_index': 0, 'balance': ...</td>\n",
       "      <td>1.626053e+09</td>\n",
       "      <td>0</td>\n",
       "      <td>0</td>\n",
       "      <td>1</td>\n",
       "      <td>2</td>\n",
       "      <td>1</td>\n",
       "      <td>Attestations</td>\n",
       "    </tr>\n",
       "    <tr>\n",
       "      <th>3</th>\n",
       "      <td>1</td>\n",
       "      <td>640000000000</td>\n",
       "      <td>2560000</td>\n",
       "      <td>19</td>\n",
       "      <td>32000000000</td>\n",
       "      <td>168f82</td>\n",
       "      <td>[{'slot': 1, 'validator_index': 0, 'balance': ...</td>\n",
       "      <td>1.626053e+09</td>\n",
       "      <td>0</td>\n",
       "      <td>0</td>\n",
       "      <td>1</td>\n",
       "      <td>3</td>\n",
       "      <td>1</td>\n",
       "      <td>Measure runtime 0</td>\n",
       "    </tr>\n",
       "    <tr>\n",
       "      <th>4</th>\n",
       "      <td>1</td>\n",
       "      <td>640000000000</td>\n",
       "      <td>2560000</td>\n",
       "      <td>19</td>\n",
       "      <td>32000000000</td>\n",
       "      <td>168f82</td>\n",
       "      <td>[{'slot': 1, 'validator_index': 0, 'balance': ...</td>\n",
       "      <td>1.626053e+09</td>\n",
       "      <td>0</td>\n",
       "      <td>0</td>\n",
       "      <td>1</td>\n",
       "      <td>4</td>\n",
       "      <td>1</td>\n",
       "      <td>Sync committee</td>\n",
       "    </tr>\n",
       "    <tr>\n",
       "      <th>...</th>\n",
       "      <td>...</td>\n",
       "      <td>...</td>\n",
       "      <td>...</td>\n",
       "      <td>...</td>\n",
       "      <td>...</td>\n",
       "      <td>...</td>\n",
       "      <td>...</td>\n",
       "      <td>...</td>\n",
       "      <td>...</td>\n",
       "      <td>...</td>\n",
       "      <td>...</td>\n",
       "      <td>...</td>\n",
       "      <td>...</td>\n",
       "      <td>...</td>\n",
       "    </tr>\n",
       "    <tr>\n",
       "      <th>1724</th>\n",
       "      <td>16</td>\n",
       "      <td>640132299955</td>\n",
       "      <td>2560000</td>\n",
       "      <td>11</td>\n",
       "      <td>32004319997</td>\n",
       "      <td>0aea1b</td>\n",
       "      <td>[{'slot': 16, 'validator_index': 0, 'balance':...</td>\n",
       "      <td>1.626053e+09</td>\n",
       "      <td>0</td>\n",
       "      <td>0</td>\n",
       "      <td>1</td>\n",
       "      <td>5</td>\n",
       "      <td>192</td>\n",
       "      <td>Measure runtime 1</td>\n",
       "    </tr>\n",
       "    <tr>\n",
       "      <th>1725</th>\n",
       "      <td>16</td>\n",
       "      <td>640132299955</td>\n",
       "      <td>2560000</td>\n",
       "      <td>11</td>\n",
       "      <td>32004319997</td>\n",
       "      <td>0aea1b</td>\n",
       "      <td>[{'slot': 16, 'validator_index': 0, 'balance':...</td>\n",
       "      <td>1.626053e+09</td>\n",
       "      <td>0</td>\n",
       "      <td>0</td>\n",
       "      <td>1</td>\n",
       "      <td>6</td>\n",
       "      <td>192</td>\n",
       "      <td>Block proposals</td>\n",
       "    </tr>\n",
       "    <tr>\n",
       "      <th>1726</th>\n",
       "      <td>16</td>\n",
       "      <td>640132299955</td>\n",
       "      <td>2560000</td>\n",
       "      <td>11</td>\n",
       "      <td>32004319997</td>\n",
       "      <td>0aea1b</td>\n",
       "      <td>[{'slot': 16, 'validator_index': 0, 'balance':...</td>\n",
       "      <td>1.626053e+09</td>\n",
       "      <td>0</td>\n",
       "      <td>0</td>\n",
       "      <td>1</td>\n",
       "      <td>7</td>\n",
       "      <td>192</td>\n",
       "      <td>Measure runtime 2</td>\n",
       "    </tr>\n",
       "    <tr>\n",
       "      <th>1727</th>\n",
       "      <td>17</td>\n",
       "      <td>640132299955</td>\n",
       "      <td>2560000</td>\n",
       "      <td>11</td>\n",
       "      <td>32004319997</td>\n",
       "      <td>0aea1b</td>\n",
       "      <td>[{'slot': 17, 'validator_index': 0, 'balance':...</td>\n",
       "      <td>1.626053e+09</td>\n",
       "      <td>0</td>\n",
       "      <td>0</td>\n",
       "      <td>1</td>\n",
       "      <td>8</td>\n",
       "      <td>192</td>\n",
       "      <td>Simulation tick</td>\n",
       "    </tr>\n",
       "    <tr>\n",
       "      <th>1728</th>\n",
       "      <td>17</td>\n",
       "      <td>640132299955</td>\n",
       "      <td>2560000</td>\n",
       "      <td>11</td>\n",
       "      <td>32004319997</td>\n",
       "      <td>0aea1b</td>\n",
       "      <td>[{'slot': 17, 'validator_index': 0, 'balance':...</td>\n",
       "      <td>1.626053e+09</td>\n",
       "      <td>0</td>\n",
       "      <td>0</td>\n",
       "      <td>1</td>\n",
       "      <td>9</td>\n",
       "      <td>192</td>\n",
       "      <td>Measure runtime 3</td>\n",
       "    </tr>\n",
       "  </tbody>\n",
       "</table>\n",
       "<p>1729 rows × 14 columns</p>\n",
       "</div>"
      ],
      "text/plain": [
       "      current_slot  total_balance_asap  base_reward  block_proposer  \\\n",
       "0                1        640000000000      2560000              19   \n",
       "1                1        640000000000      2560000              19   \n",
       "2                1        640000000000      2560000              19   \n",
       "3                1        640000000000      2560000              19   \n",
       "4                1        640000000000      2560000              19   \n",
       "...            ...                 ...          ...             ...   \n",
       "1724            16        640132299955      2560000              11   \n",
       "1725            16        640132299955      2560000              11   \n",
       "1726            16        640132299955      2560000              11   \n",
       "1727            17        640132299955      2560000              11   \n",
       "1728            17        640132299955      2560000              11   \n",
       "\n",
       "      block_proposer_balance    head  \\\n",
       "0                32000000000  168f82   \n",
       "1                32000000000  168f82   \n",
       "2                32000000000  168f82   \n",
       "3                32000000000  168f82   \n",
       "4                32000000000  168f82   \n",
       "...                      ...     ...   \n",
       "1724             32004319997  0aea1b   \n",
       "1725             32004319997  0aea1b   \n",
       "1726             32004319997  0aea1b   \n",
       "1727             32004319997  0aea1b   \n",
       "1728             32004319997  0aea1b   \n",
       "\n",
       "                                current_validator_state      run_time  \\\n",
       "0     [{'slot': 1, 'validator_index': 0, 'balance': ...  0.000000e+00   \n",
       "1     [{'slot': 1, 'validator_index': 0, 'balance': ...  1.626053e+09   \n",
       "2     [{'slot': 1, 'validator_index': 0, 'balance': ...  1.626053e+09   \n",
       "3     [{'slot': 1, 'validator_index': 0, 'balance': ...  1.626053e+09   \n",
       "4     [{'slot': 1, 'validator_index': 0, 'balance': ...  1.626053e+09   \n",
       "...                                                 ...           ...   \n",
       "1724  [{'slot': 16, 'validator_index': 0, 'balance':...  1.626053e+09   \n",
       "1725  [{'slot': 16, 'validator_index': 0, 'balance':...  1.626053e+09   \n",
       "1726  [{'slot': 16, 'validator_index': 0, 'balance':...  1.626053e+09   \n",
       "1727  [{'slot': 17, 'validator_index': 0, 'balance':...  1.626053e+09   \n",
       "1728  [{'slot': 17, 'validator_index': 0, 'balance':...  1.626053e+09   \n",
       "\n",
       "      simulation  subset  run  substep  timestep            substep_label  \n",
       "0              0       0    1        0         0            Initial State  \n",
       "1              0       0    1        1         1  Initial measure runtime  \n",
       "2              0       0    1        2         1             Attestations  \n",
       "3              0       0    1        3         1        Measure runtime 0  \n",
       "4              0       0    1        4         1           Sync committee  \n",
       "...          ...     ...  ...      ...       ...                      ...  \n",
       "1724           0       0    1        5       192        Measure runtime 1  \n",
       "1725           0       0    1        6       192          Block proposals  \n",
       "1726           0       0    1        7       192        Measure runtime 2  \n",
       "1727           0       0    1        8       192          Simulation tick  \n",
       "1728           0       0    1        9       192        Measure runtime 3  \n",
       "\n",
       "[1729 rows x 14 columns]"
      ]
     },
     "execution_count": 5,
     "metadata": {},
     "output_type": "execute_result"
    }
   ],
   "source": [
    "df"
   ]
  },
  {
   "cell_type": "code",
   "execution_count": 6,
   "id": "2a281db1-4fc4-4050-a909-a224011db5af",
   "metadata": {},
   "outputs": [
    {
     "data": {
      "application/vnd.jupyter.widget-view+json": {
       "model_id": "f3788357dc2d4964b4074d2d254def02",
       "version_major": 2,
       "version_minor": 0
      },
      "text/plain": [
       "  0%|          | 0/192 [00:00<?, ?it/s]"
      ]
     },
     "metadata": {},
     "output_type": "display_data"
    },
    {
     "data": {
      "text/html": [
       "        <script type=\"text/javascript\">\n",
       "        window.PlotlyConfig = {MathJaxConfig: 'local'};\n",
       "        if (window.MathJax) {MathJax.Hub.Config({SVG: {font: \"STIX-Web\"}});}\n",
       "        if (typeof require !== 'undefined') {\n",
       "        require.undef(\"plotly\");\n",
       "        requirejs.config({\n",
       "            paths: {\n",
       "                'plotly': ['https://cdn.plot.ly/plotly-2.2.0.min']\n",
       "            }\n",
       "        });\n",
       "        require(['plotly'], function(Plotly) {\n",
       "            window._Plotly = Plotly;\n",
       "        });\n",
       "        }\n",
       "        </script>\n",
       "        "
      ]
     },
     "metadata": {},
     "output_type": "display_data"
    },
    {
     "data": {
      "application/vnd.plotly.v1+json": {
       "config": {
        "plotlyServerURL": "https://plot.ly"
       },
       "data": [
        {
         "alignmentgroup": "True",
         "hovertemplate": "substep_label=%{x}<br>psub_time=%{y}<extra></extra>",
         "legendgroup": "",
         "marker": {
          "color": "#636efa"
         },
         "name": "",
         "notched": false,
         "offsetgroup": "",
         "orientation": "v",
         "showlegend": false,
         "type": "box",
         "x": [
          "Block proposals",
          "Simulation tick",
          "Sync committee",
          "Simulation tick",
          "Simulation tick",
          "Simulation tick",
          "Simulation tick",
          "Simulation tick",
          "Attestations",
          "Simulation tick",
          "Simulation tick",
          "Sync committee",
          "Block proposals",
          "Simulation tick",
          "Attestations",
          "Sync committee",
          "Block proposals",
          "Simulation tick",
          "Attestations",
          "Sync committee",
          "Block proposals",
          "Simulation tick",
          "Attestations",
          "Sync committee",
          "Block proposals",
          "Simulation tick",
          "Attestations",
          "Sync committee",
          "Block proposals",
          "Simulation tick",
          "Attestations",
          "Sync committee",
          "Block proposals",
          "Simulation tick",
          "Attestations",
          "Sync committee",
          "Block proposals",
          "Simulation tick",
          "Attestations",
          "Sync committee",
          "Block proposals",
          "Simulation tick",
          "Attestations",
          "Sync committee",
          "Block proposals",
          "Simulation tick",
          "Attestations",
          "Sync committee",
          "Block proposals",
          "Simulation tick",
          "Attestations",
          "Sync committee",
          "Block proposals",
          "Simulation tick",
          "Attestations",
          "Sync committee",
          "Simulation tick",
          "Sync committee",
          "Block proposals",
          "Simulation tick",
          "Attestations",
          "Sync committee",
          "Block proposals",
          "Simulation tick",
          "Attestations",
          "Sync committee",
          "Block proposals",
          "Simulation tick",
          "Attestations",
          "Sync committee",
          "Block proposals",
          "Simulation tick",
          "Attestations",
          "Sync committee",
          "Block proposals",
          "Simulation tick",
          "Attestations",
          "Sync committee",
          "Block proposals",
          "Simulation tick",
          "Attestations",
          "Sync committee",
          "Block proposals",
          "Simulation tick",
          "Attestations",
          "Sync committee",
          "Block proposals",
          "Simulation tick",
          "Attestations",
          "Sync committee",
          "Block proposals",
          "Simulation tick",
          "Attestations",
          "Sync committee",
          "Block proposals",
          "Simulation tick",
          "Attestations",
          "Sync committee",
          "Block proposals",
          "Simulation tick",
          "Attestations",
          "Sync committee",
          "Simulation tick",
          "Sync committee",
          "Block proposals",
          "Simulation tick",
          "Attestations",
          "Sync committee",
          "Block proposals",
          "Simulation tick",
          "Attestations",
          "Sync committee",
          "Block proposals",
          "Simulation tick",
          "Attestations",
          "Sync committee",
          "Block proposals",
          "Simulation tick",
          "Attestations",
          "Sync committee",
          "Block proposals",
          "Simulation tick",
          "Attestations",
          "Sync committee",
          "Block proposals",
          "Simulation tick",
          "Attestations",
          "Sync committee",
          "Block proposals",
          "Simulation tick",
          "Attestations",
          "Sync committee",
          "Block proposals",
          "Simulation tick",
          "Attestations",
          "Sync committee",
          "Block proposals",
          "Simulation tick",
          "Attestations",
          "Sync committee",
          "Block proposals",
          "Simulation tick",
          "Attestations",
          "Sync committee",
          "Block proposals",
          "Simulation tick",
          "Attestations",
          "Sync committee",
          "Simulation tick",
          "Block proposals",
          "Simulation tick",
          "Attestations",
          "Sync committee",
          "Block proposals",
          "Simulation tick",
          "Attestations",
          "Sync committee",
          "Block proposals",
          "Simulation tick",
          "Attestations",
          "Sync committee",
          "Block proposals",
          "Simulation tick",
          "Attestations",
          "Sync committee",
          "Block proposals",
          "Simulation tick",
          "Attestations",
          "Sync committee",
          "Block proposals",
          "Simulation tick",
          "Attestations",
          "Sync committee",
          "Block proposals",
          "Simulation tick",
          "Attestations",
          "Sync committee",
          "Block proposals",
          "Simulation tick",
          "Attestations",
          "Sync committee",
          "Block proposals",
          "Simulation tick",
          "Attestations",
          "Sync committee",
          "Block proposals",
          "Simulation tick",
          "Attestations",
          "Sync committee",
          "Block proposals",
          "Simulation tick",
          "Attestations",
          "Sync committee",
          "Simulation tick",
          "Block proposals",
          "Simulation tick",
          "Attestations",
          "Sync committee",
          "Block proposals",
          "Simulation tick",
          "Attestations",
          "Sync committee",
          "Block proposals",
          "Simulation tick",
          "Attestations",
          "Sync committee",
          "Block proposals",
          "Simulation tick",
          "Attestations",
          "Sync committee",
          "Block proposals",
          "Simulation tick",
          "Attestations",
          "Sync committee",
          "Block proposals",
          "Simulation tick",
          "Attestations",
          "Sync committee",
          "Block proposals",
          "Simulation tick",
          "Attestations",
          "Sync committee",
          "Block proposals",
          "Simulation tick",
          "Attestations",
          "Sync committee",
          "Block proposals",
          "Simulation tick",
          "Attestations",
          "Sync committee",
          "Block proposals",
          "Simulation tick",
          "Attestations",
          "Sync committee",
          "Block proposals",
          "Simulation tick",
          "Attestations",
          "Sync committee",
          "Simulation tick",
          "Block proposals",
          "Simulation tick",
          "Attestations",
          "Sync committee",
          "Block proposals",
          "Simulation tick",
          "Attestations",
          "Sync committee",
          "Block proposals",
          "Simulation tick",
          "Attestations",
          "Sync committee",
          "Block proposals",
          "Simulation tick",
          "Attestations",
          "Sync committee",
          "Block proposals",
          "Simulation tick",
          "Attestations",
          "Sync committee",
          "Block proposals",
          "Simulation tick",
          "Attestations",
          "Sync committee",
          "Block proposals",
          "Simulation tick",
          "Attestations",
          "Sync committee",
          "Block proposals",
          "Simulation tick",
          "Attestations",
          "Sync committee",
          "Block proposals",
          "Simulation tick",
          "Attestations",
          "Sync committee",
          "Block proposals",
          "Simulation tick",
          "Attestations",
          "Sync committee",
          "Block proposals",
          "Simulation tick",
          "Attestations",
          "Sync committee",
          "Simulation tick",
          "Block proposals",
          "Simulation tick",
          "Attestations",
          "Sync committee",
          "Block proposals",
          "Simulation tick",
          "Attestations",
          "Sync committee",
          "Block proposals",
          "Simulation tick",
          "Attestations",
          "Sync committee",
          "Block proposals",
          "Simulation tick",
          "Attestations",
          "Sync committee",
          "Block proposals",
          "Simulation tick",
          "Attestations",
          "Sync committee",
          "Block proposals",
          "Simulation tick",
          "Attestations",
          "Sync committee",
          "Block proposals",
          "Simulation tick",
          "Attestations",
          "Sync committee",
          "Block proposals",
          "Simulation tick",
          "Attestations",
          "Sync committee",
          "Block proposals",
          "Simulation tick",
          "Attestations",
          "Sync committee",
          "Block proposals",
          "Simulation tick",
          "Attestations",
          "Sync committee",
          "Block proposals",
          "Simulation tick",
          "Attestations",
          "Sync committee",
          "Simulation tick",
          "Block proposals",
          "Simulation tick",
          "Attestations",
          "Sync committee",
          "Block proposals",
          "Simulation tick",
          "Attestations",
          "Sync committee",
          "Block proposals",
          "Simulation tick",
          "Attestations",
          "Sync committee",
          "Block proposals",
          "Simulation tick",
          "Attestations",
          "Sync committee",
          "Block proposals",
          "Simulation tick",
          "Attestations",
          "Sync committee",
          "Block proposals",
          "Simulation tick",
          "Attestations",
          "Sync committee",
          "Block proposals",
          "Simulation tick",
          "Attestations",
          "Sync committee",
          "Block proposals",
          "Simulation tick",
          "Attestations",
          "Sync committee",
          "Block proposals",
          "Simulation tick",
          "Attestations",
          "Sync committee",
          "Block proposals",
          "Simulation tick",
          "Attestations",
          "Sync committee",
          "Block proposals",
          "Simulation tick",
          "Attestations",
          "Sync committee",
          "Simulation tick",
          "Block proposals",
          "Simulation tick",
          "Attestations",
          "Sync committee",
          "Block proposals",
          "Simulation tick",
          "Attestations",
          "Sync committee",
          "Block proposals",
          "Simulation tick",
          "Attestations",
          "Sync committee",
          "Block proposals",
          "Simulation tick",
          "Attestations",
          "Sync committee",
          "Block proposals",
          "Simulation tick",
          "Attestations",
          "Sync committee",
          "Block proposals",
          "Simulation tick",
          "Attestations",
          "Sync committee",
          "Block proposals",
          "Simulation tick",
          "Attestations",
          "Sync committee",
          "Block proposals",
          "Simulation tick",
          "Attestations",
          "Sync committee",
          "Block proposals",
          "Simulation tick",
          "Attestations",
          "Sync committee",
          "Block proposals",
          "Simulation tick",
          "Attestations",
          "Sync committee",
          "Block proposals",
          "Simulation tick",
          "Attestations",
          "Sync committee",
          "Simulation tick",
          "Block proposals",
          "Simulation tick",
          "Attestations",
          "Sync committee",
          "Block proposals",
          "Simulation tick",
          "Attestations",
          "Sync committee",
          "Block proposals",
          "Simulation tick",
          "Attestations",
          "Sync committee",
          "Block proposals",
          "Simulation tick",
          "Attestations",
          "Sync committee",
          "Block proposals",
          "Simulation tick",
          "Attestations",
          "Sync committee",
          "Block proposals",
          "Simulation tick",
          "Attestations",
          "Sync committee",
          "Block proposals",
          "Simulation tick",
          "Attestations",
          "Sync committee",
          "Block proposals",
          "Simulation tick",
          "Attestations",
          "Sync committee",
          "Block proposals",
          "Simulation tick",
          "Attestations",
          "Sync committee",
          "Block proposals",
          "Simulation tick",
          "Attestations",
          "Sync committee",
          "Block proposals",
          "Simulation tick",
          "Attestations",
          "Sync committee",
          "Simulation tick",
          "Sync committee",
          "Block proposals",
          "Simulation tick",
          "Attestations",
          "Sync committee",
          "Block proposals",
          "Simulation tick",
          "Attestations",
          "Sync committee",
          "Block proposals",
          "Simulation tick",
          "Attestations",
          "Sync committee",
          "Block proposals",
          "Simulation tick",
          "Attestations",
          "Sync committee",
          "Block proposals",
          "Simulation tick",
          "Attestations",
          "Sync committee",
          "Block proposals",
          "Simulation tick",
          "Attestations",
          "Sync committee",
          "Block proposals",
          "Simulation tick",
          "Attestations",
          "Sync committee",
          "Block proposals",
          "Simulation tick",
          "Attestations",
          "Sync committee",
          "Block proposals",
          "Simulation tick",
          "Attestations",
          "Sync committee",
          "Block proposals",
          "Simulation tick",
          "Attestations",
          "Sync committee",
          "Block proposals",
          "Simulation tick",
          "Attestations",
          "Sync committee",
          "Simulation tick",
          "Sync committee",
          "Block proposals",
          "Simulation tick",
          "Attestations",
          "Sync committee",
          "Block proposals",
          "Simulation tick",
          "Attestations",
          "Sync committee",
          "Block proposals",
          "Simulation tick",
          "Attestations",
          "Sync committee",
          "Block proposals",
          "Simulation tick",
          "Attestations",
          "Sync committee",
          "Block proposals",
          "Simulation tick",
          "Attestations",
          "Sync committee",
          "Block proposals",
          "Simulation tick",
          "Attestations",
          "Sync committee",
          "Block proposals",
          "Simulation tick",
          "Attestations",
          "Sync committee",
          "Block proposals",
          "Simulation tick",
          "Attestations",
          "Sync committee",
          "Block proposals",
          "Simulation tick",
          "Attestations",
          "Sync committee",
          "Block proposals",
          "Simulation tick",
          "Attestations",
          "Sync committee",
          "Block proposals",
          "Simulation tick",
          "Attestations",
          "Sync committee",
          "Simulation tick",
          "Sync committee",
          "Block proposals",
          "Simulation tick",
          "Attestations",
          "Sync committee",
          "Block proposals",
          "Simulation tick",
          "Attestations",
          "Sync committee",
          "Block proposals",
          "Simulation tick",
          "Attestations",
          "Sync committee",
          "Block proposals",
          "Simulation tick",
          "Attestations",
          "Sync committee",
          "Block proposals",
          "Simulation tick",
          "Attestations",
          "Sync committee",
          "Block proposals",
          "Simulation tick",
          "Attestations",
          "Sync committee",
          "Block proposals",
          "Simulation tick",
          "Attestations",
          "Sync committee",
          "Block proposals",
          "Simulation tick",
          "Attestations",
          "Sync committee",
          "Block proposals",
          "Simulation tick",
          "Attestations",
          "Sync committee",
          "Block proposals",
          "Simulation tick",
          "Attestations",
          "Sync committee",
          "Block proposals",
          "Simulation tick",
          "Attestations",
          "Sync committee",
          "Simulation tick",
          "Block proposals",
          "Simulation tick",
          "Attestations",
          "Sync committee",
          "Block proposals",
          "Simulation tick",
          "Attestations",
          "Sync committee",
          "Block proposals",
          "Simulation tick",
          "Attestations",
          "Sync committee",
          "Block proposals",
          "Simulation tick",
          "Attestations",
          "Sync committee",
          "Block proposals",
          "Simulation tick",
          "Attestations",
          "Sync committee",
          "Block proposals",
          "Simulation tick",
          "Attestations",
          "Sync committee",
          "Block proposals",
          "Simulation tick",
          "Attestations",
          "Sync committee",
          "Block proposals",
          "Simulation tick",
          "Attestations",
          "Sync committee",
          "Block proposals",
          "Simulation tick",
          "Attestations",
          "Sync committee",
          "Block proposals",
          "Simulation tick",
          "Attestations",
          "Sync committee",
          "Block proposals",
          "Simulation tick",
          "Attestations",
          "Sync committee",
          "Simulation tick",
          "Sync committee",
          "Block proposals",
          "Simulation tick",
          "Attestations",
          "Sync committee",
          "Block proposals",
          "Simulation tick",
          "Attestations",
          "Sync committee",
          "Block proposals",
          "Simulation tick",
          "Attestations",
          "Sync committee",
          "Block proposals",
          "Simulation tick",
          "Attestations",
          "Sync committee",
          "Block proposals",
          "Simulation tick",
          "Attestations",
          "Sync committee",
          "Block proposals",
          "Simulation tick",
          "Attestations",
          "Sync committee",
          "Block proposals",
          "Simulation tick",
          "Attestations",
          "Sync committee",
          "Block proposals",
          "Simulation tick",
          "Attestations",
          "Sync committee",
          "Block proposals",
          "Simulation tick",
          "Attestations",
          "Sync committee",
          "Block proposals",
          "Simulation tick",
          "Attestations",
          "Sync committee",
          "Block proposals",
          "Simulation tick"
         ],
         "x0": " ",
         "xaxis": "x",
         "y": [
          0.5006756782531738,
          0.003384113311767578,
          0.6486208438873291,
          0.003383636474609375,
          0.0033462047576904297,
          0.0032660961151123047,
          0.0036389827728271484,
          0.003399372100830078,
          0.0034668445587158203,
          0.004308938980102539,
          0.009482145309448242,
          0.5765600204467773,
          0.0077550411224365234,
          0.008651018142700195,
          0.007802248001098633,
          0.007639646530151367,
          0.007735252380371094,
          0.008363008499145508,
          0.007658243179321289,
          0.007681608200073242,
          0.007686138153076172,
          0.008404016494750977,
          0.007776975631713867,
          0.0076999664306640625,
          0.007659196853637695,
          0.00832509994506836,
          0.007773876190185547,
          0.00762176513671875,
          0.0077130794525146484,
          0.00824117660522461,
          0.007664203643798828,
          0.007593870162963867,
          0.007606029510498047,
          0.00824594497680664,
          0.0076351165771484375,
          0.007642984390258789,
          0.007777214050292969,
          0.008579730987548828,
          0.007602214813232422,
          0.007727861404418945,
          0.007426023483276367,
          0.008227109909057617,
          0.007555723190307617,
          0.007503032684326172,
          0.0075337886810302734,
          0.008280277252197266,
          0.007591962814331055,
          0.007487058639526367,
          0.007682085037231445,
          0.008273839950561523,
          0.007669925689697266,
          0.007588863372802734,
          0.0077860355377197266,
          0.010276079177856445,
          0.0076100826263427734,
          0.007657051086425781,
          0.020263195037841797,
          0.6660580635070801,
          0.020942211151123047,
          0.021417856216430664,
          0.020035982131958008,
          0.020340919494628906,
          0.02233719825744629,
          0.021701812744140625,
          0.02112412452697754,
          0.018985986709594727,
          0.019010066986083984,
          0.01995992660522461,
          0.018466949462890625,
          0.01839280128479004,
          0.018479108810424805,
          0.019215822219848633,
          0.018362760543823242,
          0.0183560848236084,
          0.018110990524291992,
          0.018522977828979492,
          0.018438339233398438,
          0.01842975616455078,
          0.02002406120300293,
          0.02057194709777832,
          0.024194955825805664,
          0.020698070526123047,
          0.01880192756652832,
          0.020262956619262695,
          0.019002914428710938,
          0.01881885528564453,
          0.01927924156188965,
          0.020550966262817383,
          0.02109980583190918,
          0.020255327224731445,
          0.01945972442626953,
          0.018779277801513672,
          0.01809406280517578,
          0.018262863159179688,
          0.01825714111328125,
          0.01895880699157715,
          0.018834829330444336,
          0.018531084060668945,
          0.01848316192626953,
          0.2277078628540039,
          0.021222829818725586,
          0.0208282470703125,
          0.034555912017822266,
          0.6348268985748291,
          0.04213309288024902,
          0.03796219825744629,
          0.04065108299255371,
          0.037275075912475586,
          0.036705732345581055,
          0.040342092514038086,
          0.03781557083129883,
          0.03757333755493164,
          0.03712582588195801,
          0.04042792320251465,
          0.03833174705505371,
          0.03749823570251465,
          0.03999471664428711,
          0.039277076721191406,
          0.038176774978637695,
          0.03776192665100098,
          0.0380401611328125,
          0.03858685493469238,
          0.03685617446899414,
          0.03585696220397949,
          0.035858154296875,
          0.03676486015319824,
          0.03654003143310547,
          0.03501129150390625,
          0.035065650939941406,
          0.034742116928100586,
          0.037229061126708984,
          0.034889936447143555,
          0.034110069274902344,
          0.034564971923828125,
          0.03422999382019043,
          0.033766984939575195,
          0.034111976623535156,
          0.03426194190979004,
          0.03335714340209961,
          0.03334307670593262,
          0.033516883850097656,
          0.03419017791748047,
          0.03445887565612793,
          0.033556222915649414,
          0.03388381004333496,
          0.03590989112854004,
          0.034934043884277344,
          0.03375887870788574,
          0.049349308013916016,
          0.05070996284484863,
          0.051399946212768555,
          0.05392265319824219,
          0.058054208755493164,
          0.05726480484008789,
          0.05424618721008301,
          0.054357051849365234,
          0.05443882942199707,
          0.05426812171936035,
          0.05660080909729004,
          0.05933713912963867,
          0.05705666542053223,
          0.05970311164855957,
          0.057935237884521484,
          0.05524015426635742,
          0.058004140853881836,
          0.05862283706665039,
          0.05983304977416992,
          0.05713200569152832,
          0.05605578422546387,
          0.05519509315490723,
          0.057034969329833984,
          0.054610252380371094,
          0.06806683540344238,
          0.07334017753601074,
          0.07398176193237305,
          0.07065486907958984,
          0.05191493034362793,
          0.05119490623474121,
          0.05173134803771973,
          0.06346297264099121,
          0.07848906517028809,
          0.06292390823364258,
          0.054125070571899414,
          0.051339149475097656,
          0.05169105529785156,
          0.04920601844787598,
          0.05065274238586426,
          0.04919004440307617,
          0.04995012283325195,
          0.04900193214416504,
          0.05149483680725098,
          0.05078887939453125,
          0.05200624465942383,
          0.06989812850952148,
          0.08089804649353027,
          0.0794677734375,
          0.07692885398864746,
          0.07883214950561523,
          0.08530497550964355,
          0.07874011993408203,
          0.07719802856445312,
          0.07343173027038574,
          0.07103633880615234,
          0.0699608325958252,
          0.07450985908508301,
          0.07565021514892578,
          0.07635784149169922,
          0.0784749984741211,
          0.07537722587585449,
          0.0701141357421875,
          0.06987786293029785,
          0.07552480697631836,
          0.07723784446716309,
          0.07697415351867676,
          0.07813096046447754,
          0.11046099662780762,
          0.0802910327911377,
          0.07478094100952148,
          0.07249093055725098,
          0.07027721405029297,
          0.0724799633026123,
          0.07114124298095703,
          0.07020688056945801,
          0.06996297836303711,
          0.06888127326965332,
          0.06922292709350586,
          0.07111191749572754,
          0.07117581367492676,
          0.0804738998413086,
          0.08263015747070312,
          0.0821230411529541,
          0.08425593376159668,
          0.08316993713378906,
          0.07734084129333496,
          0.07416605949401855,
          0.07947301864624023,
          0.08184289932250977,
          0.08352899551391602,
          0.10326194763183594,
          0.1132810115814209,
          0.09916901588439941,
          0.09951400756835938,
          0.09948897361755371,
          0.10133099555969238,
          0.10099291801452637,
          0.09852790832519531,
          0.10324692726135254,
          0.10360503196716309,
          0.10103487968444824,
          0.10156989097595215,
          0.10406994819641113,
          0.10292196273803711,
          0.10004711151123047,
          0.09830904006958008,
          0.11003398895263672,
          0.11750102043151855,
          0.12026691436767578,
          0.11635184288024902,
          0.1199641227722168,
          0.1156158447265625,
          0.11007118225097656,
          0.10174083709716797,
          0.10889816284179688,
          0.13919687271118164,
          0.13023900985717773,
          0.1116187572479248,
          0.12258195877075195,
          0.1158599853515625,
          0.10593914985656738,
          0.1041259765625,
          0.10638713836669922,
          0.0997917652130127,
          0.10558700561523438,
          0.10772204399108887,
          0.10323405265808105,
          0.10210204124450684,
          0.10088610649108887,
          0.10013484954833984,
          0.09921813011169434,
          0.09995102882385254,
          0.42305874824523926,
          0.0995938777923584,
          0.10299897193908691,
          0.13343501091003418,
          0.1477823257446289,
          0.13959479331970215,
          0.15384507179260254,
          0.15556693077087402,
          0.15269684791564941,
          0.14051222801208496,
          0.14161205291748047,
          0.15376591682434082,
          0.1575610637664795,
          0.15788698196411133,
          0.15476775169372559,
          0.15255308151245117,
          0.1408381462097168,
          0.13346409797668457,
          0.1307220458984375,
          0.1318361759185791,
          0.14861297607421875,
          0.13754892349243164,
          0.13892507553100586,
          0.14728593826293945,
          0.1483139991760254,
          0.14754199981689453,
          0.15167999267578125,
          0.1358630657196045,
          0.14437389373779297,
          0.1485130786895752,
          0.14888691902160645,
          0.14793992042541504,
          0.14078807830810547,
          0.14123797416687012,
          0.14727377891540527,
          0.13341212272644043,
          0.13680410385131836,
          0.13532495498657227,
          0.13357782363891602,
          0.1431560516357422,
          0.14489126205444336,
          0.1535327434539795,
          0.15723299980163574,
          0.15817499160766602,
          0.15954375267028809,
          0.1536240577697754,
          0.13733291625976562,
          0.1338648796081543,
          0.1547698974609375,
          0.152144193649292,
          0.15096497535705566,
          0.1493380069732666,
          0.1485729217529297,
          0.14925909042358398,
          0.14853405952453613,
          0.15372705459594727,
          0.14873290061950684,
          0.1501622200012207,
          0.15543079376220703,
          0.15442919731140137,
          0.16051483154296875,
          0.1516883373260498,
          0.15272760391235352,
          0.15076088905334473,
          0.15104889869689941,
          0.15297818183898926,
          0.15148591995239258,
          0.17088890075683594,
          0.16849994659423828,
          0.15317296981811523,
          0.14887094497680664,
          0.1493210792541504,
          0.15115904808044434,
          0.14750075340270996,
          0.148529052734375,
          0.1549088954925537,
          0.1492922306060791,
          0.15168309211730957,
          0.15044593811035156,
          0.14739203453063965,
          0.14829707145690918,
          0.14676809310913086,
          0.1503736972808838,
          0.14676785469055176,
          0.1488339900970459,
          0.14802813529968262,
          0.14761686325073242,
          0.14847683906555176,
          0.15067291259765625,
          0.14930295944213867,
          0.1517651081085205,
          0.1595158576965332,
          0.15996909141540527,
          0.18496203422546387,
          0.20804929733276367,
          0.1860647201538086,
          0.19019722938537598,
          0.19412684440612793,
          0.198408842086792,
          0.20637226104736328,
          0.21270322799682617,
          0.21237564086914062,
          0.24486303329467773,
          0.21277213096618652,
          0.20176196098327637,
          0.18400788307189941,
          0.18198013305664062,
          0.18532013893127441,
          0.21007990837097168,
          0.20698285102844238,
          0.1826181411743164,
          0.1775810718536377,
          0.18432402610778809,
          0.18524789810180664,
          0.19888901710510254,
          0.20618200302124023,
          0.19242215156555176,
          0.1893150806427002,
          0.19738507270812988,
          0.19178271293640137,
          0.18526697158813477,
          0.19756197929382324,
          0.1929471492767334,
          0.18465089797973633,
          0.2293381690979004,
          0.21919894218444824,
          0.22818207740783691,
          0.21564602851867676,
          0.19618988037109375,
          0.1938190460205078,
          0.20199179649353027,
          0.19516706466674805,
          0.19672775268554688,
          0.20511889457702637,
          0.1861870288848877,
          0.19268393516540527,
          0.18406462669372559,
          0.19245529174804688,
          0.228621244430542,
          0.22177791595458984,
          0.2269909381866455,
          0.23616504669189453,
          0.21870708465576172,
          0.21634984016418457,
          0.22622013092041016,
          0.21985197067260742,
          0.21900010108947754,
          0.2349388599395752,
          0.23062610626220703,
          0.22699499130249023,
          0.22220897674560547,
          0.22353816032409668,
          0.22306466102600098,
          0.21784281730651855,
          0.21549105644226074,
          0.22767281532287598,
          0.252988338470459,
          0.2534821033477783,
          0.24201393127441406,
          0.22431206703186035,
          0.21678900718688965,
          0.23297905921936035,
          0.22649693489074707,
          0.22580194473266602,
          0.2177720069885254,
          0.21526384353637695,
          0.21971511840820312,
          0.2183370590209961,
          0.2156519889831543,
          0.21649885177612305,
          0.2167670726776123,
          0.21550726890563965,
          0.21654295921325684,
          0.21187400817871094,
          0.21495509147644043,
          0.21431493759155273,
          0.21312379837036133,
          0.21309685707092285,
          0.21528410911560059,
          0.21715784072875977,
          0.5416288375854492,
          0.21557307243347168,
          0.21553707122802734,
          0.040766000747680664,
          0.6211960315704346,
          0.041297197341918945,
          0.04198002815246582,
          0.04033207893371582,
          0.04181814193725586,
          0.04296398162841797,
          0.04424881935119629,
          0.04873490333557129,
          0.04825711250305176,
          0.047873735427856445,
          0.048619985580444336,
          0.04415106773376465,
          0.0433199405670166,
          0.04326486587524414,
          0.04218912124633789,
          0.04206371307373047,
          0.04246926307678223,
          0.04276585578918457,
          0.04378008842468262,
          0.04350996017456055,
          0.04231595993041992,
          0.043122053146362305,
          0.04382205009460449,
          0.04384112358093262,
          0.04342198371887207,
          0.044200897216796875,
          0.043485164642333984,
          0.04183197021484375,
          0.04244804382324219,
          0.042670249938964844,
          0.04249382019042969,
          0.04253506660461426,
          0.04280686378479004,
          0.04281020164489746,
          0.048477888107299805,
          0.046460866928100586,
          0.04586625099182129,
          0.04680776596069336,
          0.04697608947753906,
          0.047507286071777344,
          0.04810285568237305,
          0.04866194725036621,
          0.060240983963012695,
          0.051818132400512695,
          0.047746896743774414,
          0.062161922454833984,
          0.6741600036621094,
          0.06928014755249023,
          0.0648047924041748,
          0.060899972915649414,
          0.06045889854431152,
          0.06016111373901367,
          0.06096005439758301,
          0.07474017143249512,
          0.07967686653137207,
          0.06309008598327637,
          0.06177186965942383,
          0.0622410774230957,
          0.06305718421936035,
          0.06531381607055664,
          0.0631551742553711,
          0.06412386894226074,
          0.06204509735107422,
          0.06093096733093262,
          0.06136012077331543,
          0.06001400947570801,
          0.06927704811096191,
          0.0818030834197998,
          0.06035304069519043,
          0.06045818328857422,
          0.06068778038024902,
          0.060233116149902344,
          0.060343027114868164,
          0.059149980545043945,
          0.059339046478271484,
          0.06318902969360352,
          0.0606689453125,
          0.06296706199645996,
          0.06056332588195801,
          0.0630347728729248,
          0.062371015548706055,
          0.06277990341186523,
          0.06322193145751953,
          0.06019306182861328,
          0.06148386001586914,
          0.06396889686584473,
          0.06087803840637207,
          0.06073808670043945,
          0.06516599655151367,
          0.06090688705444336,
          0.05988478660583496,
          0.0804901123046875,
          0.6760621070861816,
          0.07841086387634277,
          0.1147000789642334,
          0.12853384017944336,
          0.08433008193969727,
          0.08253002166748047,
          0.08289003372192383,
          0.10204696655273438,
          0.13377594947814941,
          0.10997414588928223,
          0.0852820873260498,
          0.08296990394592285,
          0.08354306221008301,
          0.0915062427520752,
          0.11606574058532715,
          0.08598899841308594,
          0.0825960636138916,
          0.08261489868164062,
          0.08191084861755371,
          0.08224081993103027,
          0.08061981201171875,
          0.0796811580657959,
          0.07967305183410645,
          0.07851696014404297,
          0.08108711242675781,
          0.08199691772460938,
          0.08597922325134277,
          0.09302091598510742,
          0.0835261344909668,
          0.08001589775085449,
          0.08866214752197266,
          0.0900568962097168,
          0.0905909538269043,
          0.08930325508117676,
          0.08824896812438965,
          0.08979916572570801,
          0.08753180503845215,
          0.09507513046264648,
          0.09073090553283691,
          0.09619307518005371,
          0.0867316722869873,
          0.08224105834960938,
          0.08551692962646484,
          0.08171796798706055,
          0.08049821853637695,
          0.1071469783782959,
          0.11063885688781738,
          0.11022520065307617,
          0.10664701461791992,
          0.10520815849304199,
          0.10491275787353516,
          0.10870504379272461,
          0.10749530792236328,
          0.10535502433776855,
          0.10438776016235352,
          0.10242199897766113,
          0.10334205627441406,
          0.10423707962036133,
          0.1049659252166748,
          0.10587811470031738,
          0.10551905632019043,
          0.1052401065826416,
          0.1048269271850586,
          0.10464191436767578,
          0.1034841537475586,
          0.1025698184967041,
          0.10961008071899414,
          0.10631704330444336,
          0.1058340072631836,
          0.10574221611022949,
          0.11649775505065918,
          0.1323690414428711,
          0.13402700424194336,
          0.12148308753967285,
          0.10827183723449707,
          0.10681605339050293,
          0.10763025283813477,
          0.10587596893310547,
          0.1058969497680664,
          0.10663700103759766,
          0.1070709228515625,
          0.10606122016906738,
          0.10560989379882812,
          0.10719680786132812,
          0.10376286506652832,
          0.1053309440612793,
          0.10512709617614746,
          0.4343249797821045,
          0.10788106918334961,
          0.10776591300964355,
          0.044139862060546875,
          0.6337518692016602,
          0.04373598098754883,
          0.042784929275512695,
          0.04297304153442383,
          0.043853044509887695,
          0.04313302040100098,
          0.042762041091918945,
          0.042983055114746094,
          0.04726290702819824,
          0.05011606216430664,
          0.05297493934631348,
          0.049488067626953125,
          0.04903674125671387,
          0.04797625541687012,
          0.054173946380615234,
          0.04879474639892578,
          0.04807400703430176,
          0.049471378326416016,
          0.04914093017578125,
          0.04762601852416992,
          0.04602694511413574,
          0.04579305648803711,
          0.044970035552978516,
          0.04350113868713379,
          0.047250986099243164,
          0.04675602912902832,
          0.04678487777709961,
          0.047728776931762695,
          0.04730391502380371,
          0.047765254974365234,
          0.04859781265258789,
          0.04752707481384277,
          0.04813194274902344,
          0.0444490909576416,
          0.04443979263305664,
          0.04435300827026367,
          0.053612709045410156,
          0.04917597770690918,
          0.04801797866821289,
          0.049330949783325195,
          0.04882407188415527,
          0.061213016510009766,
          0.08507418632507324
         ],
         "y0": " ",
         "yaxis": "y"
        }
       ],
       "layout": {
        "autosize": true,
        "boxmode": "group",
        "legend": {
         "tracegroupgap": 0
        },
        "margin": {
         "t": 60
        },
        "template": {
         "data": {
          "bar": [
           {
            "error_x": {
             "color": "#2a3f5f"
            },
            "error_y": {
             "color": "#2a3f5f"
            },
            "marker": {
             "line": {
              "color": "#E5ECF6",
              "width": 0.5
             },
             "pattern": {
              "fillmode": "overlay",
              "size": 10,
              "solidity": 0.2
             }
            },
            "type": "bar"
           }
          ],
          "barpolar": [
           {
            "marker": {
             "line": {
              "color": "#E5ECF6",
              "width": 0.5
             },
             "pattern": {
              "fillmode": "overlay",
              "size": 10,
              "solidity": 0.2
             }
            },
            "type": "barpolar"
           }
          ],
          "carpet": [
           {
            "aaxis": {
             "endlinecolor": "#2a3f5f",
             "gridcolor": "white",
             "linecolor": "white",
             "minorgridcolor": "white",
             "startlinecolor": "#2a3f5f"
            },
            "baxis": {
             "endlinecolor": "#2a3f5f",
             "gridcolor": "white",
             "linecolor": "white",
             "minorgridcolor": "white",
             "startlinecolor": "#2a3f5f"
            },
            "type": "carpet"
           }
          ],
          "choropleth": [
           {
            "colorbar": {
             "outlinewidth": 0,
             "ticks": ""
            },
            "type": "choropleth"
           }
          ],
          "contour": [
           {
            "colorbar": {
             "outlinewidth": 0,
             "ticks": ""
            },
            "colorscale": [
             [
              0,
              "#0d0887"
             ],
             [
              0.1111111111111111,
              "#46039f"
             ],
             [
              0.2222222222222222,
              "#7201a8"
             ],
             [
              0.3333333333333333,
              "#9c179e"
             ],
             [
              0.4444444444444444,
              "#bd3786"
             ],
             [
              0.5555555555555556,
              "#d8576b"
             ],
             [
              0.6666666666666666,
              "#ed7953"
             ],
             [
              0.7777777777777778,
              "#fb9f3a"
             ],
             [
              0.8888888888888888,
              "#fdca26"
             ],
             [
              1,
              "#f0f921"
             ]
            ],
            "type": "contour"
           }
          ],
          "contourcarpet": [
           {
            "colorbar": {
             "outlinewidth": 0,
             "ticks": ""
            },
            "type": "contourcarpet"
           }
          ],
          "heatmap": [
           {
            "colorbar": {
             "outlinewidth": 0,
             "ticks": ""
            },
            "colorscale": [
             [
              0,
              "#0d0887"
             ],
             [
              0.1111111111111111,
              "#46039f"
             ],
             [
              0.2222222222222222,
              "#7201a8"
             ],
             [
              0.3333333333333333,
              "#9c179e"
             ],
             [
              0.4444444444444444,
              "#bd3786"
             ],
             [
              0.5555555555555556,
              "#d8576b"
             ],
             [
              0.6666666666666666,
              "#ed7953"
             ],
             [
              0.7777777777777778,
              "#fb9f3a"
             ],
             [
              0.8888888888888888,
              "#fdca26"
             ],
             [
              1,
              "#f0f921"
             ]
            ],
            "type": "heatmap"
           }
          ],
          "heatmapgl": [
           {
            "colorbar": {
             "outlinewidth": 0,
             "ticks": ""
            },
            "colorscale": [
             [
              0,
              "#0d0887"
             ],
             [
              0.1111111111111111,
              "#46039f"
             ],
             [
              0.2222222222222222,
              "#7201a8"
             ],
             [
              0.3333333333333333,
              "#9c179e"
             ],
             [
              0.4444444444444444,
              "#bd3786"
             ],
             [
              0.5555555555555556,
              "#d8576b"
             ],
             [
              0.6666666666666666,
              "#ed7953"
             ],
             [
              0.7777777777777778,
              "#fb9f3a"
             ],
             [
              0.8888888888888888,
              "#fdca26"
             ],
             [
              1,
              "#f0f921"
             ]
            ],
            "type": "heatmapgl"
           }
          ],
          "histogram": [
           {
            "marker": {
             "pattern": {
              "fillmode": "overlay",
              "size": 10,
              "solidity": 0.2
             }
            },
            "type": "histogram"
           }
          ],
          "histogram2d": [
           {
            "colorbar": {
             "outlinewidth": 0,
             "ticks": ""
            },
            "colorscale": [
             [
              0,
              "#0d0887"
             ],
             [
              0.1111111111111111,
              "#46039f"
             ],
             [
              0.2222222222222222,
              "#7201a8"
             ],
             [
              0.3333333333333333,
              "#9c179e"
             ],
             [
              0.4444444444444444,
              "#bd3786"
             ],
             [
              0.5555555555555556,
              "#d8576b"
             ],
             [
              0.6666666666666666,
              "#ed7953"
             ],
             [
              0.7777777777777778,
              "#fb9f3a"
             ],
             [
              0.8888888888888888,
              "#fdca26"
             ],
             [
              1,
              "#f0f921"
             ]
            ],
            "type": "histogram2d"
           }
          ],
          "histogram2dcontour": [
           {
            "colorbar": {
             "outlinewidth": 0,
             "ticks": ""
            },
            "colorscale": [
             [
              0,
              "#0d0887"
             ],
             [
              0.1111111111111111,
              "#46039f"
             ],
             [
              0.2222222222222222,
              "#7201a8"
             ],
             [
              0.3333333333333333,
              "#9c179e"
             ],
             [
              0.4444444444444444,
              "#bd3786"
             ],
             [
              0.5555555555555556,
              "#d8576b"
             ],
             [
              0.6666666666666666,
              "#ed7953"
             ],
             [
              0.7777777777777778,
              "#fb9f3a"
             ],
             [
              0.8888888888888888,
              "#fdca26"
             ],
             [
              1,
              "#f0f921"
             ]
            ],
            "type": "histogram2dcontour"
           }
          ],
          "mesh3d": [
           {
            "colorbar": {
             "outlinewidth": 0,
             "ticks": ""
            },
            "type": "mesh3d"
           }
          ],
          "parcoords": [
           {
            "line": {
             "colorbar": {
              "outlinewidth": 0,
              "ticks": ""
             }
            },
            "type": "parcoords"
           }
          ],
          "pie": [
           {
            "automargin": true,
            "type": "pie"
           }
          ],
          "scatter": [
           {
            "marker": {
             "colorbar": {
              "outlinewidth": 0,
              "ticks": ""
             }
            },
            "type": "scatter"
           }
          ],
          "scatter3d": [
           {
            "line": {
             "colorbar": {
              "outlinewidth": 0,
              "ticks": ""
             }
            },
            "marker": {
             "colorbar": {
              "outlinewidth": 0,
              "ticks": ""
             }
            },
            "type": "scatter3d"
           }
          ],
          "scattercarpet": [
           {
            "marker": {
             "colorbar": {
              "outlinewidth": 0,
              "ticks": ""
             }
            },
            "type": "scattercarpet"
           }
          ],
          "scattergeo": [
           {
            "marker": {
             "colorbar": {
              "outlinewidth": 0,
              "ticks": ""
             }
            },
            "type": "scattergeo"
           }
          ],
          "scattergl": [
           {
            "marker": {
             "colorbar": {
              "outlinewidth": 0,
              "ticks": ""
             }
            },
            "type": "scattergl"
           }
          ],
          "scattermapbox": [
           {
            "marker": {
             "colorbar": {
              "outlinewidth": 0,
              "ticks": ""
             }
            },
            "type": "scattermapbox"
           }
          ],
          "scatterpolar": [
           {
            "marker": {
             "colorbar": {
              "outlinewidth": 0,
              "ticks": ""
             }
            },
            "type": "scatterpolar"
           }
          ],
          "scatterpolargl": [
           {
            "marker": {
             "colorbar": {
              "outlinewidth": 0,
              "ticks": ""
             }
            },
            "type": "scatterpolargl"
           }
          ],
          "scatterternary": [
           {
            "marker": {
             "colorbar": {
              "outlinewidth": 0,
              "ticks": ""
             }
            },
            "type": "scatterternary"
           }
          ],
          "surface": [
           {
            "colorbar": {
             "outlinewidth": 0,
             "ticks": ""
            },
            "colorscale": [
             [
              0,
              "#0d0887"
             ],
             [
              0.1111111111111111,
              "#46039f"
             ],
             [
              0.2222222222222222,
              "#7201a8"
             ],
             [
              0.3333333333333333,
              "#9c179e"
             ],
             [
              0.4444444444444444,
              "#bd3786"
             ],
             [
              0.5555555555555556,
              "#d8576b"
             ],
             [
              0.6666666666666666,
              "#ed7953"
             ],
             [
              0.7777777777777778,
              "#fb9f3a"
             ],
             [
              0.8888888888888888,
              "#fdca26"
             ],
             [
              1,
              "#f0f921"
             ]
            ],
            "type": "surface"
           }
          ],
          "table": [
           {
            "cells": {
             "fill": {
              "color": "#EBF0F8"
             },
             "line": {
              "color": "white"
             }
            },
            "header": {
             "fill": {
              "color": "#C8D4E3"
             },
             "line": {
              "color": "white"
             }
            },
            "type": "table"
           }
          ]
         },
         "layout": {
          "annotationdefaults": {
           "arrowcolor": "#2a3f5f",
           "arrowhead": 0,
           "arrowwidth": 1
          },
          "autotypenumbers": "strict",
          "coloraxis": {
           "colorbar": {
            "outlinewidth": 0,
            "ticks": ""
           }
          },
          "colorscale": {
           "diverging": [
            [
             0,
             "#8e0152"
            ],
            [
             0.1,
             "#c51b7d"
            ],
            [
             0.2,
             "#de77ae"
            ],
            [
             0.3,
             "#f1b6da"
            ],
            [
             0.4,
             "#fde0ef"
            ],
            [
             0.5,
             "#f7f7f7"
            ],
            [
             0.6,
             "#e6f5d0"
            ],
            [
             0.7,
             "#b8e186"
            ],
            [
             0.8,
             "#7fbc41"
            ],
            [
             0.9,
             "#4d9221"
            ],
            [
             1,
             "#276419"
            ]
           ],
           "sequential": [
            [
             0,
             "#0d0887"
            ],
            [
             0.1111111111111111,
             "#46039f"
            ],
            [
             0.2222222222222222,
             "#7201a8"
            ],
            [
             0.3333333333333333,
             "#9c179e"
            ],
            [
             0.4444444444444444,
             "#bd3786"
            ],
            [
             0.5555555555555556,
             "#d8576b"
            ],
            [
             0.6666666666666666,
             "#ed7953"
            ],
            [
             0.7777777777777778,
             "#fb9f3a"
            ],
            [
             0.8888888888888888,
             "#fdca26"
            ],
            [
             1,
             "#f0f921"
            ]
           ],
           "sequentialminus": [
            [
             0,
             "#0d0887"
            ],
            [
             0.1111111111111111,
             "#46039f"
            ],
            [
             0.2222222222222222,
             "#7201a8"
            ],
            [
             0.3333333333333333,
             "#9c179e"
            ],
            [
             0.4444444444444444,
             "#bd3786"
            ],
            [
             0.5555555555555556,
             "#d8576b"
            ],
            [
             0.6666666666666666,
             "#ed7953"
            ],
            [
             0.7777777777777778,
             "#fb9f3a"
            ],
            [
             0.8888888888888888,
             "#fdca26"
            ],
            [
             1,
             "#f0f921"
            ]
           ]
          },
          "colorway": [
           "#636efa",
           "#EF553B",
           "#00cc96",
           "#ab63fa",
           "#FFA15A",
           "#19d3f3",
           "#FF6692",
           "#B6E880",
           "#FF97FF",
           "#FECB52"
          ],
          "font": {
           "color": "#2a3f5f"
          },
          "geo": {
           "bgcolor": "white",
           "lakecolor": "white",
           "landcolor": "#E5ECF6",
           "showlakes": true,
           "showland": true,
           "subunitcolor": "white"
          },
          "hoverlabel": {
           "align": "left"
          },
          "hovermode": "closest",
          "mapbox": {
           "style": "light"
          },
          "paper_bgcolor": "white",
          "plot_bgcolor": "#E5ECF6",
          "polar": {
           "angularaxis": {
            "gridcolor": "white",
            "linecolor": "white",
            "ticks": ""
           },
           "bgcolor": "#E5ECF6",
           "radialaxis": {
            "gridcolor": "white",
            "linecolor": "white",
            "ticks": ""
           }
          },
          "scene": {
           "xaxis": {
            "backgroundcolor": "#E5ECF6",
            "gridcolor": "white",
            "gridwidth": 2,
            "linecolor": "white",
            "showbackground": true,
            "ticks": "",
            "zerolinecolor": "white"
           },
           "yaxis": {
            "backgroundcolor": "#E5ECF6",
            "gridcolor": "white",
            "gridwidth": 2,
            "linecolor": "white",
            "showbackground": true,
            "ticks": "",
            "zerolinecolor": "white"
           },
           "zaxis": {
            "backgroundcolor": "#E5ECF6",
            "gridcolor": "white",
            "gridwidth": 2,
            "linecolor": "white",
            "showbackground": true,
            "ticks": "",
            "zerolinecolor": "white"
           }
          },
          "shapedefaults": {
           "line": {
            "color": "#2a3f5f"
           }
          },
          "ternary": {
           "aaxis": {
            "gridcolor": "white",
            "linecolor": "white",
            "ticks": ""
           },
           "baxis": {
            "gridcolor": "white",
            "linecolor": "white",
            "ticks": ""
           },
           "bgcolor": "#E5ECF6",
           "caxis": {
            "gridcolor": "white",
            "linecolor": "white",
            "ticks": ""
           }
          },
          "title": {
           "x": 0.05
          },
          "xaxis": {
           "automargin": true,
           "gridcolor": "white",
           "linecolor": "white",
           "ticks": "",
           "title": {
            "standoff": 15
           },
           "zerolinecolor": "white",
           "zerolinewidth": 2
          },
          "yaxis": {
           "automargin": true,
           "gridcolor": "white",
           "linecolor": "white",
           "ticks": "",
           "title": {
            "standoff": 15
           },
           "zerolinecolor": "white",
           "zerolinewidth": 2
          }
         }
        },
        "xaxis": {
         "anchor": "y",
         "autorange": true,
         "domain": [
          0,
          1
         ],
         "range": [
          -0.5,
          3.5
         ],
         "title": {
          "text": "substep_label"
         },
         "type": "category"
        },
        "yaxis": {
         "anchor": "x",
         "autorange": true,
         "domain": [
          0,
          1
         ],
         "range": [
          -0.034111460049947105,
          0.7134396632512411
         ],
         "title": {
          "text": "psub_time"
         },
         "type": "linear"
        }
       }
      },
      "image/png": "[encoded data removed]",
      "text/html": [
       "<div>                            <div id=\"157a134c-f1c8-443b-ac1c-5506dc887c16\" class=\"plotly-graph-div\" style=\"height:525px; width:100%;\"></div>            <script type=\"text/javascript\">                require([\"plotly\"], function(Plotly) {                    window.PLOTLYENV=window.PLOTLYENV || {};                                    if (document.getElementById(\"157a134c-f1c8-443b-ac1c-5506dc887c16\")) {                    Plotly.newPlot(                        \"157a134c-f1c8-443b-ac1c-5506dc887c16\",                        [{\"alignmentgroup\":\"True\",\"hovertemplate\":\"substep_label=%{x}<br>psub_time=%{y}<extra></extra>\",\"legendgroup\":\"\",\"marker\":{\"color\":\"#636efa\"},\"name\":\"\",\"notched\":false,\"offsetgroup\":\"\",\"orientation\":\"v\",\"showlegend\":false,\"type\":\"box\",\"x\":[\"Block proposals\",\"Simulation tick\",\"Sync committee\",\"Simulation tick\",\"Simulation tick\",\"Simulation tick\",\"Simulation tick\",\"Simulation tick\",\"Attestations\",\"Simulation tick\",\"Simulation tick\",\"Sync committee\",\"Block proposals\",\"Simulation tick\",\"Attestations\",\"Sync committee\",\"Block proposals\",\"Simulation tick\",\"Attestations\",\"Sync committee\",\"Block proposals\",\"Simulation tick\",\"Attestations\",\"Sync committee\",\"Block proposals\",\"Simulation tick\",\"Attestations\",\"Sync committee\",\"Block proposals\",\"Simulation tick\",\"Attestations\",\"Sync committee\",\"Block proposals\",\"Simulation tick\",\"Attestations\",\"Sync committee\",\"Block proposals\",\"Simulation tick\",\"Attestations\",\"Sync committee\",\"Block proposals\",\"Simulation tick\",\"Attestations\",\"Sync committee\",\"Block proposals\",\"Simulation tick\",\"Attestations\",\"Sync committee\",\"Block proposals\",\"Simulation tick\",\"Attestations\",\"Sync committee\",\"Block proposals\",\"Simulation tick\",\"Attestations\",\"Sync committee\",\"Simulation tick\",\"Sync committee\",\"Block proposals\",\"Simulation tick\",\"Attestations\",\"Sync committee\",\"Block proposals\",\"Simulation tick\",\"Attestations\",\"Sync committee\",\"Block proposals\",\"Simulation tick\",\"Attestations\",\"Sync committee\",\"Block proposals\",\"Simulation tick\",\"Attestations\",\"Sync committee\",\"Block proposals\",\"Simulation tick\",\"Attestations\",\"Sync committee\",\"Block proposals\",\"Simulation tick\",\"Attestations\",\"Sync committee\",\"Block proposals\",\"Simulation tick\",\"Attestations\",\"Sync committee\",\"Block proposals\",\"Simulation tick\",\"Attestations\",\"Sync committee\",\"Block proposals\",\"Simulation tick\",\"Attestations\",\"Sync committee\",\"Block proposals\",\"Simulation tick\",\"Attestations\",\"Sync committee\",\"Block proposals\",\"Simulation tick\",\"Attestations\",\"Sync committee\",\"Simulation tick\",\"Sync committee\",\"Block proposals\",\"Simulation tick\",\"Attestations\",\"Sync committee\",\"Block proposals\",\"Simulation tick\",\"Attestations\",\"Sync committee\",\"Block proposals\",\"Simulation tick\",\"Attestations\",\"Sync committee\",\"Block proposals\",\"Simulation tick\",\"Attestations\",\"Sync committee\",\"Block proposals\",\"Simulation tick\",\"Attestations\",\"Sync committee\",\"Block proposals\",\"Simulation tick\",\"Attestations\",\"Sync committee\",\"Block proposals\",\"Simulation tick\",\"Attestations\",\"Sync committee\",\"Block proposals\",\"Simulation tick\",\"Attestations\",\"Sync committee\",\"Block proposals\",\"Simulation tick\",\"Attestations\",\"Sync committee\",\"Block proposals\",\"Simulation tick\",\"Attestations\",\"Sync committee\",\"Block proposals\",\"Simulation tick\",\"Attestations\",\"Sync committee\",\"Simulation tick\",\"Block proposals\",\"Simulation tick\",\"Attestations\",\"Sync committee\",\"Block proposals\",\"Simulation tick\",\"Attestations\",\"Sync committee\",\"Block proposals\",\"Simulation tick\",\"Attestations\",\"Sync committee\",\"Block proposals\",\"Simulation tick\",\"Attestations\",\"Sync committee\",\"Block proposals\",\"Simulation tick\",\"Attestations\",\"Sync committee\",\"Block proposals\",\"Simulation tick\",\"Attestations\",\"Sync committee\",\"Block proposals\",\"Simulation tick\",\"Attestations\",\"Sync committee\",\"Block proposals\",\"Simulation tick\",\"Attestations\",\"Sync committee\",\"Block proposals\",\"Simulation tick\",\"Attestations\",\"Sync committee\",\"Block proposals\",\"Simulation tick\",\"Attestations\",\"Sync committee\",\"Block proposals\",\"Simulation tick\",\"Attestations\",\"Sync committee\",\"Simulation tick\",\"Block proposals\",\"Simulation tick\",\"Attestations\",\"Sync committee\",\"Block proposals\",\"Simulation tick\",\"Attestations\",\"Sync committee\",\"Block proposals\",\"Simulation tick\",\"Attestations\",\"Sync committee\",\"Block proposals\",\"Simulation tick\",\"Attestations\",\"Sync committee\",\"Block proposals\",\"Simulation tick\",\"Attestations\",\"Sync committee\",\"Block proposals\",\"Simulation tick\",\"Attestations\",\"Sync committee\",\"Block proposals\",\"Simulation tick\",\"Attestations\",\"Sync committee\",\"Block proposals\",\"Simulation tick\",\"Attestations\",\"Sync committee\",\"Block proposals\",\"Simulation tick\",\"Attestations\",\"Sync committee\",\"Block proposals\",\"Simulation tick\",\"Attestations\",\"Sync committee\",\"Block proposals\",\"Simulation tick\",\"Attestations\",\"Sync committee\",\"Simulation tick\",\"Block proposals\",\"Simulation tick\",\"Attestations\",\"Sync committee\",\"Block proposals\",\"Simulation tick\",\"Attestations\",\"Sync committee\",\"Block proposals\",\"Simulation tick\",\"Attestations\",\"Sync committee\",\"Block proposals\",\"Simulation tick\",\"Attestations\",\"Sync committee\",\"Block proposals\",\"Simulation tick\",\"Attestations\",\"Sync committee\",\"Block proposals\",\"Simulation tick\",\"Attestations\",\"Sync committee\",\"Block proposals\",\"Simulation tick\",\"Attestations\",\"Sync committee\",\"Block proposals\",\"Simulation tick\",\"Attestations\",\"Sync committee\",\"Block proposals\",\"Simulation tick\",\"Attestations\",\"Sync committee\",\"Block proposals\",\"Simulation tick\",\"Attestations\",\"Sync committee\",\"Block proposals\",\"Simulation tick\",\"Attestations\",\"Sync committee\",\"Simulation tick\",\"Block proposals\",\"Simulation tick\",\"Attestations\",\"Sync committee\",\"Block proposals\",\"Simulation tick\",\"Attestations\",\"Sync committee\",\"Block proposals\",\"Simulation tick\",\"Attestations\",\"Sync committee\",\"Block proposals\",\"Simulation tick\",\"Attestations\",\"Sync committee\",\"Block proposals\",\"Simulation tick\",\"Attestations\",\"Sync committee\",\"Block proposals\",\"Simulation tick\",\"Attestations\",\"Sync committee\",\"Block proposals\",\"Simulation tick\",\"Attestations\",\"Sync committee\",\"Block proposals\",\"Simulation tick\",\"Attestations\",\"Sync committee\",\"Block proposals\",\"Simulation tick\",\"Attestations\",\"Sync committee\",\"Block proposals\",\"Simulation tick\",\"Attestations\",\"Sync committee\",\"Block proposals\",\"Simulation tick\",\"Attestations\",\"Sync committee\",\"Simulation tick\",\"Block proposals\",\"Simulation tick\",\"Attestations\",\"Sync committee\",\"Block proposals\",\"Simulation tick\",\"Attestations\",\"Sync committee\",\"Block proposals\",\"Simulation tick\",\"Attestations\",\"Sync committee\",\"Block proposals\",\"Simulation tick\",\"Attestations\",\"Sync committee\",\"Block proposals\",\"Simulation tick\",\"Attestations\",\"Sync committee\",\"Block proposals\",\"Simulation tick\",\"Attestations\",\"Sync committee\",\"Block proposals\",\"Simulation tick\",\"Attestations\",\"Sync committee\",\"Block proposals\",\"Simulation tick\",\"Attestations\",\"Sync committee\",\"Block proposals\",\"Simulation tick\",\"Attestations\",\"Sync committee\",\"Block proposals\",\"Simulation tick\",\"Attestations\",\"Sync committee\",\"Block proposals\",\"Simulation tick\",\"Attestations\",\"Sync committee\",\"Simulation tick\",\"Block proposals\",\"Simulation tick\",\"Attestations\",\"Sync committee\",\"Block proposals\",\"Simulation tick\",\"Attestations\",\"Sync committee\",\"Block proposals\",\"Simulation tick\",\"Attestations\",\"Sync committee\",\"Block proposals\",\"Simulation tick\",\"Attestations\",\"Sync committee\",\"Block proposals\",\"Simulation tick\",\"Attestations\",\"Sync committee\",\"Block proposals\",\"Simulation tick\",\"Attestations\",\"Sync committee\",\"Block proposals\",\"Simulation tick\",\"Attestations\",\"Sync committee\",\"Block proposals\",\"Simulation tick\",\"Attestations\",\"Sync committee\",\"Block proposals\",\"Simulation tick\",\"Attestations\",\"Sync committee\",\"Block proposals\",\"Simulation tick\",\"Attestations\",\"Sync committee\",\"Block proposals\",\"Simulation tick\",\"Attestations\",\"Sync committee\",\"Simulation tick\",\"Block proposals\",\"Simulation tick\",\"Attestations\",\"Sync committee\",\"Block proposals\",\"Simulation tick\",\"Attestations\",\"Sync committee\",\"Block proposals\",\"Simulation tick\",\"Attestations\",\"Sync committee\",\"Block proposals\",\"Simulation tick\",\"Attestations\",\"Sync committee\",\"Block proposals\",\"Simulation tick\",\"Attestations\",\"Sync committee\",\"Block proposals\",\"Simulation tick\",\"Attestations\",\"Sync committee\",\"Block proposals\",\"Simulation tick\",\"Attestations\",\"Sync committee\",\"Block proposals\",\"Simulation tick\",\"Attestations\",\"Sync committee\",\"Block proposals\",\"Simulation tick\",\"Attestations\",\"Sync committee\",\"Block proposals\",\"Simulation tick\",\"Attestations\",\"Sync committee\",\"Block proposals\",\"Simulation tick\",\"Attestations\",\"Sync committee\",\"Simulation tick\",\"Sync committee\",\"Block proposals\",\"Simulation tick\",\"Attestations\",\"Sync committee\",\"Block proposals\",\"Simulation tick\",\"Attestations\",\"Sync committee\",\"Block proposals\",\"Simulation tick\",\"Attestations\",\"Sync committee\",\"Block proposals\",\"Simulation tick\",\"Attestations\",\"Sync committee\",\"Block proposals\",\"Simulation tick\",\"Attestations\",\"Sync committee\",\"Block proposals\",\"Simulation tick\",\"Attestations\",\"Sync committee\",\"Block proposals\",\"Simulation tick\",\"Attestations\",\"Sync committee\",\"Block proposals\",\"Simulation tick\",\"Attestations\",\"Sync committee\",\"Block proposals\",\"Simulation tick\",\"Attestations\",\"Sync committee\",\"Block proposals\",\"Simulation tick\",\"Attestations\",\"Sync committee\",\"Block proposals\",\"Simulation tick\",\"Attestations\",\"Sync committee\",\"Simulation tick\",\"Sync committee\",\"Block proposals\",\"Simulation tick\",\"Attestations\",\"Sync committee\",\"Block proposals\",\"Simulation tick\",\"Attestations\",\"Sync committee\",\"Block proposals\",\"Simulation tick\",\"Attestations\",\"Sync committee\",\"Block proposals\",\"Simulation tick\",\"Attestations\",\"Sync committee\",\"Block proposals\",\"Simulation tick\",\"Attestations\",\"Sync committee\",\"Block proposals\",\"Simulation tick\",\"Attestations\",\"Sync committee\",\"Block proposals\",\"Simulation tick\",\"Attestations\",\"Sync committee\",\"Block proposals\",\"Simulation tick\",\"Attestations\",\"Sync committee\",\"Block proposals\",\"Simulation tick\",\"Attestations\",\"Sync committee\",\"Block proposals\",\"Simulation tick\",\"Attestations\",\"Sync committee\",\"Block proposals\",\"Simulation tick\",\"Attestations\",\"Sync committee\",\"Simulation tick\",\"Sync committee\",\"Block proposals\",\"Simulation tick\",\"Attestations\",\"Sync committee\",\"Block proposals\",\"Simulation tick\",\"Attestations\",\"Sync committee\",\"Block proposals\",\"Simulation tick\",\"Attestations\",\"Sync committee\",\"Block proposals\",\"Simulation tick\",\"Attestations\",\"Sync committee\",\"Block proposals\",\"Simulation tick\",\"Attestations\",\"Sync committee\",\"Block proposals\",\"Simulation tick\",\"Attestations\",\"Sync committee\",\"Block proposals\",\"Simulation tick\",\"Attestations\",\"Sync committee\",\"Block proposals\",\"Simulation tick\",\"Attestations\",\"Sync committee\",\"Block proposals\",\"Simulation tick\",\"Attestations\",\"Sync committee\",\"Block proposals\",\"Simulation tick\",\"Attestations\",\"Sync committee\",\"Block proposals\",\"Simulation tick\",\"Attestations\",\"Sync committee\",\"Simulation tick\",\"Block proposals\",\"Simulation tick\",\"Attestations\",\"Sync committee\",\"Block proposals\",\"Simulation tick\",\"Attestations\",\"Sync committee\",\"Block proposals\",\"Simulation tick\",\"Attestations\",\"Sync committee\",\"Block proposals\",\"Simulation tick\",\"Attestations\",\"Sync committee\",\"Block proposals\",\"Simulation tick\",\"Attestations\",\"Sync committee\",\"Block proposals\",\"Simulation tick\",\"Attestations\",\"Sync committee\",\"Block proposals\",\"Simulation tick\",\"Attestations\",\"Sync committee\",\"Block proposals\",\"Simulation tick\",\"Attestations\",\"Sync committee\",\"Block proposals\",\"Simulation tick\",\"Attestations\",\"Sync committee\",\"Block proposals\",\"Simulation tick\",\"Attestations\",\"Sync committee\",\"Block proposals\",\"Simulation tick\",\"Attestations\",\"Sync committee\",\"Simulation tick\",\"Sync committee\",\"Block proposals\",\"Simulation tick\",\"Attestations\",\"Sync committee\",\"Block proposals\",\"Simulation tick\",\"Attestations\",\"Sync committee\",\"Block proposals\",\"Simulation tick\",\"Attestations\",\"Sync committee\",\"Block proposals\",\"Simulation tick\",\"Attestations\",\"Sync committee\",\"Block proposals\",\"Simulation tick\",\"Attestations\",\"Sync committee\",\"Block proposals\",\"Simulation tick\",\"Attestations\",\"Sync committee\",\"Block proposals\",\"Simulation tick\",\"Attestations\",\"Sync committee\",\"Block proposals\",\"Simulation tick\",\"Attestations\",\"Sync committee\",\"Block proposals\",\"Simulation tick\",\"Attestations\",\"Sync committee\",\"Block proposals\",\"Simulation tick\",\"Attestations\",\"Sync committee\",\"Block proposals\",\"Simulation tick\"],\"x0\":\" \",\"xaxis\":\"x\",\"y\":[0.5006756782531738,0.003384113311767578,0.6486208438873291,0.003383636474609375,0.0033462047576904297,0.0032660961151123047,0.0036389827728271484,0.003399372100830078,0.0034668445587158203,0.004308938980102539,0.009482145309448242,0.5765600204467773,0.0077550411224365234,0.008651018142700195,0.007802248001098633,0.007639646530151367,0.007735252380371094,0.008363008499145508,0.007658243179321289,0.007681608200073242,0.007686138153076172,0.008404016494750977,0.007776975631713867,0.0076999664306640625,0.007659196853637695,0.00832509994506836,0.007773876190185547,0.00762176513671875,0.0077130794525146484,0.00824117660522461,0.007664203643798828,0.007593870162963867,0.007606029510498047,0.00824594497680664,0.0076351165771484375,0.007642984390258789,0.007777214050292969,0.008579730987548828,0.007602214813232422,0.007727861404418945,0.007426023483276367,0.008227109909057617,0.007555723190307617,0.007503032684326172,0.0075337886810302734,0.008280277252197266,0.007591962814331055,0.007487058639526367,0.007682085037231445,0.008273839950561523,0.007669925689697266,0.007588863372802734,0.0077860355377197266,0.010276079177856445,0.0076100826263427734,0.007657051086425781,0.020263195037841797,0.6660580635070801,0.020942211151123047,0.021417856216430664,0.020035982131958008,0.020340919494628906,0.02233719825744629,0.021701812744140625,0.02112412452697754,0.018985986709594727,0.019010066986083984,0.01995992660522461,0.018466949462890625,0.01839280128479004,0.018479108810424805,0.019215822219848633,0.018362760543823242,0.0183560848236084,0.018110990524291992,0.018522977828979492,0.018438339233398438,0.01842975616455078,0.02002406120300293,0.02057194709777832,0.024194955825805664,0.020698070526123047,0.01880192756652832,0.020262956619262695,0.019002914428710938,0.01881885528564453,0.01927924156188965,0.020550966262817383,0.02109980583190918,0.020255327224731445,0.01945972442626953,0.018779277801513672,0.01809406280517578,0.018262863159179688,0.01825714111328125,0.01895880699157715,0.018834829330444336,0.018531084060668945,0.01848316192626953,0.2277078628540039,0.021222829818725586,0.0208282470703125,0.034555912017822266,0.6348268985748291,0.04213309288024902,0.03796219825744629,0.04065108299255371,0.037275075912475586,0.036705732345581055,0.040342092514038086,0.03781557083129883,0.03757333755493164,0.03712582588195801,0.04042792320251465,0.03833174705505371,0.03749823570251465,0.03999471664428711,0.039277076721191406,0.038176774978637695,0.03776192665100098,0.0380401611328125,0.03858685493469238,0.03685617446899414,0.03585696220397949,0.035858154296875,0.03676486015319824,0.03654003143310547,0.03501129150390625,0.035065650939941406,0.034742116928100586,0.037229061126708984,0.034889936447143555,0.034110069274902344,0.034564971923828125,0.03422999382019043,0.033766984939575195,0.034111976623535156,0.03426194190979004,0.03335714340209961,0.03334307670593262,0.033516883850097656,0.03419017791748047,0.03445887565612793,0.033556222915649414,0.03388381004333496,0.03590989112854004,0.034934043884277344,0.03375887870788574,0.049349308013916016,0.05070996284484863,0.051399946212768555,0.05392265319824219,0.058054208755493164,0.05726480484008789,0.05424618721008301,0.054357051849365234,0.05443882942199707,0.05426812171936035,0.05660080909729004,0.05933713912963867,0.05705666542053223,0.05970311164855957,0.057935237884521484,0.05524015426635742,0.058004140853881836,0.05862283706665039,0.05983304977416992,0.05713200569152832,0.05605578422546387,0.05519509315490723,0.057034969329833984,0.054610252380371094,0.06806683540344238,0.07334017753601074,0.07398176193237305,0.07065486907958984,0.05191493034362793,0.05119490623474121,0.05173134803771973,0.06346297264099121,0.07848906517028809,0.06292390823364258,0.054125070571899414,0.051339149475097656,0.05169105529785156,0.04920601844787598,0.05065274238586426,0.04919004440307617,0.04995012283325195,0.04900193214416504,0.05149483680725098,0.05078887939453125,0.05200624465942383,0.06989812850952148,0.08089804649353027,0.0794677734375,0.07692885398864746,0.07883214950561523,0.08530497550964355,0.07874011993408203,0.07719802856445312,0.07343173027038574,0.07103633880615234,0.0699608325958252,0.07450985908508301,0.07565021514892578,0.07635784149169922,0.0784749984741211,0.07537722587585449,0.0701141357421875,0.06987786293029785,0.07552480697631836,0.07723784446716309,0.07697415351867676,0.07813096046447754,0.11046099662780762,0.0802910327911377,0.07478094100952148,0.07249093055725098,0.07027721405029297,0.0724799633026123,0.07114124298095703,0.07020688056945801,0.06996297836303711,0.06888127326965332,0.06922292709350586,0.07111191749572754,0.07117581367492676,0.0804738998413086,0.08263015747070312,0.0821230411529541,0.08425593376159668,0.08316993713378906,0.07734084129333496,0.07416605949401855,0.07947301864624023,0.08184289932250977,0.08352899551391602,0.10326194763183594,0.1132810115814209,0.09916901588439941,0.09951400756835938,0.09948897361755371,0.10133099555969238,0.10099291801452637,0.09852790832519531,0.10324692726135254,0.10360503196716309,0.10103487968444824,0.10156989097595215,0.10406994819641113,0.10292196273803711,0.10004711151123047,0.09830904006958008,0.11003398895263672,0.11750102043151855,0.12026691436767578,0.11635184288024902,0.1199641227722168,0.1156158447265625,0.11007118225097656,0.10174083709716797,0.10889816284179688,0.13919687271118164,0.13023900985717773,0.1116187572479248,0.12258195877075195,0.1158599853515625,0.10593914985656738,0.1041259765625,0.10638713836669922,0.0997917652130127,0.10558700561523438,0.10772204399108887,0.10323405265808105,0.10210204124450684,0.10088610649108887,0.10013484954833984,0.09921813011169434,0.09995102882385254,0.42305874824523926,0.0995938777923584,0.10299897193908691,0.13343501091003418,0.1477823257446289,0.13959479331970215,0.15384507179260254,0.15556693077087402,0.15269684791564941,0.14051222801208496,0.14161205291748047,0.15376591682434082,0.1575610637664795,0.15788698196411133,0.15476775169372559,0.15255308151245117,0.1408381462097168,0.13346409797668457,0.1307220458984375,0.1318361759185791,0.14861297607421875,0.13754892349243164,0.13892507553100586,0.14728593826293945,0.1483139991760254,0.14754199981689453,0.15167999267578125,0.1358630657196045,0.14437389373779297,0.1485130786895752,0.14888691902160645,0.14793992042541504,0.14078807830810547,0.14123797416687012,0.14727377891540527,0.13341212272644043,0.13680410385131836,0.13532495498657227,0.13357782363891602,0.1431560516357422,0.14489126205444336,0.1535327434539795,0.15723299980163574,0.15817499160766602,0.15954375267028809,0.1536240577697754,0.13733291625976562,0.1338648796081543,0.1547698974609375,0.152144193649292,0.15096497535705566,0.1493380069732666,0.1485729217529297,0.14925909042358398,0.14853405952453613,0.15372705459594727,0.14873290061950684,0.1501622200012207,0.15543079376220703,0.15442919731140137,0.16051483154296875,0.1516883373260498,0.15272760391235352,0.15076088905334473,0.15104889869689941,0.15297818183898926,0.15148591995239258,0.17088890075683594,0.16849994659423828,0.15317296981811523,0.14887094497680664,0.1493210792541504,0.15115904808044434,0.14750075340270996,0.148529052734375,0.1549088954925537,0.1492922306060791,0.15168309211730957,0.15044593811035156,0.14739203453063965,0.14829707145690918,0.14676809310913086,0.1503736972808838,0.14676785469055176,0.1488339900970459,0.14802813529968262,0.14761686325073242,0.14847683906555176,0.15067291259765625,0.14930295944213867,0.1517651081085205,0.1595158576965332,0.15996909141540527,0.18496203422546387,0.20804929733276367,0.1860647201538086,0.19019722938537598,0.19412684440612793,0.198408842086792,0.20637226104736328,0.21270322799682617,0.21237564086914062,0.24486303329467773,0.21277213096618652,0.20176196098327637,0.18400788307189941,0.18198013305664062,0.18532013893127441,0.21007990837097168,0.20698285102844238,0.1826181411743164,0.1775810718536377,0.18432402610778809,0.18524789810180664,0.19888901710510254,0.20618200302124023,0.19242215156555176,0.1893150806427002,0.19738507270812988,0.19178271293640137,0.18526697158813477,0.19756197929382324,0.1929471492767334,0.18465089797973633,0.2293381690979004,0.21919894218444824,0.22818207740783691,0.21564602851867676,0.19618988037109375,0.1938190460205078,0.20199179649353027,0.19516706466674805,0.19672775268554688,0.20511889457702637,0.1861870288848877,0.19268393516540527,0.18406462669372559,0.19245529174804688,0.228621244430542,0.22177791595458984,0.2269909381866455,0.23616504669189453,0.21870708465576172,0.21634984016418457,0.22622013092041016,0.21985197067260742,0.21900010108947754,0.2349388599395752,0.23062610626220703,0.22699499130249023,0.22220897674560547,0.22353816032409668,0.22306466102600098,0.21784281730651855,0.21549105644226074,0.22767281532287598,0.252988338470459,0.2534821033477783,0.24201393127441406,0.22431206703186035,0.21678900718688965,0.23297905921936035,0.22649693489074707,0.22580194473266602,0.2177720069885254,0.21526384353637695,0.21971511840820312,0.2183370590209961,0.2156519889831543,0.21649885177612305,0.2167670726776123,0.21550726890563965,0.21654295921325684,0.21187400817871094,0.21495509147644043,0.21431493759155273,0.21312379837036133,0.21309685707092285,0.21528410911560059,0.21715784072875977,0.5416288375854492,0.21557307243347168,0.21553707122802734,0.040766000747680664,0.6211960315704346,0.041297197341918945,0.04198002815246582,0.04033207893371582,0.04181814193725586,0.04296398162841797,0.04424881935119629,0.04873490333557129,0.04825711250305176,0.047873735427856445,0.048619985580444336,0.04415106773376465,0.0433199405670166,0.04326486587524414,0.04218912124633789,0.04206371307373047,0.04246926307678223,0.04276585578918457,0.04378008842468262,0.04350996017456055,0.04231595993041992,0.043122053146362305,0.04382205009460449,0.04384112358093262,0.04342198371887207,0.044200897216796875,0.043485164642333984,0.04183197021484375,0.04244804382324219,0.042670249938964844,0.04249382019042969,0.04253506660461426,0.04280686378479004,0.04281020164489746,0.048477888107299805,0.046460866928100586,0.04586625099182129,0.04680776596069336,0.04697608947753906,0.047507286071777344,0.04810285568237305,0.04866194725036621,0.060240983963012695,0.051818132400512695,0.047746896743774414,0.062161922454833984,0.6741600036621094,0.06928014755249023,0.0648047924041748,0.060899972915649414,0.06045889854431152,0.06016111373901367,0.06096005439758301,0.07474017143249512,0.07967686653137207,0.06309008598327637,0.06177186965942383,0.0622410774230957,0.06305718421936035,0.06531381607055664,0.0631551742553711,0.06412386894226074,0.06204509735107422,0.06093096733093262,0.06136012077331543,0.06001400947570801,0.06927704811096191,0.0818030834197998,0.06035304069519043,0.06045818328857422,0.06068778038024902,0.060233116149902344,0.060343027114868164,0.059149980545043945,0.059339046478271484,0.06318902969360352,0.0606689453125,0.06296706199645996,0.06056332588195801,0.0630347728729248,0.062371015548706055,0.06277990341186523,0.06322193145751953,0.06019306182861328,0.06148386001586914,0.06396889686584473,0.06087803840637207,0.06073808670043945,0.06516599655151367,0.06090688705444336,0.05988478660583496,0.0804901123046875,0.6760621070861816,0.07841086387634277,0.1147000789642334,0.12853384017944336,0.08433008193969727,0.08253002166748047,0.08289003372192383,0.10204696655273438,0.13377594947814941,0.10997414588928223,0.0852820873260498,0.08296990394592285,0.08354306221008301,0.0915062427520752,0.11606574058532715,0.08598899841308594,0.0825960636138916,0.08261489868164062,0.08191084861755371,0.08224081993103027,0.08061981201171875,0.0796811580657959,0.07967305183410645,0.07851696014404297,0.08108711242675781,0.08199691772460938,0.08597922325134277,0.09302091598510742,0.0835261344909668,0.08001589775085449,0.08866214752197266,0.0900568962097168,0.0905909538269043,0.08930325508117676,0.08824896812438965,0.08979916572570801,0.08753180503845215,0.09507513046264648,0.09073090553283691,0.09619307518005371,0.0867316722869873,0.08224105834960938,0.08551692962646484,0.08171796798706055,0.08049821853637695,0.1071469783782959,0.11063885688781738,0.11022520065307617,0.10664701461791992,0.10520815849304199,0.10491275787353516,0.10870504379272461,0.10749530792236328,0.10535502433776855,0.10438776016235352,0.10242199897766113,0.10334205627441406,0.10423707962036133,0.1049659252166748,0.10587811470031738,0.10551905632019043,0.1052401065826416,0.1048269271850586,0.10464191436767578,0.1034841537475586,0.1025698184967041,0.10961008071899414,0.10631704330444336,0.1058340072631836,0.10574221611022949,0.11649775505065918,0.1323690414428711,0.13402700424194336,0.12148308753967285,0.10827183723449707,0.10681605339050293,0.10763025283813477,0.10587596893310547,0.1058969497680664,0.10663700103759766,0.1070709228515625,0.10606122016906738,0.10560989379882812,0.10719680786132812,0.10376286506652832,0.1053309440612793,0.10512709617614746,0.4343249797821045,0.10788106918334961,0.10776591300964355,0.044139862060546875,0.6337518692016602,0.04373598098754883,0.042784929275512695,0.04297304153442383,0.043853044509887695,0.04313302040100098,0.042762041091918945,0.042983055114746094,0.04726290702819824,0.05011606216430664,0.05297493934631348,0.049488067626953125,0.04903674125671387,0.04797625541687012,0.054173946380615234,0.04879474639892578,0.04807400703430176,0.049471378326416016,0.04914093017578125,0.04762601852416992,0.04602694511413574,0.04579305648803711,0.044970035552978516,0.04350113868713379,0.047250986099243164,0.04675602912902832,0.04678487777709961,0.047728776931762695,0.04730391502380371,0.047765254974365234,0.04859781265258789,0.04752707481384277,0.04813194274902344,0.0444490909576416,0.04443979263305664,0.04435300827026367,0.053612709045410156,0.04917597770690918,0.04801797866821289,0.049330949783325195,0.04882407188415527,0.061213016510009766,0.08507418632507324],\"y0\":\" \",\"yaxis\":\"y\"}],                        {\"boxmode\":\"group\",\"legend\":{\"tracegroupgap\":0},\"margin\":{\"t\":60},\"template\":{\"data\":{\"bar\":[{\"error_x\":{\"color\":\"#2a3f5f\"},\"error_y\":{\"color\":\"#2a3f5f\"},\"marker\":{\"line\":{\"color\":\"#E5ECF6\",\"width\":0.5},\"pattern\":{\"fillmode\":\"overlay\",\"size\":10,\"solidity\":0.2}},\"type\":\"bar\"}],\"barpolar\":[{\"marker\":{\"line\":{\"color\":\"#E5ECF6\",\"width\":0.5},\"pattern\":{\"fillmode\":\"overlay\",\"size\":10,\"solidity\":0.2}},\"type\":\"barpolar\"}],\"carpet\":[{\"aaxis\":{\"endlinecolor\":\"#2a3f5f\",\"gridcolor\":\"white\",\"linecolor\":\"white\",\"minorgridcolor\":\"white\",\"startlinecolor\":\"#2a3f5f\"},\"baxis\":{\"endlinecolor\":\"#2a3f5f\",\"gridcolor\":\"white\",\"linecolor\":\"white\",\"minorgridcolor\":\"white\",\"startlinecolor\":\"#2a3f5f\"},\"type\":\"carpet\"}],\"choropleth\":[{\"colorbar\":{\"outlinewidth\":0,\"ticks\":\"\"},\"type\":\"choropleth\"}],\"contour\":[{\"colorbar\":{\"outlinewidth\":0,\"ticks\":\"\"},\"colorscale\":[[0.0,\"#0d0887\"],[0.1111111111111111,\"#46039f\"],[0.2222222222222222,\"#7201a8\"],[0.3333333333333333,\"#9c179e\"],[0.4444444444444444,\"#bd3786\"],[0.5555555555555556,\"#d8576b\"],[0.6666666666666666,\"#ed7953\"],[0.7777777777777778,\"#fb9f3a\"],[0.8888888888888888,\"#fdca26\"],[1.0,\"#f0f921\"]],\"type\":\"contour\"}],\"contourcarpet\":[{\"colorbar\":{\"outlinewidth\":0,\"ticks\":\"\"},\"type\":\"contourcarpet\"}],\"heatmap\":[{\"colorbar\":{\"outlinewidth\":0,\"ticks\":\"\"},\"colorscale\":[[0.0,\"#0d0887\"],[0.1111111111111111,\"#46039f\"],[0.2222222222222222,\"#7201a8\"],[0.3333333333333333,\"#9c179e\"],[0.4444444444444444,\"#bd3786\"],[0.5555555555555556,\"#d8576b\"],[0.6666666666666666,\"#ed7953\"],[0.7777777777777778,\"#fb9f3a\"],[0.8888888888888888,\"#fdca26\"],[1.0,\"#f0f921\"]],\"type\":\"heatmap\"}],\"heatmapgl\":[{\"colorbar\":{\"outlinewidth\":0,\"ticks\":\"\"},\"colorscale\":[[0.0,\"#0d0887\"],[0.1111111111111111,\"#46039f\"],[0.2222222222222222,\"#7201a8\"],[0.3333333333333333,\"#9c179e\"],[0.4444444444444444,\"#bd3786\"],[0.5555555555555556,\"#d8576b\"],[0.6666666666666666,\"#ed7953\"],[0.7777777777777778,\"#fb9f3a\"],[0.8888888888888888,\"#fdca26\"],[1.0,\"#f0f921\"]],\"type\":\"heatmapgl\"}],\"histogram\":[{\"marker\":{\"pattern\":{\"fillmode\":\"overlay\",\"size\":10,\"solidity\":0.2}},\"type\":\"histogram\"}],\"histogram2d\":[{\"colorbar\":{\"outlinewidth\":0,\"ticks\":\"\"},\"colorscale\":[[0.0,\"#0d0887\"],[0.1111111111111111,\"#46039f\"],[0.2222222222222222,\"#7201a8\"],[0.3333333333333333,\"#9c179e\"],[0.4444444444444444,\"#bd3786\"],[0.5555555555555556,\"#d8576b\"],[0.6666666666666666,\"#ed7953\"],[0.7777777777777778,\"#fb9f3a\"],[0.8888888888888888,\"#fdca26\"],[1.0,\"#f0f921\"]],\"type\":\"histogram2d\"}],\"histogram2dcontour\":[{\"colorbar\":{\"outlinewidth\":0,\"ticks\":\"\"},\"colorscale\":[[0.0,\"#0d0887\"],[0.1111111111111111,\"#46039f\"],[0.2222222222222222,\"#7201a8\"],[0.3333333333333333,\"#9c179e\"],[0.4444444444444444,\"#bd3786\"],[0.5555555555555556,\"#d8576b\"],[0.6666666666666666,\"#ed7953\"],[0.7777777777777778,\"#fb9f3a\"],[0.8888888888888888,\"#fdca26\"],[1.0,\"#f0f921\"]],\"type\":\"histogram2dcontour\"}],\"mesh3d\":[{\"colorbar\":{\"outlinewidth\":0,\"ticks\":\"\"},\"type\":\"mesh3d\"}],\"parcoords\":[{\"line\":{\"colorbar\":{\"outlinewidth\":0,\"ticks\":\"\"}},\"type\":\"parcoords\"}],\"pie\":[{\"automargin\":true,\"type\":\"pie\"}],\"scatter\":[{\"marker\":{\"colorbar\":{\"outlinewidth\":0,\"ticks\":\"\"}},\"type\":\"scatter\"}],\"scatter3d\":[{\"line\":{\"colorbar\":{\"outlinewidth\":0,\"ticks\":\"\"}},\"marker\":{\"colorbar\":{\"outlinewidth\":0,\"ticks\":\"\"}},\"type\":\"scatter3d\"}],\"scattercarpet\":[{\"marker\":{\"colorbar\":{\"outlinewidth\":0,\"ticks\":\"\"}},\"type\":\"scattercarpet\"}],\"scattergeo\":[{\"marker\":{\"colorbar\":{\"outlinewidth\":0,\"ticks\":\"\"}},\"type\":\"scattergeo\"}],\"scattergl\":[{\"marker\":{\"colorbar\":{\"outlinewidth\":0,\"ticks\":\"\"}},\"type\":\"scattergl\"}],\"scattermapbox\":[{\"marker\":{\"colorbar\":{\"outlinewidth\":0,\"ticks\":\"\"}},\"type\":\"scattermapbox\"}],\"scatterpolar\":[{\"marker\":{\"colorbar\":{\"outlinewidth\":0,\"ticks\":\"\"}},\"type\":\"scatterpolar\"}],\"scatterpolargl\":[{\"marker\":{\"colorbar\":{\"outlinewidth\":0,\"ticks\":\"\"}},\"type\":\"scatterpolargl\"}],\"scatterternary\":[{\"marker\":{\"colorbar\":{\"outlinewidth\":0,\"ticks\":\"\"}},\"type\":\"scatterternary\"}],\"surface\":[{\"colorbar\":{\"outlinewidth\":0,\"ticks\":\"\"},\"colorscale\":[[0.0,\"#0d0887\"],[0.1111111111111111,\"#46039f\"],[0.2222222222222222,\"#7201a8\"],[0.3333333333333333,\"#9c179e\"],[0.4444444444444444,\"#bd3786\"],[0.5555555555555556,\"#d8576b\"],[0.6666666666666666,\"#ed7953\"],[0.7777777777777778,\"#fb9f3a\"],[0.8888888888888888,\"#fdca26\"],[1.0,\"#f0f921\"]],\"type\":\"surface\"}],\"table\":[{\"cells\":{\"fill\":{\"color\":\"#EBF0F8\"},\"line\":{\"color\":\"white\"}},\"header\":{\"fill\":{\"color\":\"#C8D4E3\"},\"line\":{\"color\":\"white\"}},\"type\":\"table\"}]},\"layout\":{\"annotationdefaults\":{\"arrowcolor\":\"#2a3f5f\",\"arrowhead\":0,\"arrowwidth\":1},\"autotypenumbers\":\"strict\",\"coloraxis\":{\"colorbar\":{\"outlinewidth\":0,\"ticks\":\"\"}},\"colorscale\":{\"diverging\":[[0,\"#8e0152\"],[0.1,\"#c51b7d\"],[0.2,\"#de77ae\"],[0.3,\"#f1b6da\"],[0.4,\"#fde0ef\"],[0.5,\"#f7f7f7\"],[0.6,\"#e6f5d0\"],[0.7,\"#b8e186\"],[0.8,\"#7fbc41\"],[0.9,\"#4d9221\"],[1,\"#276419\"]],\"sequential\":[[0.0,\"#0d0887\"],[0.1111111111111111,\"#46039f\"],[0.2222222222222222,\"#7201a8\"],[0.3333333333333333,\"#9c179e\"],[0.4444444444444444,\"#bd3786\"],[0.5555555555555556,\"#d8576b\"],[0.6666666666666666,\"#ed7953\"],[0.7777777777777778,\"#fb9f3a\"],[0.8888888888888888,\"#fdca26\"],[1.0,\"#f0f921\"]],\"sequentialminus\":[[0.0,\"#0d0887\"],[0.1111111111111111,\"#46039f\"],[0.2222222222222222,\"#7201a8\"],[0.3333333333333333,\"#9c179e\"],[0.4444444444444444,\"#bd3786\"],[0.5555555555555556,\"#d8576b\"],[0.6666666666666666,\"#ed7953\"],[0.7777777777777778,\"#fb9f3a\"],[0.8888888888888888,\"#fdca26\"],[1.0,\"#f0f921\"]]},\"colorway\":[\"#636efa\",\"#EF553B\",\"#00cc96\",\"#ab63fa\",\"#FFA15A\",\"#19d3f3\",\"#FF6692\",\"#B6E880\",\"#FF97FF\",\"#FECB52\"],\"font\":{\"color\":\"#2a3f5f\"},\"geo\":{\"bgcolor\":\"white\",\"lakecolor\":\"white\",\"landcolor\":\"#E5ECF6\",\"showlakes\":true,\"showland\":true,\"subunitcolor\":\"white\"},\"hoverlabel\":{\"align\":\"left\"},\"hovermode\":\"closest\",\"mapbox\":{\"style\":\"light\"},\"paper_bgcolor\":\"white\",\"plot_bgcolor\":\"#E5ECF6\",\"polar\":{\"angularaxis\":{\"gridcolor\":\"white\",\"linecolor\":\"white\",\"ticks\":\"\"},\"bgcolor\":\"#E5ECF6\",\"radialaxis\":{\"gridcolor\":\"white\",\"linecolor\":\"white\",\"ticks\":\"\"}},\"scene\":{\"xaxis\":{\"backgroundcolor\":\"#E5ECF6\",\"gridcolor\":\"white\",\"gridwidth\":2,\"linecolor\":\"white\",\"showbackground\":true,\"ticks\":\"\",\"zerolinecolor\":\"white\"},\"yaxis\":{\"backgroundcolor\":\"#E5ECF6\",\"gridcolor\":\"white\",\"gridwidth\":2,\"linecolor\":\"white\",\"showbackground\":true,\"ticks\":\"\",\"zerolinecolor\":\"white\"},\"zaxis\":{\"backgroundcolor\":\"#E5ECF6\",\"gridcolor\":\"white\",\"gridwidth\":2,\"linecolor\":\"white\",\"showbackground\":true,\"ticks\":\"\",\"zerolinecolor\":\"white\"}},\"shapedefaults\":{\"line\":{\"color\":\"#2a3f5f\"}},\"ternary\":{\"aaxis\":{\"gridcolor\":\"white\",\"linecolor\":\"white\",\"ticks\":\"\"},\"baxis\":{\"gridcolor\":\"white\",\"linecolor\":\"white\",\"ticks\":\"\"},\"bgcolor\":\"#E5ECF6\",\"caxis\":{\"gridcolor\":\"white\",\"linecolor\":\"white\",\"ticks\":\"\"}},\"title\":{\"x\":0.05},\"xaxis\":{\"automargin\":true,\"gridcolor\":\"white\",\"linecolor\":\"white\",\"ticks\":\"\",\"title\":{\"standoff\":15},\"zerolinecolor\":\"white\",\"zerolinewidth\":2},\"yaxis\":{\"automargin\":true,\"gridcolor\":\"white\",\"linecolor\":\"white\",\"ticks\":\"\",\"title\":{\"standoff\":15},\"zerolinecolor\":\"white\",\"zerolinewidth\":2}}},\"xaxis\":{\"anchor\":\"y\",\"domain\":[0.0,1.0],\"title\":{\"text\":\"substep_label\"}},\"yaxis\":{\"anchor\":\"x\",\"domain\":[0.0,1.0],\"title\":{\"text\":\"psub_time\"}}},                        {\"responsive\": true}                    ).then(function(){\n",
       "                            \n",
       "var gd = document.getElementById('157a134c-f1c8-443b-ac1c-5506dc887c16');\n",
       "var x = new MutationObserver(function (mutations, observer) {{\n",
       "        var display = window.getComputedStyle(gd).display;\n",
       "        if (!display || display === 'none') {{\n",
       "            console.log([gd, 'removed!']);\n",
       "            Plotly.purge(gd);\n",
       "            observer.disconnect();\n",
       "        }}\n",
       "}});\n",
       "\n",
       "// Listen for the removal of the full notebook cells\n",
       "var notebookContainer = gd.closest('#notebook-container');\n",
       "if (notebookContainer) {{\n",
       "    x.observe(notebookContainer, {childList: true});\n",
       "}}\n",
       "\n",
       "// Listen for the clearing of the current output cell\n",
       "var outputEl = gd.closest('.output');\n",
       "if (outputEl) {{\n",
       "    x.observe(outputEl, {childList: true});\n",
       "}}\n",
       "\n",
       "                        })                };                });            </script>        </div>"
      ]
     },
     "metadata": {},
     "output_type": "display_data"
    }
   ],
   "source": [
    "visualize_substep_impact(df, relative=False)"
   ]
  },
  {
   "cell_type": "code",
   "execution_count": 7,
   "id": "patient-lottery",
   "metadata": {},
   "outputs": [],
   "source": [
    "import itertools\n",
    "import pandas as pd\n",
    "pd.set_option('display.max_rows', 100)\n",
    "validator_df = pd.DataFrame(\n",
    "    itertools.chain(*df[((df.substep == 0) | (df.substep == max(df.substep))) & (df.timestep % 12 == 1) & (df.current_slot > 11)][\"current_validator_state\"].iloc[:])\n",
    ")\n",
    "validator_df[\"previous_balance\"] = validator_df.groupby([\"validator_index\"])[[\"balance\"]].shift()\n",
    "validator_df[\"balance_diff\"] = validator_df[\"balance\"] - validator_df[\"previous_balance\"]\n",
    "validator_df = validator_df[validator_df.slot > 12]"
   ]
  },
  {
   "cell_type": "markdown",
   "id": "unsigned-arctic",
   "metadata": {},
   "source": [
    "## Obtaining rewards per duty\n",
    "\n",
    "We isolate validators who occupied a unique role over a slot to obtain the rewards for block proposers and sync committee members. When rewards are given out during the epoch transition, the minimum received by any validator is received by a validator who neither proposed a block for the whole epoch and was never part of the sync committee, giving us the attester reward received by one validator."
   ]
  },
  {
   "cell_type": "code",
   "execution_count": 8,
   "id": "brilliant-static",
   "metadata": {
    "tags": []
   },
   "outputs": [
    {
     "name": "stdout",
     "output_type": "stream",
     "text": [
      "block proposer reward = 1599997.0\n"
     ]
    }
   ],
   "source": [
    "block_proposer_reward = validator_df[(validator_df.block_proposer == 1) & (validator_df.sync_committee == 0)].iloc[0][\"balance_diff\"]\n",
    "print(f\"block proposer reward = {block_proposer_reward}\")"
   ]
  },
  {
   "cell_type": "code",
   "execution_count": 9,
   "id": "prompt-portrait",
   "metadata": {},
   "outputs": [
    {
     "name": "stdout",
     "output_type": "stream",
     "text": [
      "attester reward = 2160000.0\n"
     ]
    }
   ],
   "source": [
    "attester_reward = min(validator_df[validator_df.slot % br.specs.SLOTS_PER_EPOCH == 0][\"balance_diff\"])\n",
    "print(f\"attester reward = {attester_reward}\")"
   ]
  },
  {
   "cell_type": "code",
   "execution_count": 10,
   "id": "breathing-butter",
   "metadata": {},
   "outputs": [
    {
     "name": "stdout",
     "output_type": "stream",
     "text": [
      "sync committee reward = 100000.0\n"
     ]
    }
   ],
   "source": [
    "sync_committee_reward = validator_df[(validator_df.block_proposer == 0) & (validator_df.sync_committee == 1)].iloc[0][\"balance_diff\"]\n",
    "print(f\"sync committee reward = {sync_committee_reward}\")"
   ]
  },
  {
   "cell_type": "code",
   "execution_count": 11,
   "id": "polished-arabic",
   "metadata": {},
   "outputs": [
    {
     "name": "stdout",
     "output_type": "stream",
     "text": [
      "base reward = 2560000\n"
     ]
    }
   ],
   "source": [
    "base_reward = df.iloc[0][\"base_reward\"]\n",
    "print(f\"base reward = {base_reward}\")"
   ]
  },
  {
   "cell_type": "markdown",
   "id": "engaging-observation",
   "metadata": {},
   "source": [
    "Make our checks."
   ]
  },
  {
   "cell_type": "code",
   "execution_count": 12,
   "id": "available-description",
   "metadata": {},
   "outputs": [
    {
     "name": "stdout",
     "output_type": "stream",
     "text": [
      "expected total per epoch = 51200000 vs. realised total = 51199988.0\n",
      "percent of attester rewards = 0.84375, expected 0.84375\n",
      "percent of sync committee rewards = 0.03125, expected 0.03125\n",
      "percent of block proposer rewards = 0.124999765625, expected 0.125\n"
     ]
    }
   ],
   "source": [
    "total_per_epoch = num_validators * base_reward\n",
    "total_for_proposers = int(br.specs.SLOTS_PER_EPOCH) * block_proposer_reward\n",
    "expected_proposers = float(br.specs.PROPOSER_WEIGHT) / br.specs.WEIGHT_DENOMINATOR\n",
    "\n",
    "total_for_attesters = num_validators * attester_reward\n",
    "expected_attesters = float(br.specs.TIMELY_SOURCE_WEIGHT + br.specs.TIMELY_TARGET_WEIGHT + br.specs.TIMELY_HEAD_WEIGHT) / br.specs.WEIGHT_DENOMINATOR\n",
    "\n",
    "total_for_sync_committee = int(br.specs.SLOTS_PER_EPOCH) * int(br.specs.SYNC_COMMITTEE_SIZE) * sync_committee_reward\n",
    "expected_sync = float(br.specs.SYNC_REWARD_WEIGHT) / br.specs.WEIGHT_DENOMINATOR\n",
    "\n",
    "print(f\"expected total per epoch = {total_per_epoch} vs. realised total = {total_for_proposers + total_for_attesters + total_for_sync_committee}\")\n",
    "print(f\"percent of attester rewards = {total_for_attesters / total_per_epoch}, expected {expected_attesters}\")\n",
    "print(f\"percent of sync committee rewards = {total_for_sync_committee / total_per_epoch}, expected {expected_sync}\")\n",
    "print(f\"percent of block proposer rewards = {total_for_proposers / total_per_epoch}, expected {expected_proposers}\")"
   ]
  },
  {
   "cell_type": "raw",
   "id": "driven-allocation",
   "metadata": {},
   "source": [
    "Simulating validator rewards in Altair"
   ]
  },
  {
   "cell_type": "raw",
   "id": "touched-messenger",
   "metadata": {},
   "source": []
  },
  {
   "cell_type": "raw",
   "id": "caring-publisher",
   "metadata": {},
   "source": [
    "// References + footnotes\n",
    "\n",
    "// Authors\n",
    "let authorData = [\"barnabe\"];"
   ]
  },
  {
   "cell_type": "raw",
   "id": "persistent-proof",
   "metadata": {},
   "source": []
  }
 ],
 "metadata": {
  "desc": "Checking incentive soundness in Altair",
  "kernelspec": {
   "display_name": "Python 3",
   "language": "python",
   "name": "python3"
  },
  "language_info": {
   "codemirror_mode": {
    "name": "ipython",
    "version": 3
   },
   "file_extension": ".py",
   "mimetype": "text/x-python",
   "name": "python",
   "nbconvert_exporter": "python",
   "pygments_lexer": "ipython3",
   "version": "3.8.2"
  },
  "path": "notebooks/altair_incentives.html",
  "repo": "beaconrunner",
  "title": "Altair incentives check"
 },
 "nbformat": 4,
 "nbformat_minor": 5
}
