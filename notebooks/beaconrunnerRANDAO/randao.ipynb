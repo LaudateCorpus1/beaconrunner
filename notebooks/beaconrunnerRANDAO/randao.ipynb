{
 "metadata": {
  "language_info": {
   "name": "python",
   "version": "3.9.0",
   "mimetype": "text/x-python",
   "codemirror_mode": {
    "name": "ipython",
    "version": 3
   },
   "pygments_lexer": "ipython3",
   "nbconvert_exporter": "python",
   "file_extension": ".py"
  },
  "orig_nbformat": 4,
  "kernelspec": {
   "name": "python3",
   "display_name": "Python 3.9.0 64-bit ('venv': venv)"
  },
  "interpreter": {
   "hash": "2088789ee8d1a9e780e057192b486a458b41806433943d577ef5196b51de1a64"
  }
 },
 "nbformat": 4,
 "nbformat_minor": 2,
 "cells": [
  {
   "cell_type": "markdown",
   "source": [
    "## Housekeeping\n",
    "Let's first set up our environment. "
   ],
   "metadata": {}
  },
  {
   "cell_type": "code",
   "execution_count": 1,
   "source": [
    "import importlib\n",
    "import types\n",
    "from eth2spec.config.config_util import prepare_config\n",
    "from eth2spec.utils.ssz.ssz_impl import hash_tree_root"
   ],
   "outputs": [],
   "metadata": {}
  },
  {
   "cell_type": "code",
   "execution_count": 2,
   "source": [
    "import os, sys\n",
    "sys.path.insert(1, os.path.realpath(os.path.pardir) + \"/notebooks/thunderdome\")\n",
    "import beaconrunner as br"
   ],
   "outputs": [],
   "metadata": {}
  },
  {
   "cell_type": "code",
   "execution_count": 3,
   "source": [
    "import pandas as pd\n",
    "import numpy as np\n",
    "\n",
    "import logging\n",
    "logger = logging.getLogger()\n",
    "logger.setLevel(logging.CRITICAL)"
   ],
   "outputs": [],
   "metadata": {}
  },
  {
   "cell_type": "markdown",
   "source": [
    "We would rather see fast simulations, so let's use epochs that only last 4 slots..."
   ],
   "metadata": {}
  },
  {
   "cell_type": "code",
   "execution_count": 4,
   "source": [
    "prepare_config(\".\", \"fast.yaml\") # 4 slots per epoch\n",
    "br.reload_package(br)\n",
    "from beaconrunner.specs import SLOTS_PER_EPOCH, SECONDS_PER_SLOT\n",
    "print(\"SLOTS_PER_EPOCH: \", SLOTS_PER_EPOCH)"
   ],
   "outputs": [
    {
     "output_type": "stream",
     "name": "stdout",
     "text": [
      "SLOTS_PER_EPOCH:  4\n"
     ]
    }
   ],
   "metadata": {}
  },
  {
   "cell_type": "markdown",
   "source": [
    "Let's import some of the beaconrunner logic"
   ],
   "metadata": {}
  },
  {
   "cell_type": "code",
   "execution_count": 5,
   "source": [
    "import beaconrunner.simulator as simulator\n",
    "import beaconrunner.network as network\n",
    "from beaconrunner.validators.RANDAOValidator import RANDAOValidator\n",
    "from beaconrunner.validators.LazyValidator import LazyValidator"
   ],
   "outputs": [],
   "metadata": {}
  },
  {
   "cell_type": "markdown",
   "source": [
    "## How does the RANDAO game work?"
   ],
   "metadata": {}
  },
  {
   "cell_type": "code",
   "execution_count": 6,
   "source": [
    "num_validators = 16\n",
    "validators = [LazyValidator(i) for i in range(num_validators)]\n",
    "\n",
    "# Create a genesis state\n",
    "genesis_state = br.simulator.get_genesis_state(validators, seed=\"let's play randao\")\n",
    "# Validators load the state\n",
    "[v.load_state(genesis_state.copy()) for v in validators]\n",
    "simulator.skip_genesis_block(validators) # nothing to propose at genesis, skip to slot 1!"
   ],
   "outputs": [],
   "metadata": {}
  },
  {
   "cell_type": "markdown",
   "source": [
    "For simplicity let's just assume a fully connected network, meaning that all validators are connected with each other."
   ],
   "metadata": {}
  },
  {
   "cell_type": "code",
   "execution_count": 7,
   "source": [
    "set_a = network.NetworkSet(validators=list(range(10)))\n",
    "net = network.Network(validators = validators, sets = list([set_a]))"
   ],
   "outputs": [],
   "metadata": {}
  },
  {
   "cell_type": "code",
   "execution_count": 8,
   "source": [
    "print(\"Genesis time =\", validators[0].store.genesis_time, \"seconds\")\n",
    "print(\"Store time =\", validators[0].store.time, \"seconds\")\n",
    "print(\"Current slot =\", validators[0].data.slot)"
   ],
   "outputs": [
    {
     "output_type": "stream",
     "name": "stdout",
     "text": [
      "Genesis time = 1578182400 seconds\n",
      "Store time = 1578182412 seconds\n",
      "Current slot = 1\n"
     ]
    }
   ],
   "metadata": {}
  },
  {
   "cell_type": "code",
   "execution_count": 9,
   "source": [
    "def get_current_epoch_proposers():\n",
    "    return get_epoch_proposers(epochs_ahead=0)\n",
    "\n",
    "def get_next_epoch_proposers():\n",
    "    return get_epoch_proposers(epochs_ahead=1)\n",
    "\n",
    "def get_epoch_proposers(epochs_ahead=0):\n",
    "    validator = net.validators[0]\n",
    "    current_slot = br.specs.get_current_slot(validator.store)\n",
    "\n",
    "    current_head_root = validator.get_head()\n",
    "    current_state = validator.store.block_states[current_head_root].copy()\n",
    "    current_epoch = br.specs.get_current_epoch(current_state)\n",
    "    start_slot = br.specs.compute_start_slot_at_epoch(current_epoch)\n",
    "    start_state = current_state.copy() if start_slot == current_state.slot else \\\n",
    "        validator.store.block_states[br.specs.get_block_root(current_state, current_epoch)].copy()\n",
    "    \n",
    "    current_epoch_proposers = []\n",
    "    \n",
    "    for slot in range(epochs_ahead * SLOTS_PER_EPOCH + start_slot, start_slot + (epochs_ahead+1) * SLOTS_PER_EPOCH):\n",
    "        if slot < start_state.slot:\n",
    "            continue\n",
    "        if start_state.slot < slot:\n",
    "            br.specs.process_slots(start_state, slot)\n",
    "        current_epoch_proposers.append(br.specs.get_beacon_proposer_index(start_state))\n",
    "    return current_epoch_proposers"
   ],
   "outputs": [],
   "metadata": {}
  },
  {
   "cell_type": "code",
   "execution_count": 10,
   "source": [
    "genesis_proposer_expectation = \"\"\n",
    "for i in range(10):\n",
    "    genesis_proposer_expectation += \"Proposer indices for epoch {}: {} \\n\".format(i, get_epoch_proposers(epochs_ahead=i))\n",
    "print(genesis_proposer_expectation)"
   ],
   "outputs": [
    {
     "output_type": "stream",
     "name": "stdout",
     "text": [
      "Proposer indices for epoch 0: [5, 7, 15, 4] \n",
      "Proposer indices for epoch 1: [6, 0, 5, 9] \n",
      "Proposer indices for epoch 2: [15, 2, 15, 6] \n",
      "Proposer indices for epoch 3: [4, 12, 2, 12] \n",
      "Proposer indices for epoch 4: [2, 15, 14, 4] \n",
      "Proposer indices for epoch 5: [15, 2, 7, 9] \n",
      "Proposer indices for epoch 6: [1, 14, 2, 1] \n",
      "Proposer indices for epoch 7: [3, 11, 5, 12] \n",
      "Proposer indices for epoch 8: [12, 15, 9, 1] \n",
      "Proposer indices for epoch 9: [11, 14, 9, 3] \n",
      "\n"
     ]
    }
   ],
   "metadata": {}
  },
  {
   "cell_type": "markdown",
   "source": [
    "We now have a schedule for who is expected to propose when. But hold on, what about the parameters `MIN_SEED_LOKOK_AHEAD=1` and `MAX_SEED_LOOKAHEAD=4`?!? Good catch! \n",
    "\n",
    "The `MAX_SEED_LOOKAHEAD` is actually the minimum delay on validator activations and exits; it basically means that validators strategically activating and exiting can only affect the seed 4 epochs into the future, leaving a space of 3 epochs within which proposers can mix-in unknown info to scramble the seed and hence make stake grinding via activating or exiting validators non-viable.\n",
    "\n",
    "A random seed is used to select all the committees and proposers for an epoch. Every epoch, the beacon chain accumulates randomness from proposers via the RANDAO and stores it. The seed for the current epoch is based on the RANDAO output from the epoch `MIN_SEED_LOOKUP + 1` ago. With `MIN_SEED_LOOKAHEAD` set to one, the effect is that we can know the seed for the current epoch and the next epoch, but not beyond (since the next-but-one epoch depends on randomness from the current epoch that hasn't been accumulated yet).\n",
    "\n",
    "Let's see if this is true, i.e. \"Don't trust, but verify!\""
   ],
   "metadata": {}
  },
  {
   "cell_type": "markdown",
   "source": [
    "### Simulations\n",
    "\n",
    "Let's first create some observer functions that extract relevant data at each timestep for us"
   ],
   "metadata": {}
  },
  {
   "cell_type": "code",
   "execution_count": 11,
   "source": [
    "import numpy as np\n",
    "\n",
    "def current_slot(params, step, sL, s, _input):\n",
    "    return (\"current_slot\", s[\"network\"].validators[0].data.slot)\n",
    "\n",
    "def current_epoch(params, step, sL, s, _input):\n",
    "    return (\"current_epoch\", s[\"network\"].validators[0].data.current_epoch)\n",
    "\n",
    "def get_epoch_proposers(epochs_ahead=0):\n",
    "    validator = net.validators[0]\n",
    "    current_slot = br.specs.get_current_slot(validator.store)\n",
    "\n",
    "    current_head_root = validator.get_head()\n",
    "    current_state = validator.store.block_states[current_head_root].copy()\n",
    "    current_epoch = br.specs.get_current_epoch(current_state)\n",
    "    start_slot = br.specs.compute_start_slot_at_epoch(current_epoch)\n",
    "    start_state = current_state.copy() if start_slot == current_state.slot else \\\n",
    "        validator.store.block_states[br.specs.get_block_root(current_state, current_epoch)].copy()\n",
    "    \n",
    "    current_epoch_proposers = []\n",
    "    \n",
    "    for slot in range(epochs_ahead * SLOTS_PER_EPOCH + start_slot, start_slot + (epochs_ahead+1) * SLOTS_PER_EPOCH):\n",
    "        if slot < start_state.slot:\n",
    "            continue\n",
    "        if start_state.slot < slot:\n",
    "            br.specs.process_slots(start_state, slot)\n",
    "        current_epoch_proposers.append(br.specs.get_beacon_proposer_index(start_state))\n",
    "    return current_epoch_proposers\n",
    "\n",
    "def get_epoch_proposers(validator, epochs_ahead=0):\n",
    "    current_slot = br.specs.get_current_slot(validator.store)\n",
    "    current_head_root = validator.get_head()\n",
    "    current_state = validator.store.block_states[current_head_root].copy()\n",
    "    current_epoch = br.specs.get_current_epoch(current_state)\n",
    "    start_slot = br.specs.compute_start_slot_at_epoch(current_epoch)\n",
    "    start_state = current_state.copy() if start_slot == current_state.slot else \\\n",
    "        validator.store.block_states[br.specs.get_block_root(current_state, current_epoch)].copy()\n",
    "    \n",
    "    epoch_proposers = []\n",
    "    \n",
    "    for slot in range(epochs_ahead * SLOTS_PER_EPOCH + start_slot, start_slot + (epochs_ahead+1) * SLOTS_PER_EPOCH):\n",
    "        if slot < start_state.slot:\n",
    "            continue\n",
    "        if start_state.slot < slot:\n",
    "            br.specs.process_slots(start_state, slot)\n",
    "        epoch_proposers.append(br.specs.get_beacon_proposer_index(start_state))\n",
    "    return epoch_proposers\n",
    "\n",
    "def get_current_proposer_indices(params, step, sL, s, _input):\n",
    "    current_epoch_proposers = get_epoch_proposers(validator=s[\"network\"].validators[0], epochs_ahead=0)\n",
    "    return (\"current_epoch_proposer_indices\", current_epoch_proposers)\n",
    "\n",
    "def get_next_proposer_indices(params, step, sL, s, _input):\n",
    "    next_epoch_proposers = get_epoch_proposers(validator=s[\"network\"].validators[0], epochs_ahead=1)\n",
    "    return (\"next_epoch_proposer_indices\", next_epoch_proposers)\n",
    "\n",
    "def balances(params, step, sL, s, _input):\n",
    "    validators = s[\"network\"].validators\n",
    "    validator = validators[0]\n",
    "    head = br.specs.get_head(validator.store)\n",
    "    current_state = validator.store.block_states[head]\n",
    "    current_epoch = br.specs.get_current_epoch(current_state)\n",
    "    indices = [i for i, v in enumerate(validators)]\n",
    "    balances = [b for i, b in enumerate(current_state.balances)]\n",
    "    return (\"balances\", [np.round(br.utils.eth2.gwei_to_eth(balance), 6) for balance in balances])\n",
    "\n",
    "observers = {\n",
    "    \"current_epoch\": current_epoch,\n",
    "    \"current_slot\": current_slot,\n",
    "    \"current_epoch_proposer_indices\": get_current_proposer_indices,\n",
    "    \"next_epoch_proposer_indices\": get_next_proposer_indices,\n",
    "    \"balances\": balances,\n",
    "}"
   ],
   "outputs": [],
   "metadata": {}
  },
  {
   "cell_type": "code",
   "execution_count": 12,
   "source": [
    "from random import sample\n",
    "from beaconrunner.validators.LazyValidator import LazyValidator\n",
    "\n",
    "def simulate_once(network_sets, num_run, num_validators, network_update_rate, scenario=\"honest\"):\n",
    "    # Generate validators\n",
    "    validators = [RANDAOValidator(i) for i in range(num_validators)]\n",
    "    \n",
    "    # Create a genesis state\n",
    "    genesis_state = br.simulator.get_genesis_state(validators, seed=\"let's play randao\")\n",
    "    \n",
    "    # Validators load the state\n",
    "    [v.load_state(genesis_state.copy()) for v in validators]\n",
    "\n",
    "    br.simulator.skip_genesis_block(validators) # forward time by SECONDS_PER_SLOT\n",
    "\n",
    "    network = br.network.Network(validators = validators, sets=network_sets)\n",
    "\n",
    "    parameters = br.simulator.SimulationParameters({\n",
    "        \"num_epochs\": 3,\n",
    "        \"num_run\": num_run,\n",
    "        \"frequency\": 1,\n",
    "        \"network_update_rate\": network_update_rate,\n",
    "        \"scenario\": scenario,\n",
    "    })\n",
    "\n",
    "    return br.simulator.simulate(network, parameters, observers)"
   ],
   "outputs": [],
   "metadata": {}
  },
  {
   "cell_type": "code",
   "execution_count": 13,
   "source": [
    "import pandas as pd\n",
    "import numpy as np\n",
    "\n",
    "num_validators = 16\n",
    "\n",
    "# Create the network peers\n",
    "set_a = br.network.NetworkSet(validators=list(range(num_validators)))\n",
    "network_sets = list([set_a])\n",
    "\n",
    "num_runs = 1\n",
    "network_update_rate = 1\n",
    "\n",
    "scenarios = [\"honest\", \"skip\", \"slashable\"]\n",
    "scenario = scenarios[2]\n",
    "\n",
    "single_scenario = True\n",
    "\n",
    "if single_scenario:\n",
    "    # comment/un-comment for simulating single scenario. Specify scenario above!\n",
    "    df = pd.concat([simulate_once(network_sets, num_run, num_validators, network_update_rate, scenario) for num_run in range(num_runs)])\n",
    "    df.insert(0, \"scenario\", scenario)\n",
    "else:\n",
    "    # df = pd.concat([simulate_once(network_sets, num_run, num_validators, network_update_rate, scenarios[i]) for i in range(len(scenarios)) for num_run in range(num_runs)])\n",
    "    df = pd.DataFrame()\n",
    "    for num_run in range(num_runs):\n",
    "        for i in range(len(scenarios)):\n",
    "            temp_df = simulate_once(network_sets, num_run, num_validators, network_update_rate, scenarios[i])\n",
    "            temp_df.insert(0, \"scenario\", scenarios[i])\n",
    "            df = pd.concat([df, temp_df])"
   ],
   "outputs": [
    {
     "output_type": "stream",
     "name": "stderr",
     "text": [
      "Initializing configurations: 100%|██████████| 1/1 [00:00<00:00, 151.47it/s]"
     ]
    },
    {
     "output_type": "stream",
     "name": "stdout",
     "text": [
      "Scenario  Slashable : simulating 3 epochs ( 12 slots ) at frequency 1 moves/second\n",
      "total 144 simulation steps\n",
      "\n",
      "                  ___________    ____\n",
      "  ________ __ ___/ / ____/   |  / __ \\\n",
      " / ___/ __` / __  / /   / /| | / / / /\n",
      "/ /__/ /_/ / /_/ / /___/ ___ |/ /_/ /\n",
      "\\___/\\__,_/\\__,_/\\____/_/  |_/_____/\n",
      "by cadCAD\n",
      "\n",
      "Execution Mode: local_proc\n",
      "Configuration Count: 1\n",
      "Dimensions of the first simulation: (Timesteps, Params, Runs, Vars) = (144, 3, 1, 6)\n",
      "Execution Method: local_simulations\n",
      "SimIDs   : [0]\n",
      "SubsetIDs: [0]\n",
      "Ns       : [0]\n",
      "ExpIDs   : [0]\n",
      "Execution Mode: single_threaded\n",
      "7 proposing block for slot 1\n"
     ]
    },
    {
     "output_type": "stream",
     "name": "stderr",
     "text": [
      "\n"
     ]
    },
    {
     "output_type": "stream",
     "name": "stdout",
     "text": [
      "15 proposing slashable blocks for slot 2\n",
      "4 proposing block for slot 3\n",
      "   --  4  detected a slashable incident in slot  2  by validator  15\n",
      "6 proposing block for slot 4\n",
      "0 proposing block for slot 5\n",
      "5 proposing slashable blocks for slot 6\n",
      "9 proposing block for slot 7\n",
      "   --  9  detected a slashable incident in slot  6  by validator  5\n",
      "14 proposing block for slot 8\n",
      "2 proposing block for slot 9\n",
      "timestep 100 of run 1\n",
      "12 proposing slashable blocks for slot 10\n",
      "* 5 slashed already; is shutting up!\n",
      "* 5 slashed already; is shutting up!\n",
      "11 proposing block for slot 12\n",
      "   --  11  detected a slashable incident in slot  10  by validator  12\n"
     ]
    },
    {
     "output_type": "stream",
     "name": "stderr",
     "text": [
      "Flattening results:   0%|          | 1/433 [00:00<00:01, 239.69it/s]"
     ]
    },
    {
     "output_type": "stream",
     "name": "stdout",
     "text": [
      "Total execution time: 30.77s\n"
     ]
    },
    {
     "output_type": "stream",
     "name": "stderr",
     "text": [
      "\n"
     ]
    }
   ],
   "metadata": {}
  },
  {
   "cell_type": "code",
   "execution_count": 14,
   "source": [
    "pd.set_option('max_colwidth', 300)\n",
    "df[3::3*12][[\"scenario\", \"current_epoch\", \"current_slot\", \"current_epoch_proposer_indices\", \"next_epoch_proposer_indices\", \"balances\"]]"
   ],
   "outputs": [
    {
     "output_type": "execute_result",
     "data": {
      "text/plain": [
       "      scenario  current_epoch  current_slot current_epoch_proposer_indices  \\\n",
       "3    slashable              0             1                  [5, 7, 15, 4]   \n",
       "39   slashable              0             2                  [5, 7, 15, 4]   \n",
       "75   slashable              0             3                  [5, 7, 15, 4]   \n",
       "111  slashable              1             4                   [6, 0, 5, 9]   \n",
       "147  slashable              1             5                   [6, 0, 5, 9]   \n",
       "183  slashable              1             6                   [6, 0, 5, 9]   \n",
       "219  slashable              1             7                   [6, 0, 5, 9]   \n",
       "255  slashable              2             8                 [14, 2, 12, 5]   \n",
       "291  slashable              2             9                 [14, 2, 12, 5]   \n",
       "327  slashable              2            10                 [14, 2, 12, 5]   \n",
       "363  slashable              2            11                 [14, 2, 12, 5]   \n",
       "399  slashable              3            12                  [11, 1, 5, 7]   \n",
       "\n",
       "    next_epoch_proposer_indices  \\\n",
       "3                  [6, 0, 5, 9]   \n",
       "39                 [6, 0, 5, 9]   \n",
       "75                 [6, 0, 5, 9]   \n",
       "111              [14, 2, 12, 5]   \n",
       "147              [14, 2, 12, 5]   \n",
       "183              [14, 2, 12, 5]   \n",
       "219              [14, 2, 12, 5]   \n",
       "255               [11, 1, 5, 7]   \n",
       "291               [11, 1, 5, 7]   \n",
       "327               [11, 1, 5, 7]   \n",
       "363               [11, 1, 5, 7]   \n",
       "399               [10, 6, 6, 2]   \n",
       "\n",
       "                                                                                                                                                                             balances  \n",
       "3                                                                                    [32.0, 32.0, 32.0, 32.0, 32.0, 32.0, 32.0, 32.0, 32.0, 32.0, 32.0, 32.0, 32.0, 32.0, 32.0, 32.0]  \n",
       "39                                                                                   [32.0, 32.0, 32.0, 32.0, 32.0, 32.0, 32.0, 32.0, 32.0, 32.0, 32.0, 32.0, 32.0, 32.0, 32.0, 32.0]  \n",
       "75                                                                                [32.0, 32.0, 32.0, 32.0, 32.0625, 32.0, 32.0, 32.0, 32.0, 32.0, 32.0, 32.0, 32.0, 32.0, 32.0, 31.0]  \n",
       "111                                                                               [32.0, 32.0, 32.0, 32.0, 32.0625, 32.0, 32.0, 32.0, 32.0, 32.0, 32.0, 32.0, 32.0, 32.0, 32.0, 31.0]  \n",
       "147                                                                               [32.0, 32.0, 32.0, 32.0, 32.0625, 32.0, 32.0, 32.0, 32.0, 32.0, 32.0, 32.0, 32.0, 32.0, 32.0, 31.0]  \n",
       "183                                                                               [32.0, 32.0, 32.0, 32.0, 32.0625, 32.0, 32.0, 32.0, 32.0, 32.0, 32.0, 32.0, 32.0, 32.0, 32.0, 31.0]  \n",
       "219                                                                            [32.0, 32.0, 32.0, 32.0, 32.0625, 31.0, 32.0, 32.0, 32.0, 32.0625, 32.0, 32.0, 32.0, 32.0, 32.0, 31.0]  \n",
       "255  [32.002107, 32.002107, 31.997851, 32.002107, 32.064965, 30.997851, 32.002375, 31.997851, 32.002107, 32.064607, 31.997851, 32.002107, 32.002107, 32.002107, 32.002107, 30.998277]  \n",
       "291  [32.002107, 32.002107, 31.997851, 32.002107, 32.064965, 30.997851, 32.002375, 31.997851, 32.002107, 32.064607, 31.997851, 32.002107, 32.002107, 32.002107, 32.002107, 30.998277]  \n",
       "327  [32.002107, 32.002107, 31.997851, 32.002107, 32.064965, 30.997851, 32.002375, 31.997851, 32.002107, 32.064607, 31.997851, 32.002107, 32.002107, 32.002107, 32.002107, 30.998277]  \n",
       "363  [32.002107, 32.002107, 31.997851, 32.002107, 32.064965, 30.997851, 32.002375, 31.997851, 32.002107, 32.064607, 31.997851, 32.002107, 32.002107, 32.002107, 32.002107, 30.998277]  \n",
       "399        [32.004989, 32.00463, 32.000374, 32.00463, 32.067488, 30.996192, 32.004898, 32.000374, 32.00463, 32.067399, 32.000374, 32.06713, 31.00463, 32.00463, 32.004899, 30.996191]  "
      ],
      "text/html": [
       "<div>\n",
       "<style scoped>\n",
       "    .dataframe tbody tr th:only-of-type {\n",
       "        vertical-align: middle;\n",
       "    }\n",
       "\n",
       "    .dataframe tbody tr th {\n",
       "        vertical-align: top;\n",
       "    }\n",
       "\n",
       "    .dataframe thead th {\n",
       "        text-align: right;\n",
       "    }\n",
       "</style>\n",
       "<table border=\"1\" class=\"dataframe\">\n",
       "  <thead>\n",
       "    <tr style=\"text-align: right;\">\n",
       "      <th></th>\n",
       "      <th>scenario</th>\n",
       "      <th>current_epoch</th>\n",
       "      <th>current_slot</th>\n",
       "      <th>current_epoch_proposer_indices</th>\n",
       "      <th>next_epoch_proposer_indices</th>\n",
       "      <th>balances</th>\n",
       "    </tr>\n",
       "  </thead>\n",
       "  <tbody>\n",
       "    <tr>\n",
       "      <th>3</th>\n",
       "      <td>slashable</td>\n",
       "      <td>0</td>\n",
       "      <td>1</td>\n",
       "      <td>[5, 7, 15, 4]</td>\n",
       "      <td>[6, 0, 5, 9]</td>\n",
       "      <td>[32.0, 32.0, 32.0, 32.0, 32.0, 32.0, 32.0, 32.0, 32.0, 32.0, 32.0, 32.0, 32.0, 32.0, 32.0, 32.0]</td>\n",
       "    </tr>\n",
       "    <tr>\n",
       "      <th>39</th>\n",
       "      <td>slashable</td>\n",
       "      <td>0</td>\n",
       "      <td>2</td>\n",
       "      <td>[5, 7, 15, 4]</td>\n",
       "      <td>[6, 0, 5, 9]</td>\n",
       "      <td>[32.0, 32.0, 32.0, 32.0, 32.0, 32.0, 32.0, 32.0, 32.0, 32.0, 32.0, 32.0, 32.0, 32.0, 32.0, 32.0]</td>\n",
       "    </tr>\n",
       "    <tr>\n",
       "      <th>75</th>\n",
       "      <td>slashable</td>\n",
       "      <td>0</td>\n",
       "      <td>3</td>\n",
       "      <td>[5, 7, 15, 4]</td>\n",
       "      <td>[6, 0, 5, 9]</td>\n",
       "      <td>[32.0, 32.0, 32.0, 32.0, 32.0625, 32.0, 32.0, 32.0, 32.0, 32.0, 32.0, 32.0, 32.0, 32.0, 32.0, 31.0]</td>\n",
       "    </tr>\n",
       "    <tr>\n",
       "      <th>111</th>\n",
       "      <td>slashable</td>\n",
       "      <td>1</td>\n",
       "      <td>4</td>\n",
       "      <td>[6, 0, 5, 9]</td>\n",
       "      <td>[14, 2, 12, 5]</td>\n",
       "      <td>[32.0, 32.0, 32.0, 32.0, 32.0625, 32.0, 32.0, 32.0, 32.0, 32.0, 32.0, 32.0, 32.0, 32.0, 32.0, 31.0]</td>\n",
       "    </tr>\n",
       "    <tr>\n",
       "      <th>147</th>\n",
       "      <td>slashable</td>\n",
       "      <td>1</td>\n",
       "      <td>5</td>\n",
       "      <td>[6, 0, 5, 9]</td>\n",
       "      <td>[14, 2, 12, 5]</td>\n",
       "      <td>[32.0, 32.0, 32.0, 32.0, 32.0625, 32.0, 32.0, 32.0, 32.0, 32.0, 32.0, 32.0, 32.0, 32.0, 32.0, 31.0]</td>\n",
       "    </tr>\n",
       "    <tr>\n",
       "      <th>183</th>\n",
       "      <td>slashable</td>\n",
       "      <td>1</td>\n",
       "      <td>6</td>\n",
       "      <td>[6, 0, 5, 9]</td>\n",
       "      <td>[14, 2, 12, 5]</td>\n",
       "      <td>[32.0, 32.0, 32.0, 32.0, 32.0625, 32.0, 32.0, 32.0, 32.0, 32.0, 32.0, 32.0, 32.0, 32.0, 32.0, 31.0]</td>\n",
       "    </tr>\n",
       "    <tr>\n",
       "      <th>219</th>\n",
       "      <td>slashable</td>\n",
       "      <td>1</td>\n",
       "      <td>7</td>\n",
       "      <td>[6, 0, 5, 9]</td>\n",
       "      <td>[14, 2, 12, 5]</td>\n",
       "      <td>[32.0, 32.0, 32.0, 32.0, 32.0625, 31.0, 32.0, 32.0, 32.0, 32.0625, 32.0, 32.0, 32.0, 32.0, 32.0, 31.0]</td>\n",
       "    </tr>\n",
       "    <tr>\n",
       "      <th>255</th>\n",
       "      <td>slashable</td>\n",
       "      <td>2</td>\n",
       "      <td>8</td>\n",
       "      <td>[14, 2, 12, 5]</td>\n",
       "      <td>[11, 1, 5, 7]</td>\n",
       "      <td>[32.002107, 32.002107, 31.997851, 32.002107, 32.064965, 30.997851, 32.002375, 31.997851, 32.002107, 32.064607, 31.997851, 32.002107, 32.002107, 32.002107, 32.002107, 30.998277]</td>\n",
       "    </tr>\n",
       "    <tr>\n",
       "      <th>291</th>\n",
       "      <td>slashable</td>\n",
       "      <td>2</td>\n",
       "      <td>9</td>\n",
       "      <td>[14, 2, 12, 5]</td>\n",
       "      <td>[11, 1, 5, 7]</td>\n",
       "      <td>[32.002107, 32.002107, 31.997851, 32.002107, 32.064965, 30.997851, 32.002375, 31.997851, 32.002107, 32.064607, 31.997851, 32.002107, 32.002107, 32.002107, 32.002107, 30.998277]</td>\n",
       "    </tr>\n",
       "    <tr>\n",
       "      <th>327</th>\n",
       "      <td>slashable</td>\n",
       "      <td>2</td>\n",
       "      <td>10</td>\n",
       "      <td>[14, 2, 12, 5]</td>\n",
       "      <td>[11, 1, 5, 7]</td>\n",
       "      <td>[32.002107, 32.002107, 31.997851, 32.002107, 32.064965, 30.997851, 32.002375, 31.997851, 32.002107, 32.064607, 31.997851, 32.002107, 32.002107, 32.002107, 32.002107, 30.998277]</td>\n",
       "    </tr>\n",
       "    <tr>\n",
       "      <th>363</th>\n",
       "      <td>slashable</td>\n",
       "      <td>2</td>\n",
       "      <td>11</td>\n",
       "      <td>[14, 2, 12, 5]</td>\n",
       "      <td>[11, 1, 5, 7]</td>\n",
       "      <td>[32.002107, 32.002107, 31.997851, 32.002107, 32.064965, 30.997851, 32.002375, 31.997851, 32.002107, 32.064607, 31.997851, 32.002107, 32.002107, 32.002107, 32.002107, 30.998277]</td>\n",
       "    </tr>\n",
       "    <tr>\n",
       "      <th>399</th>\n",
       "      <td>slashable</td>\n",
       "      <td>3</td>\n",
       "      <td>12</td>\n",
       "      <td>[11, 1, 5, 7]</td>\n",
       "      <td>[10, 6, 6, 2]</td>\n",
       "      <td>[32.004989, 32.00463, 32.000374, 32.00463, 32.067488, 30.996192, 32.004898, 32.000374, 32.00463, 32.067399, 32.000374, 32.06713, 31.00463, 32.00463, 32.004899, 30.996191]</td>\n",
       "    </tr>\n",
       "  </tbody>\n",
       "</table>\n",
       "</div>"
      ]
     },
     "metadata": {},
     "execution_count": 14
    }
   ],
   "metadata": {}
  },
  {
   "cell_type": "markdown",
   "source": [
    "### Experiment A\n",
    "In slot 31 let the proposer skip her duties, then forward state to slot 0 of epoch 1, record the proposer.\n",
    "\n",
    "We are using \"fast\" specs (`SLOTS_PER_EPOCH = 4`). So skip block proposal for slot `3`, otherwise proceed as usual"
   ],
   "metadata": {}
  },
  {
   "cell_type": "markdown",
   "source": [
    "### Experiment B\n",
    "In slot 31 of epoch 0, a block was proposed for slot 31, then forward the state to slot 0 of epoch 1, record the proposer.\n",
    "\n",
    "We are using \"fast\" specs (`SLOTS_PER_EPOCH = 4`). So propose a block in slot `3` as per usual and then forward state to next epoch. \n",
    "\n",
    "Are the proposers different between experiment A and B?"
   ],
   "metadata": {}
  },
  {
   "cell_type": "markdown",
   "source": [
    "### Experiment C\n",
    "\n",
    "The block at slot 31 of epoch 0 has a slashing event. Forward the state to slot 0 of epoch 1. Is it still the same proposer?\n",
    "\n",
    "We are using \"fast\" specs (`SLOTS_PER_EPOCH = 4`). Create a slashable event for block proposer of slot `3`. Then forward state to next epoch and record proposers. \n",
    "\n",
    "Can we confirm the intuition that the proposer in experiment C is different than in experiment A&B?"
   ],
   "metadata": {}
  },
  {
   "cell_type": "markdown",
   "source": [
    "## Plotting the block tree\n",
    "\n",
    "Let's visualize how the blockchain evolved"
   ],
   "metadata": {}
  },
  {
   "cell_type": "code",
   "execution_count": 15,
   "source": [
    "import networkx as nx\n",
    "import matplotlib.pyplot as plt\n",
    "import pygraphviz\n",
    "from networkx.drawing.nx_agraph import pygraphviz_layout"
   ],
   "outputs": [],
   "metadata": {}
  },
  {
   "cell_type": "code",
   "execution_count": 16,
   "source": [
    "# Just grab any Network() of any validator from the typical beaconrruner df output: \n",
    "# This allows us to access the validator'S store and recover block tree from it \n",
    "network = df[\"network\"].iloc[0]\n",
    "\n",
    "blocks_dict = network.validators[0].store.blocks # access blocks from validator's Store\n",
    "\n",
    "block_headers = list(blocks_dict.values()) # extract block headers\n",
    "block_roots = list(blocks_dict) # extract block roots\n",
    "\n",
    "tree = nx.DiGraph()\n",
    "\n",
    "# Add all blocks as nodes to directed graph\n",
    "for index, block_header in enumerate(block_headers):\n",
    "    tree.add_nodes_from([\n",
    "    (index, {\"slot\": block_header.slot, \"parent_root\": block_header.parent_root, \"block_root\": block_roots[index]})\n",
    "    ])\n",
    "\n",
    "# Add edges between blocks respectively\n",
    "for i in range(len(tree)):\n",
    "    for j in range(len(tree)):\n",
    "        if tree.nodes()[i][\"parent_root\"] == tree.nodes()[j][\"block_root\"]:\n",
    "            tree.add_edge(i, j)"
   ],
   "outputs": [],
   "metadata": {}
  },
  {
   "cell_type": "code",
   "execution_count": 17,
   "source": [
    "# latest_block_root = network.validators[0].get_head()\n",
    "# last_block_index = [x for x,y in tree.nodes(data=True) if y['block_root']==latest_block_root][0]\n",
    "\n",
    "def get_node_index(block_root):\n",
    "    return [x for x,y in tree.nodes(data=True) if y['block_root']==block_root][0]\n",
    "\n",
    "def get_parent_node_index(block_index):\n",
    "    parent_block_root = block_headers[block_index].parent_root\n",
    "    parent_node_index = get_node_index(parent_block_root)\n",
    "    return parent_node_index\n",
    "\n",
    "def tag_chain(network):\n",
    "    latest_block_root = network.validators[0].get_head()\n",
    "    last_block_index = [x for x,y in tree.nodes(data=True) if y['block_root']==latest_block_root][0]\n",
    "\n",
    "    canonical_chain = [last_block_index]\n",
    "    query_next = last_block_index\n",
    "    while True:\n",
    "        parent = get_parent_node_index(query_next)\n",
    "        canonical_chain.insert(0, parent)\n",
    "        if parent == 0: #genesis\n",
    "            break\n",
    "        query_next = parent\n",
    "\n",
    "    orphaned_chain = list(set(list(range(canonical_chain[-1]+1))) - set(canonical_chain))\n",
    "\n",
    "    return canonical_chain, orphaned_chain"
   ],
   "outputs": [],
   "metadata": {}
  },
  {
   "cell_type": "code",
   "execution_count": 18,
   "source": [
    "fig, ax = plt.subplots(nrows=1, ncols=1, figsize=(12, 4), sharex=True, sharey=True)\n",
    "\n",
    "pos = pygraphviz_layout(tree, prog='dot', args='-Grankdir=\"RL\"')\n",
    "for i in pos:\n",
    "    pos[i] = (block_headers[i].slot + 200, pos[i][1])\n",
    "\n",
    "plt.title(\"Tree of blocks\")\n",
    "\n",
    "canonical_chain_ids, orphaned_chain_ids = tag_chain(network)\n",
    "\n",
    "nx.draw_networkx_nodes(tree,pos=pos, nodelist=canonical_chain_ids, node_color='green', label=\"Canonical blocks\", node_shape='s', node_size=500)\n",
    "nx.draw_networkx_nodes(tree,pos=pos, nodelist=orphaned_chain_ids, node_color='orange', label=\"Orphaned blocks\", node_shape='s', node_size=500)\n",
    "nx.draw_networkx_nodes(tree,pos=pos, nodelist=[0], node_color='blue', label=\"Genesis block\", node_shape='s', node_size=500)    \n",
    "\n",
    "nx.draw_networkx_edges(tree, pos, arrows=True)\n",
    "nx.draw_networkx_labels(tree, pos, font_size=10, font_color=\"white\")\n",
    "\n",
    "ax.set_frame_on(False)\n",
    "plt.legend(loc=\"lower right\", labelspacing=2, fontsize=9, frameon=False, borderpad=0.1)\n",
    "\n",
    "# plt.legend(labelspacing=0.8, fontsize=9, frameon=False, borderpad=0.1)\n",
    "plt.show()"
   ],
   "outputs": [
    {
     "output_type": "display_data",
     "data": {
      "text/plain": [
       "<Figure size 864x288 with 1 Axes>"
      ],
      "image/svg+xml": "<?xml version=\"1.0\" encoding=\"utf-8\" standalone=\"no\"?>\n<!DOCTYPE svg PUBLIC \"-//W3C//DTD SVG 1.1//EN\"\n  \"http://www.w3.org/Graphics/SVG/1.1/DTD/svg11.dtd\">\n<svg height=\"246.958125pt\" version=\"1.1\" viewBox=\"0 0 684 246.958125\" width=\"684pt\" xmlns=\"http://www.w3.org/2000/svg\" xmlns:xlink=\"http://www.w3.org/1999/xlink\">\n <metadata>\n  <rdf:RDF xmlns:cc=\"http://creativecommons.org/ns#\" xmlns:dc=\"http://purl.org/dc/elements/1.1/\" xmlns:rdf=\"http://www.w3.org/1999/02/22-rdf-syntax-ns#\">\n   <cc:Work>\n    <dc:type rdf:resource=\"http://purl.org/dc/dcmitype/StillImage\"/>\n    <dc:date>2021-08-07T20:14:40.265694</dc:date>\n    <dc:format>image/svg+xml</dc:format>\n    <dc:creator>\n     <cc:Agent>\n      <dc:title>Matplotlib v3.4.2, https://matplotlib.org/</dc:title>\n     </cc:Agent>\n    </dc:creator>\n   </cc:Work>\n  </rdf:RDF>\n </metadata>\n <defs>\n  <style type=\"text/css\">*{stroke-linecap:butt;stroke-linejoin:round;}</style>\n </defs>\n <g id=\"figure_1\">\n  <g id=\"patch_1\">\n   <path d=\"M 0 246.958125 \nL 684 246.958125 \nL 684 0 \nL 0 0 \nz\n\" style=\"fill:none;\"/>\n  </g>\n  <g id=\"axes_1\">\n   <g id=\"patch_2\">\n    <path clip-path=\"url(#pb4f9e9941c)\" d=\"M 105.22075 137.078844 \nQ 88.365789 153.498838 72.311663 169.138664 \n\" style=\"fill:none;stroke:#000000;stroke-linecap:round;\"/>\n    <path clip-path=\"url(#pb4f9e9941c)\" d=\"M 76.572426 167.780026 \nL 72.311663 169.138664 \nL 73.78121 164.914871 \nL 76.572426 167.780026 \nz\n\" style=\"stroke:#000000;stroke-linecap:round;\"/>\n   </g>\n   <g id=\"patch_3\">\n    <path clip-path=\"url(#pb4f9e9941c)\" d=\"M 148.876422 131.038125 \nQ 134.481054 131.038125 121.203719 131.038125 \n\" style=\"fill:none;stroke:#000000;stroke-linecap:round;\"/>\n    <path clip-path=\"url(#pb4f9e9941c)\" d=\"M 125.203719 133.038125 \nL 121.203719 131.038125 \nL 125.203719 129.038125 \nL 125.203719 133.038125 \nz\n\" style=\"stroke:#000000;stroke-linecap:round;\"/>\n   </g>\n   <g id=\"patch_4\">\n    <path clip-path=\"url(#pb4f9e9941c)\" d=\"M 149.748973 217.095749 \nQ 111.41994 198.425801 74.096041 180.24545 \n\" style=\"fill:none;stroke:#000000;stroke-linecap:round;\"/>\n    <path clip-path=\"url(#pb4f9e9941c)\" d=\"M 76.816299 183.795126 \nL 74.096041 180.24545 \nL 78.567936 180.199049 \nL 76.816299 183.795126 \nz\n\" style=\"stroke:#000000;stroke-linecap:round;\"/>\n   </g>\n   <g id=\"patch_5\">\n    <path clip-path=\"url(#pb4f9e9941c)\" d=\"M 194.992125 131.038125 \nQ 180.596756 131.038125 167.319421 131.038125 \n\" style=\"fill:none;stroke:#000000;stroke-linecap:round;\"/>\n    <path clip-path=\"url(#pb4f9e9941c)\" d=\"M 171.319421 133.038125 \nL 167.319421 131.038125 \nL 171.319421 129.038125 \nL 171.319421 133.038125 \nz\n\" style=\"stroke:#000000;stroke-linecap:round;\"/>\n   </g>\n   <g id=\"patch_6\">\n    <path clip-path=\"url(#pb4f9e9941c)\" d=\"M 241.107827 131.038125 \nQ 226.712458 131.038125 213.435124 131.038125 \n\" style=\"fill:none;stroke:#000000;stroke-linecap:round;\"/>\n    <path clip-path=\"url(#pb4f9e9941c)\" d=\"M 217.435124 133.038125 \nL 213.435124 131.038125 \nL 217.435124 129.038125 \nL 217.435124 133.038125 \nz\n\" style=\"stroke:#000000;stroke-linecap:round;\"/>\n   </g>\n   <g id=\"patch_7\">\n    <path clip-path=\"url(#pb4f9e9941c)\" d=\"M 289.683559 92.153224 \nQ 272.828598 108.573218 256.774473 124.213044 \n\" style=\"fill:none;stroke:#000000;stroke-linecap:round;\"/>\n    <path clip-path=\"url(#pb4f9e9941c)\" d=\"M 261.035236 122.854406 \nL 256.774473 124.213044 \nL 258.24402 119.989251 \nL 261.035236 122.854406 \nz\n\" style=\"stroke:#000000;stroke-linecap:round;\"/>\n   </g>\n   <g id=\"patch_8\">\n    <path clip-path=\"url(#pb4f9e9941c)\" d=\"M 333.339232 86.112505 \nQ 318.943863 86.112505 305.666528 86.112505 \n\" style=\"fill:none;stroke:#000000;stroke-linecap:round;\"/>\n    <path clip-path=\"url(#pb4f9e9941c)\" d=\"M 309.666528 88.112505 \nL 305.666528 86.112505 \nL 309.666528 84.112505 \nL 309.666528 88.112505 \nz\n\" style=\"stroke:#000000;stroke-linecap:round;\"/>\n   </g>\n   <g id=\"patch_9\">\n    <path clip-path=\"url(#pb4f9e9941c)\" d=\"M 334.211783 172.170129 \nQ 295.88275 153.500181 258.558851 135.31983 \n\" style=\"fill:none;stroke:#000000;stroke-linecap:round;\"/>\n    <path clip-path=\"url(#pb4f9e9941c)\" d=\"M 261.279109 138.869506 \nL 258.558851 135.31983 \nL 263.030746 135.273429 \nL 261.279109 138.869506 \nz\n\" style=\"stroke:#000000;stroke-linecap:round;\"/>\n   </g>\n   <g id=\"patch_10\">\n    <path clip-path=\"url(#pb4f9e9941c)\" d=\"M 379.454935 86.112505 \nQ 365.059566 86.112505 351.782231 86.112505 \n\" style=\"fill:none;stroke:#000000;stroke-linecap:round;\"/>\n    <path clip-path=\"url(#pb4f9e9941c)\" d=\"M 355.782231 88.112505 \nL 351.782231 86.112505 \nL 355.782231 84.112505 \nL 355.782231 88.112505 \nz\n\" style=\"stroke:#000000;stroke-linecap:round;\"/>\n   </g>\n   <g id=\"patch_11\">\n    <path clip-path=\"url(#pb4f9e9941c)\" d=\"M 425.570637 86.112505 \nQ 411.175268 86.112505 397.897933 86.112505 \n\" style=\"fill:none;stroke:#000000;stroke-linecap:round;\"/>\n    <path clip-path=\"url(#pb4f9e9941c)\" d=\"M 401.897933 88.112505 \nL 397.897933 86.112505 \nL 401.897933 84.112505 \nL 401.897933 88.112505 \nz\n\" style=\"stroke:#000000;stroke-linecap:round;\"/>\n   </g>\n   <g id=\"patch_12\">\n    <path clip-path=\"url(#pb4f9e9941c)\" d=\"M 474.146369 47.227604 \nQ 457.291408 63.647599 441.237283 79.287424 \n\" style=\"fill:none;stroke:#000000;stroke-linecap:round;\"/>\n    <path clip-path=\"url(#pb4f9e9941c)\" d=\"M 445.498046 77.928786 \nL 441.237283 79.287424 \nL 442.70683 75.063631 \nL 445.498046 77.928786 \nz\n\" style=\"stroke:#000000;stroke-linecap:round;\"/>\n   </g>\n   <g id=\"patch_13\">\n    <path clip-path=\"url(#pb4f9e9941c)\" d=\"M 517.802042 41.186885 \nQ 503.406673 41.186885 490.129338 41.186885 \n\" style=\"fill:none;stroke:#000000;stroke-linecap:round;\"/>\n    <path clip-path=\"url(#pb4f9e9941c)\" d=\"M 494.129338 43.186885 \nL 490.129338 41.186885 \nL 494.129338 39.186885 \nL 494.129338 43.186885 \nz\n\" style=\"stroke:#000000;stroke-linecap:round;\"/>\n   </g>\n   <g id=\"patch_14\">\n    <path clip-path=\"url(#pb4f9e9941c)\" d=\"M 518.674593 127.24451 \nQ 480.34556 108.574561 443.021661 90.39421 \n\" style=\"fill:none;stroke:#000000;stroke-linecap:round;\"/>\n    <path clip-path=\"url(#pb4f9e9941c)\" d=\"M 445.741919 93.943886 \nL 443.021661 90.39421 \nL 447.493556 90.347809 \nL 445.741919 93.943886 \nz\n\" style=\"stroke:#000000;stroke-linecap:round;\"/>\n   </g>\n   <g id=\"patch_15\">\n    <path clip-path=\"url(#pb4f9e9941c)\" d=\"M 610.033447 41.186885 \nQ 572.577388 41.186885 536.239362 41.186885 \n\" style=\"fill:none;stroke:#000000;stroke-linecap:round;\"/>\n    <path clip-path=\"url(#pb4f9e9941c)\" d=\"M 540.239362 43.186885 \nL 536.239362 41.186885 \nL 540.239362 39.186885 \nL 540.239362 43.186885 \nz\n\" style=\"stroke:#000000;stroke-linecap:round;\"/>\n   </g>\n   <g id=\"matplotlib.axis_1\">\n    <g id=\"xtick_1\"/>\n    <g id=\"xtick_2\"/>\n    <g id=\"xtick_3\"/>\n    <g id=\"xtick_4\"/>\n    <g id=\"xtick_5\"/>\n    <g id=\"xtick_6\"/>\n    <g id=\"xtick_7\"/>\n   </g>\n   <g id=\"matplotlib.axis_2\">\n    <g id=\"ytick_1\"/>\n    <g id=\"ytick_2\"/>\n    <g id=\"ytick_3\"/>\n    <g id=\"ytick_4\"/>\n    <g id=\"ytick_5\"/>\n    <g id=\"ytick_6\"/>\n   </g>\n   <g id=\"PathCollection_1\">\n    <defs>\n     <path d=\"M -11.18034 11.18034 \nL 11.18034 11.18034 \nL 11.18034 -11.18034 \nL -11.18034 -11.18034 \nz\n\" id=\"m97bb49560d\" style=\"stroke:#008000;\"/>\n    </defs>\n    <g clip-path=\"url(#pb4f9e9941c)\">\n     <use style=\"fill:#008000;stroke:#008000;\" x=\"65.305785\" xlink:href=\"#m97bb49560d\" y=\"175.963745\"/>\n     <use style=\"fill:#008000;stroke:#008000;\" x=\"111.421488\" xlink:href=\"#m97bb49560d\" y=\"131.038125\"/>\n     <use style=\"fill:#008000;stroke:#008000;\" x=\"157.53719\" xlink:href=\"#m97bb49560d\" y=\"131.038125\"/>\n     <use style=\"fill:#008000;stroke:#008000;\" x=\"203.652893\" xlink:href=\"#m97bb49560d\" y=\"131.038125\"/>\n     <use style=\"fill:#008000;stroke:#008000;\" x=\"249.768595\" xlink:href=\"#m97bb49560d\" y=\"131.038125\"/>\n     <use style=\"fill:#008000;stroke:#008000;\" x=\"295.884298\" xlink:href=\"#m97bb49560d\" y=\"86.112505\"/>\n     <use style=\"fill:#008000;stroke:#008000;\" x=\"342\" xlink:href=\"#m97bb49560d\" y=\"86.112505\"/>\n     <use style=\"fill:#008000;stroke:#008000;\" x=\"388.115702\" xlink:href=\"#m97bb49560d\" y=\"86.112505\"/>\n     <use style=\"fill:#008000;stroke:#008000;\" x=\"434.231405\" xlink:href=\"#m97bb49560d\" y=\"86.112505\"/>\n     <use style=\"fill:#008000;stroke:#008000;\" x=\"480.347107\" xlink:href=\"#m97bb49560d\" y=\"41.186885\"/>\n     <use style=\"fill:#008000;stroke:#008000;\" x=\"526.46281\" xlink:href=\"#m97bb49560d\" y=\"41.186885\"/>\n     <use style=\"fill:#008000;stroke:#008000;\" x=\"618.694215\" xlink:href=\"#m97bb49560d\" y=\"41.186885\"/>\n    </g>\n   </g>\n   <g id=\"PathCollection_2\">\n    <defs>\n     <path d=\"M -11.18034 11.18034 \nL 11.18034 11.18034 \nL 11.18034 -11.18034 \nL -11.18034 -11.18034 \nz\n\" id=\"m4cd3ac775e\" style=\"stroke:#ffa500;\"/>\n    </defs>\n    <g clip-path=\"url(#pb4f9e9941c)\">\n     <use style=\"fill:#ffa500;stroke:#ffa500;\" x=\"342\" xlink:href=\"#m4cd3ac775e\" y=\"175.963745\"/>\n     <use style=\"fill:#ffa500;stroke:#ffa500;\" x=\"157.53719\" xlink:href=\"#m4cd3ac775e\" y=\"220.889365\"/>\n     <use style=\"fill:#ffa500;stroke:#ffa500;\" x=\"526.46281\" xlink:href=\"#m4cd3ac775e\" y=\"131.038125\"/>\n    </g>\n   </g>\n   <g id=\"PathCollection_3\">\n    <defs>\n     <path d=\"M -11.18034 11.18034 \nL 11.18034 11.18034 \nL 11.18034 -11.18034 \nL -11.18034 -11.18034 \nz\n\" id=\"md7cfbbfaa3\" style=\"stroke:#0000ff;\"/>\n    </defs>\n    <g clip-path=\"url(#pb4f9e9941c)\">\n     <use style=\"fill:#0000ff;stroke:#0000ff;\" x=\"65.305785\" xlink:href=\"#md7cfbbfaa3\" y=\"175.963745\"/>\n    </g>\n   </g>\n   <g id=\"text_1\">\n    <g clip-path=\"url(#pb4f9e9941c)\">\n     <!-- 0 -->\n     <g style=\"fill:#ffffff;\" transform=\"translate(62.124535 178.72312)scale(0.1 -0.1)\">\n      <defs>\n       <path d=\"M 2034 4250 \nQ 1547 4250 1301 3770 \nQ 1056 3291 1056 2328 \nQ 1056 1369 1301 889 \nQ 1547 409 2034 409 \nQ 2525 409 2770 889 \nQ 3016 1369 3016 2328 \nQ 3016 3291 2770 3770 \nQ 2525 4250 2034 4250 \nz\nM 2034 4750 \nQ 2819 4750 3233 4129 \nQ 3647 3509 3647 2328 \nQ 3647 1150 3233 529 \nQ 2819 -91 2034 -91 \nQ 1250 -91 836 529 \nQ 422 1150 422 2328 \nQ 422 3509 836 4129 \nQ 1250 4750 2034 4750 \nz\n\" id=\"DejaVuSans-30\" transform=\"scale(0.015625)\"/>\n      </defs>\n      <use xlink:href=\"#DejaVuSans-30\"/>\n     </g>\n    </g>\n   </g>\n   <g id=\"text_2\">\n    <g clip-path=\"url(#pb4f9e9941c)\">\n     <!-- 1 -->\n     <g style=\"fill:#ffffff;\" transform=\"translate(108.240238 133.7975)scale(0.1 -0.1)\">\n      <defs>\n       <path d=\"M 794 531 \nL 1825 531 \nL 1825 4091 \nL 703 3866 \nL 703 4441 \nL 1819 4666 \nL 2450 4666 \nL 2450 531 \nL 3481 531 \nL 3481 0 \nL 794 0 \nL 794 531 \nz\n\" id=\"DejaVuSans-31\" transform=\"scale(0.015625)\"/>\n      </defs>\n      <use xlink:href=\"#DejaVuSans-31\"/>\n     </g>\n    </g>\n   </g>\n   <g id=\"text_3\">\n    <g clip-path=\"url(#pb4f9e9941c)\">\n     <!-- 2 -->\n     <g style=\"fill:#ffffff;\" transform=\"translate(154.35594 133.7975)scale(0.1 -0.1)\">\n      <defs>\n       <path d=\"M 1228 531 \nL 3431 531 \nL 3431 0 \nL 469 0 \nL 469 531 \nQ 828 903 1448 1529 \nQ 2069 2156 2228 2338 \nQ 2531 2678 2651 2914 \nQ 2772 3150 2772 3378 \nQ 2772 3750 2511 3984 \nQ 2250 4219 1831 4219 \nQ 1534 4219 1204 4116 \nQ 875 4013 500 3803 \nL 500 4441 \nQ 881 4594 1212 4672 \nQ 1544 4750 1819 4750 \nQ 2544 4750 2975 4387 \nQ 3406 4025 3406 3419 \nQ 3406 3131 3298 2873 \nQ 3191 2616 2906 2266 \nQ 2828 2175 2409 1742 \nQ 1991 1309 1228 531 \nz\n\" id=\"DejaVuSans-32\" transform=\"scale(0.015625)\"/>\n      </defs>\n      <use xlink:href=\"#DejaVuSans-32\"/>\n     </g>\n    </g>\n   </g>\n   <g id=\"text_4\">\n    <g clip-path=\"url(#pb4f9e9941c)\">\n     <!-- 3 -->\n     <g style=\"fill:#ffffff;\" transform=\"translate(154.35594 223.64874)scale(0.1 -0.1)\">\n      <defs>\n       <path d=\"M 2597 2516 \nQ 3050 2419 3304 2112 \nQ 3559 1806 3559 1356 \nQ 3559 666 3084 287 \nQ 2609 -91 1734 -91 \nQ 1441 -91 1130 -33 \nQ 819 25 488 141 \nL 488 750 \nQ 750 597 1062 519 \nQ 1375 441 1716 441 \nQ 2309 441 2620 675 \nQ 2931 909 2931 1356 \nQ 2931 1769 2642 2001 \nQ 2353 2234 1838 2234 \nL 1294 2234 \nL 1294 2753 \nL 1863 2753 \nQ 2328 2753 2575 2939 \nQ 2822 3125 2822 3475 \nQ 2822 3834 2567 4026 \nQ 2313 4219 1838 4219 \nQ 1578 4219 1281 4162 \nQ 984 4106 628 3988 \nL 628 4550 \nQ 988 4650 1302 4700 \nQ 1616 4750 1894 4750 \nQ 2613 4750 3031 4423 \nQ 3450 4097 3450 3541 \nQ 3450 3153 3228 2886 \nQ 3006 2619 2597 2516 \nz\n\" id=\"DejaVuSans-33\" transform=\"scale(0.015625)\"/>\n      </defs>\n      <use xlink:href=\"#DejaVuSans-33\"/>\n     </g>\n    </g>\n   </g>\n   <g id=\"text_5\">\n    <g clip-path=\"url(#pb4f9e9941c)\">\n     <!-- 4 -->\n     <g style=\"fill:#ffffff;\" transform=\"translate(200.471643 133.7975)scale(0.1 -0.1)\">\n      <defs>\n       <path d=\"M 2419 4116 \nL 825 1625 \nL 2419 1625 \nL 2419 4116 \nz\nM 2253 4666 \nL 3047 4666 \nL 3047 1625 \nL 3713 1625 \nL 3713 1100 \nL 3047 1100 \nL 3047 0 \nL 2419 0 \nL 2419 1100 \nL 313 1100 \nL 313 1709 \nL 2253 4666 \nz\n\" id=\"DejaVuSans-34\" transform=\"scale(0.015625)\"/>\n      </defs>\n      <use xlink:href=\"#DejaVuSans-34\"/>\n     </g>\n    </g>\n   </g>\n   <g id=\"text_6\">\n    <g clip-path=\"url(#pb4f9e9941c)\">\n     <!-- 5 -->\n     <g style=\"fill:#ffffff;\" transform=\"translate(246.587345 133.7975)scale(0.1 -0.1)\">\n      <defs>\n       <path d=\"M 691 4666 \nL 3169 4666 \nL 3169 4134 \nL 1269 4134 \nL 1269 2991 \nQ 1406 3038 1543 3061 \nQ 1681 3084 1819 3084 \nQ 2600 3084 3056 2656 \nQ 3513 2228 3513 1497 \nQ 3513 744 3044 326 \nQ 2575 -91 1722 -91 \nQ 1428 -91 1123 -41 \nQ 819 9 494 109 \nL 494 744 \nQ 775 591 1075 516 \nQ 1375 441 1709 441 \nQ 2250 441 2565 725 \nQ 2881 1009 2881 1497 \nQ 2881 1984 2565 2268 \nQ 2250 2553 1709 2553 \nQ 1456 2553 1204 2497 \nQ 953 2441 691 2322 \nL 691 4666 \nz\n\" id=\"DejaVuSans-35\" transform=\"scale(0.015625)\"/>\n      </defs>\n      <use xlink:href=\"#DejaVuSans-35\"/>\n     </g>\n    </g>\n   </g>\n   <g id=\"text_7\">\n    <g clip-path=\"url(#pb4f9e9941c)\">\n     <!-- 6 -->\n     <g style=\"fill:#ffffff;\" transform=\"translate(292.703048 88.87188)scale(0.1 -0.1)\">\n      <defs>\n       <path d=\"M 2113 2584 \nQ 1688 2584 1439 2293 \nQ 1191 2003 1191 1497 \nQ 1191 994 1439 701 \nQ 1688 409 2113 409 \nQ 2538 409 2786 701 \nQ 3034 994 3034 1497 \nQ 3034 2003 2786 2293 \nQ 2538 2584 2113 2584 \nz\nM 3366 4563 \nL 3366 3988 \nQ 3128 4100 2886 4159 \nQ 2644 4219 2406 4219 \nQ 1781 4219 1451 3797 \nQ 1122 3375 1075 2522 \nQ 1259 2794 1537 2939 \nQ 1816 3084 2150 3084 \nQ 2853 3084 3261 2657 \nQ 3669 2231 3669 1497 \nQ 3669 778 3244 343 \nQ 2819 -91 2113 -91 \nQ 1303 -91 875 529 \nQ 447 1150 447 2328 \nQ 447 3434 972 4092 \nQ 1497 4750 2381 4750 \nQ 2619 4750 2861 4703 \nQ 3103 4656 3366 4563 \nz\n\" id=\"DejaVuSans-36\" transform=\"scale(0.015625)\"/>\n      </defs>\n      <use xlink:href=\"#DejaVuSans-36\"/>\n     </g>\n    </g>\n   </g>\n   <g id=\"text_8\">\n    <g clip-path=\"url(#pb4f9e9941c)\">\n     <!-- 7 -->\n     <g style=\"fill:#ffffff;\" transform=\"translate(338.81875 88.87188)scale(0.1 -0.1)\">\n      <defs>\n       <path d=\"M 525 4666 \nL 3525 4666 \nL 3525 4397 \nL 1831 0 \nL 1172 0 \nL 2766 4134 \nL 525 4134 \nL 525 4666 \nz\n\" id=\"DejaVuSans-37\" transform=\"scale(0.015625)\"/>\n      </defs>\n      <use xlink:href=\"#DejaVuSans-37\"/>\n     </g>\n    </g>\n   </g>\n   <g id=\"text_9\">\n    <g clip-path=\"url(#pb4f9e9941c)\">\n     <!-- 8 -->\n     <g style=\"fill:#ffffff;\" transform=\"translate(338.81875 178.72312)scale(0.1 -0.1)\">\n      <defs>\n       <path d=\"M 2034 2216 \nQ 1584 2216 1326 1975 \nQ 1069 1734 1069 1313 \nQ 1069 891 1326 650 \nQ 1584 409 2034 409 \nQ 2484 409 2743 651 \nQ 3003 894 3003 1313 \nQ 3003 1734 2745 1975 \nQ 2488 2216 2034 2216 \nz\nM 1403 2484 \nQ 997 2584 770 2862 \nQ 544 3141 544 3541 \nQ 544 4100 942 4425 \nQ 1341 4750 2034 4750 \nQ 2731 4750 3128 4425 \nQ 3525 4100 3525 3541 \nQ 3525 3141 3298 2862 \nQ 3072 2584 2669 2484 \nQ 3125 2378 3379 2068 \nQ 3634 1759 3634 1313 \nQ 3634 634 3220 271 \nQ 2806 -91 2034 -91 \nQ 1263 -91 848 271 \nQ 434 634 434 1313 \nQ 434 1759 690 2068 \nQ 947 2378 1403 2484 \nz\nM 1172 3481 \nQ 1172 3119 1398 2916 \nQ 1625 2713 2034 2713 \nQ 2441 2713 2670 2916 \nQ 2900 3119 2900 3481 \nQ 2900 3844 2670 4047 \nQ 2441 4250 2034 4250 \nQ 1625 4250 1398 4047 \nQ 1172 3844 1172 3481 \nz\n\" id=\"DejaVuSans-38\" transform=\"scale(0.015625)\"/>\n      </defs>\n      <use xlink:href=\"#DejaVuSans-38\"/>\n     </g>\n    </g>\n   </g>\n   <g id=\"text_10\">\n    <g clip-path=\"url(#pb4f9e9941c)\">\n     <!-- 9 -->\n     <g style=\"fill:#ffffff;\" transform=\"translate(384.934452 88.87188)scale(0.1 -0.1)\">\n      <defs>\n       <path d=\"M 703 97 \nL 703 672 \nQ 941 559 1184 500 \nQ 1428 441 1663 441 \nQ 2288 441 2617 861 \nQ 2947 1281 2994 2138 \nQ 2813 1869 2534 1725 \nQ 2256 1581 1919 1581 \nQ 1219 1581 811 2004 \nQ 403 2428 403 3163 \nQ 403 3881 828 4315 \nQ 1253 4750 1959 4750 \nQ 2769 4750 3195 4129 \nQ 3622 3509 3622 2328 \nQ 3622 1225 3098 567 \nQ 2575 -91 1691 -91 \nQ 1453 -91 1209 -44 \nQ 966 3 703 97 \nz\nM 1959 2075 \nQ 2384 2075 2632 2365 \nQ 2881 2656 2881 3163 \nQ 2881 3666 2632 3958 \nQ 2384 4250 1959 4250 \nQ 1534 4250 1286 3958 \nQ 1038 3666 1038 3163 \nQ 1038 2656 1286 2365 \nQ 1534 2075 1959 2075 \nz\n\" id=\"DejaVuSans-39\" transform=\"scale(0.015625)\"/>\n      </defs>\n      <use xlink:href=\"#DejaVuSans-39\"/>\n     </g>\n    </g>\n   </g>\n   <g id=\"text_11\">\n    <g clip-path=\"url(#pb4f9e9941c)\">\n     <!-- 10 -->\n     <g style=\"fill:#ffffff;\" transform=\"translate(427.868905 88.87188)scale(0.1 -0.1)\">\n      <use xlink:href=\"#DejaVuSans-31\"/>\n      <use x=\"63.623047\" xlink:href=\"#DejaVuSans-30\"/>\n     </g>\n    </g>\n   </g>\n   <g id=\"text_12\">\n    <g clip-path=\"url(#pb4f9e9941c)\">\n     <!-- 11 -->\n     <g style=\"fill:#ffffff;\" transform=\"translate(473.984607 43.94626)scale(0.1 -0.1)\">\n      <use xlink:href=\"#DejaVuSans-31\"/>\n      <use x=\"63.623047\" xlink:href=\"#DejaVuSans-31\"/>\n     </g>\n    </g>\n   </g>\n   <g id=\"text_13\">\n    <g clip-path=\"url(#pb4f9e9941c)\">\n     <!-- 12 -->\n     <g style=\"fill:#ffffff;\" transform=\"translate(520.10031 43.94626)scale(0.1 -0.1)\">\n      <use xlink:href=\"#DejaVuSans-31\"/>\n      <use x=\"63.623047\" xlink:href=\"#DejaVuSans-32\"/>\n     </g>\n    </g>\n   </g>\n   <g id=\"text_14\">\n    <g clip-path=\"url(#pb4f9e9941c)\">\n     <!-- 13 -->\n     <g style=\"fill:#ffffff;\" transform=\"translate(520.10031 133.7975)scale(0.1 -0.1)\">\n      <use xlink:href=\"#DejaVuSans-31\"/>\n      <use x=\"63.623047\" xlink:href=\"#DejaVuSans-33\"/>\n     </g>\n    </g>\n   </g>\n   <g id=\"text_15\">\n    <g clip-path=\"url(#pb4f9e9941c)\">\n     <!-- 14 -->\n     <g style=\"fill:#ffffff;\" transform=\"translate(612.331715 43.94626)scale(0.1 -0.1)\">\n      <use xlink:href=\"#DejaVuSans-31\"/>\n      <use x=\"63.623047\" xlink:href=\"#DejaVuSans-34\"/>\n     </g>\n    </g>\n   </g>\n   <g id=\"text_16\">\n    <!-- Tree of blocks -->\n    <g transform=\"translate(300.861562 16.318125)scale(0.12 -0.12)\">\n     <defs>\n      <path d=\"M -19 4666 \nL 3928 4666 \nL 3928 4134 \nL 2272 4134 \nL 2272 0 \nL 1638 0 \nL 1638 4134 \nL -19 4134 \nL -19 4666 \nz\n\" id=\"DejaVuSans-54\" transform=\"scale(0.015625)\"/>\n      <path d=\"M 2631 2963 \nQ 2534 3019 2420 3045 \nQ 2306 3072 2169 3072 \nQ 1681 3072 1420 2755 \nQ 1159 2438 1159 1844 \nL 1159 0 \nL 581 0 \nL 581 3500 \nL 1159 3500 \nL 1159 2956 \nQ 1341 3275 1631 3429 \nQ 1922 3584 2338 3584 \nQ 2397 3584 2469 3576 \nQ 2541 3569 2628 3553 \nL 2631 2963 \nz\n\" id=\"DejaVuSans-72\" transform=\"scale(0.015625)\"/>\n      <path d=\"M 3597 1894 \nL 3597 1613 \nL 953 1613 \nQ 991 1019 1311 708 \nQ 1631 397 2203 397 \nQ 2534 397 2845 478 \nQ 3156 559 3463 722 \nL 3463 178 \nQ 3153 47 2828 -22 \nQ 2503 -91 2169 -91 \nQ 1331 -91 842 396 \nQ 353 884 353 1716 \nQ 353 2575 817 3079 \nQ 1281 3584 2069 3584 \nQ 2775 3584 3186 3129 \nQ 3597 2675 3597 1894 \nz\nM 3022 2063 \nQ 3016 2534 2758 2815 \nQ 2500 3097 2075 3097 \nQ 1594 3097 1305 2825 \nQ 1016 2553 972 2059 \nL 3022 2063 \nz\n\" id=\"DejaVuSans-65\" transform=\"scale(0.015625)\"/>\n      <path id=\"DejaVuSans-20\" transform=\"scale(0.015625)\"/>\n      <path d=\"M 1959 3097 \nQ 1497 3097 1228 2736 \nQ 959 2375 959 1747 \nQ 959 1119 1226 758 \nQ 1494 397 1959 397 \nQ 2419 397 2687 759 \nQ 2956 1122 2956 1747 \nQ 2956 2369 2687 2733 \nQ 2419 3097 1959 3097 \nz\nM 1959 3584 \nQ 2709 3584 3137 3096 \nQ 3566 2609 3566 1747 \nQ 3566 888 3137 398 \nQ 2709 -91 1959 -91 \nQ 1206 -91 779 398 \nQ 353 888 353 1747 \nQ 353 2609 779 3096 \nQ 1206 3584 1959 3584 \nz\n\" id=\"DejaVuSans-6f\" transform=\"scale(0.015625)\"/>\n      <path d=\"M 2375 4863 \nL 2375 4384 \nL 1825 4384 \nQ 1516 4384 1395 4259 \nQ 1275 4134 1275 3809 \nL 1275 3500 \nL 2222 3500 \nL 2222 3053 \nL 1275 3053 \nL 1275 0 \nL 697 0 \nL 697 3053 \nL 147 3053 \nL 147 3500 \nL 697 3500 \nL 697 3744 \nQ 697 4328 969 4595 \nQ 1241 4863 1831 4863 \nL 2375 4863 \nz\n\" id=\"DejaVuSans-66\" transform=\"scale(0.015625)\"/>\n      <path d=\"M 3116 1747 \nQ 3116 2381 2855 2742 \nQ 2594 3103 2138 3103 \nQ 1681 3103 1420 2742 \nQ 1159 2381 1159 1747 \nQ 1159 1113 1420 752 \nQ 1681 391 2138 391 \nQ 2594 391 2855 752 \nQ 3116 1113 3116 1747 \nz\nM 1159 2969 \nQ 1341 3281 1617 3432 \nQ 1894 3584 2278 3584 \nQ 2916 3584 3314 3078 \nQ 3713 2572 3713 1747 \nQ 3713 922 3314 415 \nQ 2916 -91 2278 -91 \nQ 1894 -91 1617 61 \nQ 1341 213 1159 525 \nL 1159 0 \nL 581 0 \nL 581 4863 \nL 1159 4863 \nL 1159 2969 \nz\n\" id=\"DejaVuSans-62\" transform=\"scale(0.015625)\"/>\n      <path d=\"M 603 4863 \nL 1178 4863 \nL 1178 0 \nL 603 0 \nL 603 4863 \nz\n\" id=\"DejaVuSans-6c\" transform=\"scale(0.015625)\"/>\n      <path d=\"M 3122 3366 \nL 3122 2828 \nQ 2878 2963 2633 3030 \nQ 2388 3097 2138 3097 \nQ 1578 3097 1268 2742 \nQ 959 2388 959 1747 \nQ 959 1106 1268 751 \nQ 1578 397 2138 397 \nQ 2388 397 2633 464 \nQ 2878 531 3122 666 \nL 3122 134 \nQ 2881 22 2623 -34 \nQ 2366 -91 2075 -91 \nQ 1284 -91 818 406 \nQ 353 903 353 1747 \nQ 353 2603 823 3093 \nQ 1294 3584 2113 3584 \nQ 2378 3584 2631 3529 \nQ 2884 3475 3122 3366 \nz\n\" id=\"DejaVuSans-63\" transform=\"scale(0.015625)\"/>\n      <path d=\"M 581 4863 \nL 1159 4863 \nL 1159 1991 \nL 2875 3500 \nL 3609 3500 \nL 1753 1863 \nL 3688 0 \nL 2938 0 \nL 1159 1709 \nL 1159 0 \nL 581 0 \nL 581 4863 \nz\n\" id=\"DejaVuSans-6b\" transform=\"scale(0.015625)\"/>\n      <path d=\"M 2834 3397 \nL 2834 2853 \nQ 2591 2978 2328 3040 \nQ 2066 3103 1784 3103 \nQ 1356 3103 1142 2972 \nQ 928 2841 928 2578 \nQ 928 2378 1081 2264 \nQ 1234 2150 1697 2047 \nL 1894 2003 \nQ 2506 1872 2764 1633 \nQ 3022 1394 3022 966 \nQ 3022 478 2636 193 \nQ 2250 -91 1575 -91 \nQ 1294 -91 989 -36 \nQ 684 19 347 128 \nL 347 722 \nQ 666 556 975 473 \nQ 1284 391 1588 391 \nQ 1994 391 2212 530 \nQ 2431 669 2431 922 \nQ 2431 1156 2273 1281 \nQ 2116 1406 1581 1522 \nL 1381 1569 \nQ 847 1681 609 1914 \nQ 372 2147 372 2553 \nQ 372 3047 722 3315 \nQ 1072 3584 1716 3584 \nQ 2034 3584 2315 3537 \nQ 2597 3491 2834 3397 \nz\n\" id=\"DejaVuSans-73\" transform=\"scale(0.015625)\"/>\n     </defs>\n     <use xlink:href=\"#DejaVuSans-54\"/>\n     <use x=\"46.333984\" xlink:href=\"#DejaVuSans-72\"/>\n     <use x=\"85.197266\" xlink:href=\"#DejaVuSans-65\"/>\n     <use x=\"146.720703\" xlink:href=\"#DejaVuSans-65\"/>\n     <use x=\"208.244141\" xlink:href=\"#DejaVuSans-20\"/>\n     <use x=\"240.03125\" xlink:href=\"#DejaVuSans-6f\"/>\n     <use x=\"301.212891\" xlink:href=\"#DejaVuSans-66\"/>\n     <use x=\"336.417969\" xlink:href=\"#DejaVuSans-20\"/>\n     <use x=\"368.205078\" xlink:href=\"#DejaVuSans-62\"/>\n     <use x=\"431.681641\" xlink:href=\"#DejaVuSans-6c\"/>\n     <use x=\"459.464844\" xlink:href=\"#DejaVuSans-6f\"/>\n     <use x=\"520.646484\" xlink:href=\"#DejaVuSans-63\"/>\n     <use x=\"575.626953\" xlink:href=\"#DejaVuSans-6b\"/>\n     <use x=\"633.537109\" xlink:href=\"#DejaVuSans-73\"/>\n    </g>\n   </g>\n   <g id=\"legend_1\">\n    <g id=\"PathCollection_4\">\n     <g>\n      <use style=\"fill:#008000;stroke:#008000;\" x=\"579.097969\" xlink:href=\"#m97bb49560d\" y=\"176.703281\"/>\n     </g>\n    </g>\n    <g id=\"text_17\">\n     <!-- Canonical blocks -->\n     <g transform=\"translate(595.297969 179.065781)scale(0.09 -0.09)\">\n      <defs>\n       <path d=\"M 4122 4306 \nL 4122 3641 \nQ 3803 3938 3442 4084 \nQ 3081 4231 2675 4231 \nQ 1875 4231 1450 3742 \nQ 1025 3253 1025 2328 \nQ 1025 1406 1450 917 \nQ 1875 428 2675 428 \nQ 3081 428 3442 575 \nQ 3803 722 4122 1019 \nL 4122 359 \nQ 3791 134 3420 21 \nQ 3050 -91 2638 -91 \nQ 1578 -91 968 557 \nQ 359 1206 359 2328 \nQ 359 3453 968 4101 \nQ 1578 4750 2638 4750 \nQ 3056 4750 3426 4639 \nQ 3797 4528 4122 4306 \nz\n\" id=\"DejaVuSans-43\" transform=\"scale(0.015625)\"/>\n       <path d=\"M 2194 1759 \nQ 1497 1759 1228 1600 \nQ 959 1441 959 1056 \nQ 959 750 1161 570 \nQ 1363 391 1709 391 \nQ 2188 391 2477 730 \nQ 2766 1069 2766 1631 \nL 2766 1759 \nL 2194 1759 \nz\nM 3341 1997 \nL 3341 0 \nL 2766 0 \nL 2766 531 \nQ 2569 213 2275 61 \nQ 1981 -91 1556 -91 \nQ 1019 -91 701 211 \nQ 384 513 384 1019 \nQ 384 1609 779 1909 \nQ 1175 2209 1959 2209 \nL 2766 2209 \nL 2766 2266 \nQ 2766 2663 2505 2880 \nQ 2244 3097 1772 3097 \nQ 1472 3097 1187 3025 \nQ 903 2953 641 2809 \nL 641 3341 \nQ 956 3463 1253 3523 \nQ 1550 3584 1831 3584 \nQ 2591 3584 2966 3190 \nQ 3341 2797 3341 1997 \nz\n\" id=\"DejaVuSans-61\" transform=\"scale(0.015625)\"/>\n       <path d=\"M 3513 2113 \nL 3513 0 \nL 2938 0 \nL 2938 2094 \nQ 2938 2591 2744 2837 \nQ 2550 3084 2163 3084 \nQ 1697 3084 1428 2787 \nQ 1159 2491 1159 1978 \nL 1159 0 \nL 581 0 \nL 581 3500 \nL 1159 3500 \nL 1159 2956 \nQ 1366 3272 1645 3428 \nQ 1925 3584 2291 3584 \nQ 2894 3584 3203 3211 \nQ 3513 2838 3513 2113 \nz\n\" id=\"DejaVuSans-6e\" transform=\"scale(0.015625)\"/>\n       <path d=\"M 603 3500 \nL 1178 3500 \nL 1178 0 \nL 603 0 \nL 603 3500 \nz\nM 603 4863 \nL 1178 4863 \nL 1178 4134 \nL 603 4134 \nL 603 4863 \nz\n\" id=\"DejaVuSans-69\" transform=\"scale(0.015625)\"/>\n      </defs>\n      <use xlink:href=\"#DejaVuSans-43\"/>\n      <use x=\"69.824219\" xlink:href=\"#DejaVuSans-61\"/>\n      <use x=\"131.103516\" xlink:href=\"#DejaVuSans-6e\"/>\n      <use x=\"194.482422\" xlink:href=\"#DejaVuSans-6f\"/>\n      <use x=\"255.664062\" xlink:href=\"#DejaVuSans-6e\"/>\n      <use x=\"319.042969\" xlink:href=\"#DejaVuSans-69\"/>\n      <use x=\"346.826172\" xlink:href=\"#DejaVuSans-63\"/>\n      <use x=\"401.806641\" xlink:href=\"#DejaVuSans-61\"/>\n      <use x=\"463.085938\" xlink:href=\"#DejaVuSans-6c\"/>\n      <use x=\"490.869141\" xlink:href=\"#DejaVuSans-20\"/>\n      <use x=\"522.65625\" xlink:href=\"#DejaVuSans-62\"/>\n      <use x=\"586.132812\" xlink:href=\"#DejaVuSans-6c\"/>\n      <use x=\"613.916016\" xlink:href=\"#DejaVuSans-6f\"/>\n      <use x=\"675.097656\" xlink:href=\"#DejaVuSans-63\"/>\n      <use x=\"730.078125\" xlink:href=\"#DejaVuSans-6b\"/>\n      <use x=\"787.988281\" xlink:href=\"#DejaVuSans-73\"/>\n     </g>\n    </g>\n    <g id=\"PathCollection_5\">\n     <g>\n      <use style=\"fill:#ffa500;stroke:#ffa500;\" x=\"579.097969\" xlink:href=\"#m4cd3ac775e\" y=\"203.413594\"/>\n     </g>\n    </g>\n    <g id=\"text_18\">\n     <!-- Orphaned blocks -->\n     <g transform=\"translate(595.297969 205.776094)scale(0.09 -0.09)\">\n      <defs>\n       <path d=\"M 2522 4238 \nQ 1834 4238 1429 3725 \nQ 1025 3213 1025 2328 \nQ 1025 1447 1429 934 \nQ 1834 422 2522 422 \nQ 3209 422 3611 934 \nQ 4013 1447 4013 2328 \nQ 4013 3213 3611 3725 \nQ 3209 4238 2522 4238 \nz\nM 2522 4750 \nQ 3503 4750 4090 4092 \nQ 4678 3434 4678 2328 \nQ 4678 1225 4090 567 \nQ 3503 -91 2522 -91 \nQ 1538 -91 948 565 \nQ 359 1222 359 2328 \nQ 359 3434 948 4092 \nQ 1538 4750 2522 4750 \nz\n\" id=\"DejaVuSans-4f\" transform=\"scale(0.015625)\"/>\n       <path d=\"M 1159 525 \nL 1159 -1331 \nL 581 -1331 \nL 581 3500 \nL 1159 3500 \nL 1159 2969 \nQ 1341 3281 1617 3432 \nQ 1894 3584 2278 3584 \nQ 2916 3584 3314 3078 \nQ 3713 2572 3713 1747 \nQ 3713 922 3314 415 \nQ 2916 -91 2278 -91 \nQ 1894 -91 1617 61 \nQ 1341 213 1159 525 \nz\nM 3116 1747 \nQ 3116 2381 2855 2742 \nQ 2594 3103 2138 3103 \nQ 1681 3103 1420 2742 \nQ 1159 2381 1159 1747 \nQ 1159 1113 1420 752 \nQ 1681 391 2138 391 \nQ 2594 391 2855 752 \nQ 3116 1113 3116 1747 \nz\n\" id=\"DejaVuSans-70\" transform=\"scale(0.015625)\"/>\n       <path d=\"M 3513 2113 \nL 3513 0 \nL 2938 0 \nL 2938 2094 \nQ 2938 2591 2744 2837 \nQ 2550 3084 2163 3084 \nQ 1697 3084 1428 2787 \nQ 1159 2491 1159 1978 \nL 1159 0 \nL 581 0 \nL 581 4863 \nL 1159 4863 \nL 1159 2956 \nQ 1366 3272 1645 3428 \nQ 1925 3584 2291 3584 \nQ 2894 3584 3203 3211 \nQ 3513 2838 3513 2113 \nz\n\" id=\"DejaVuSans-68\" transform=\"scale(0.015625)\"/>\n       <path d=\"M 2906 2969 \nL 2906 4863 \nL 3481 4863 \nL 3481 0 \nL 2906 0 \nL 2906 525 \nQ 2725 213 2448 61 \nQ 2172 -91 1784 -91 \nQ 1150 -91 751 415 \nQ 353 922 353 1747 \nQ 353 2572 751 3078 \nQ 1150 3584 1784 3584 \nQ 2172 3584 2448 3432 \nQ 2725 3281 2906 2969 \nz\nM 947 1747 \nQ 947 1113 1208 752 \nQ 1469 391 1925 391 \nQ 2381 391 2643 752 \nQ 2906 1113 2906 1747 \nQ 2906 2381 2643 2742 \nQ 2381 3103 1925 3103 \nQ 1469 3103 1208 2742 \nQ 947 2381 947 1747 \nz\n\" id=\"DejaVuSans-64\" transform=\"scale(0.015625)\"/>\n      </defs>\n      <use xlink:href=\"#DejaVuSans-4f\"/>\n      <use x=\"78.710938\" xlink:href=\"#DejaVuSans-72\"/>\n      <use x=\"119.824219\" xlink:href=\"#DejaVuSans-70\"/>\n      <use x=\"183.300781\" xlink:href=\"#DejaVuSans-68\"/>\n      <use x=\"246.679688\" xlink:href=\"#DejaVuSans-61\"/>\n      <use x=\"307.958984\" xlink:href=\"#DejaVuSans-6e\"/>\n      <use x=\"371.337891\" xlink:href=\"#DejaVuSans-65\"/>\n      <use x=\"432.861328\" xlink:href=\"#DejaVuSans-64\"/>\n      <use x=\"496.337891\" xlink:href=\"#DejaVuSans-20\"/>\n      <use x=\"528.125\" xlink:href=\"#DejaVuSans-62\"/>\n      <use x=\"591.601562\" xlink:href=\"#DejaVuSans-6c\"/>\n      <use x=\"619.384766\" xlink:href=\"#DejaVuSans-6f\"/>\n      <use x=\"680.566406\" xlink:href=\"#DejaVuSans-63\"/>\n      <use x=\"735.546875\" xlink:href=\"#DejaVuSans-6b\"/>\n      <use x=\"793.457031\" xlink:href=\"#DejaVuSans-73\"/>\n     </g>\n    </g>\n    <g id=\"PathCollection_6\">\n     <g>\n      <use style=\"fill:#0000ff;stroke:#0000ff;\" x=\"579.097969\" xlink:href=\"#md7cfbbfaa3\" y=\"230.123906\"/>\n     </g>\n    </g>\n    <g id=\"text_19\">\n     <!-- Genesis block -->\n     <g transform=\"translate(595.297969 232.486406)scale(0.09 -0.09)\">\n      <defs>\n       <path d=\"M 3809 666 \nL 3809 1919 \nL 2778 1919 \nL 2778 2438 \nL 4434 2438 \nL 4434 434 \nQ 4069 175 3628 42 \nQ 3188 -91 2688 -91 \nQ 1594 -91 976 548 \nQ 359 1188 359 2328 \nQ 359 3472 976 4111 \nQ 1594 4750 2688 4750 \nQ 3144 4750 3555 4637 \nQ 3966 4525 4313 4306 \nL 4313 3634 \nQ 3963 3931 3569 4081 \nQ 3175 4231 2741 4231 \nQ 1884 4231 1454 3753 \nQ 1025 3275 1025 2328 \nQ 1025 1384 1454 906 \nQ 1884 428 2741 428 \nQ 3075 428 3337 486 \nQ 3600 544 3809 666 \nz\n\" id=\"DejaVuSans-47\" transform=\"scale(0.015625)\"/>\n      </defs>\n      <use xlink:href=\"#DejaVuSans-47\"/>\n      <use x=\"77.490234\" xlink:href=\"#DejaVuSans-65\"/>\n      <use x=\"139.013672\" xlink:href=\"#DejaVuSans-6e\"/>\n      <use x=\"202.392578\" xlink:href=\"#DejaVuSans-65\"/>\n      <use x=\"263.916016\" xlink:href=\"#DejaVuSans-73\"/>\n      <use x=\"316.015625\" xlink:href=\"#DejaVuSans-69\"/>\n      <use x=\"343.798828\" xlink:href=\"#DejaVuSans-73\"/>\n      <use x=\"395.898438\" xlink:href=\"#DejaVuSans-20\"/>\n      <use x=\"427.685547\" xlink:href=\"#DejaVuSans-62\"/>\n      <use x=\"491.162109\" xlink:href=\"#DejaVuSans-6c\"/>\n      <use x=\"518.945312\" xlink:href=\"#DejaVuSans-6f\"/>\n      <use x=\"580.126953\" xlink:href=\"#DejaVuSans-63\"/>\n      <use x=\"635.107422\" xlink:href=\"#DejaVuSans-6b\"/>\n     </g>\n    </g>\n   </g>\n  </g>\n </g>\n <defs>\n  <clipPath id=\"pb4f9e9941c\">\n   <rect height=\"217.44\" width=\"669.6\" x=\"7.2\" y=\"22.318125\"/>\n  </clipPath>\n </defs>\n</svg>\n",
      "image/png": "[encoded data removed]"
     },
     "metadata": {}
    }
   ],
   "metadata": {}
  }
 ]
}