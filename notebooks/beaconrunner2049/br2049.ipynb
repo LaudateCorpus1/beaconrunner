{
 "cells": [
  {
   "cell_type": "markdown",
   "metadata": {},
   "source": [
    "> Note: All code used in this notebook is contained in the [notebooks/beaconrunner2049](https://github.com/ethereum/beaconrunner/tree/master/notebooks/beaconrunner2049) folder of the Beacon runner repo, and does not use current PoS specs. Most of the content here remains applicable.\n",
    "\n",
    "## TL;DR\n",
    "\n",
    "- We improve upon our first [_Beacon Runner_](../beaconrunner/br.html), an economics-focused simulation environment for PoS Ethereum.\n",
    "- We introduce network-level events and simulate a partition. Stake from inactive validators is leaked until active validators dominate on their side of the partition, so finalisation can resume.\n",
    "- We make a short detour to introduce aggregation of attestations.\n",
    "\n",
    "---\n",
    "\n",
    "In this notebook, we extend the [_Beacon Runner_](../beaconrunner/br.html) to create network-level events. This is a second step towards an abstracted (but realistic) simulation environment to study economic properties of validation of Proof-of-Stake (PoS) Ethereum, also called the \"consensus layer\". We will make use of our p2p network abstraction to simulate a network partition, where for some reason (an adversary, [a Georgian granny](https://www.theguardian.com/world/2011/apr/06/georgian-woman-cuts-web-access), World War III) the network is split in two with both sides unable to communicate with each other.\n",
    "\n",
    "To recap' what happened in our [first notebook](../beaconrunner/br.html), we wrapped the [current PoS specs](https://github.com/ethereum/eth2.0-specs/blob/dev/specs/phase0/beacon-chain.md) in a [cadCAD](https://github.com/BlockScience/cadCAD) environment, using the [radCAD](https://github.com/cadCAD-edu/radCAD) library. This wrap augmented the dynamics of chain updates (forming and adding a new block) with validator _policies_, which inform the state updates. We assumed zero network latency, i.e., all validators aware of all events as they happen, and sharing the same view of the chain. In practice, this assumption does not hold. We usually assume a _partially synchronous_ model, where all validators are _eventually_ informed of any event, with no bound on how long this may take (but a finite time in any case).\n",
    "\n",
    "Under a partially synchronous model, validators may not share the same view of the chain, since they may not be aware that a new block was created when they have not yet received it from the underlying p2p network. In the worst-case, an adversary manipulating the network can successfully game the view of other validators. If they are skilled enough, they could even [pretend that their manipulation is not malicious and is the result of unfortunate network delays](https://ethresear.ch/t/non-attributable-censorship-attack-on-fraud-proof-based-layer2-protocols/6492). How can we create policies that are _robust_ to network uncertainty and strategic interactions?\n",
    "\n",
    "We will develop these questions throughout, getting insight from our models and simulations.\n",
    "\n",
    "## Setting up\n",
    "\n",
    "First, we need to load the beacon chain specs, as defined by the [canonical PoS repo](https://github.com/ethereum/eth2.0-specs/blob/dev/specs/phase0/beacon-chain.md).\n",
    "\n",
    "Dealing with the specs constants, like the number of slots per epoch or the base reward factors is also much easier now. We define two different config files, `fast.yaml` and `medium.yaml`. `fast` has a value of `SLOTS_PER_EPOCH` set to 4. We don't have time to waste! `medium` sets it to 16 and changes a few other things -- we'll tell you more about it when we get there.\n",
    "\n",
    "So we import our own custom-built `specs`, prepare the `fast` config file and reload the specs to apply this configuration."
   ]
  },
  {
   "cell_type": "code",
   "execution_count": 1,
   "metadata": {},
   "outputs": [],
   "source": [
    "%%capture\n",
    "import specs\n",
    "import importlib\n",
    "from eth2spec.config.config_util import prepare_config\n",
    "\n",
    "prepare_config(\".\", \"fast.yaml\")\n",
    "importlib.reload(specs)"
   ]
  },
  {
   "cell_type": "markdown",
   "metadata": {},
   "source": [
    "We import a few libraries we will need for our simulations: `network` contains the network implementation we describe below, while `brlib` contains our validator policies.\n",
    "\n",
    "We also import radCAD's libraries and `pandas` to work with the simulations output."
   ]
  },
  {
   "cell_type": "code",
   "execution_count": 2,
   "metadata": {},
   "outputs": [],
   "source": [
    "import network as nt\n",
    "import brlib\n",
    "\n",
    "import copy\n",
    "\n",
    "from radcad import Model, Simulation, Experiment\n",
    "from radcad.engine import Engine, Backend\n",
    "\n",
    "import pandas as pd\n",
    "import plotly.express as px\n",
    "import plotly.io as pio\n",
    "pd.options.plotting.backend = \"plotly\"\n",
    "pio.renderers.default = \"plotly_mimetype+notebook_connected\"\n",
    "import plotly.graph_objects as go"
   ]
  },
  {
   "cell_type": "markdown",
   "metadata": {},
   "source": [
    "## Network model\n",
    "\n",
    "We use a simple p2p network abstraction. Nodes are identified by an index and belong to various _information sets_. Node $a$ produces an event (a new attestation, a new block) at $t=0$. Let $I(a,t)$ denote the set of nodes who know about events produced by $a$ after duration $t$.\n",
    "\n",
    "- At $t=0$, $I(a,0) = \\{ a \\}$, meaning only node $a$ knows about the event at $t=0$.\n",
    "- At $t=1$, we look for all the information sets that $a$ belongs to, denoted by $I_a$. All nodes belonging to sets in $I_a$ learn about this event. We call $I(a,1)$ the set of nodes who know about the event at $t=1$. They are the nodes who \"heard it from $a$\", plus $a$ itself.\n",
    "- At $t=2$, all nodes belonging to sets where at least one node in $I(a,1)$ belongs to also learn about the event. These nodes are $I(a,2)$, the nodes who \"heard it from someone who heard it from $a$\", plus the nodes who heard it from $a$ and $a$ itself.\n",
    "- etc etc.\n",
    "\n",
    "Progressively, more and more nodes learn about the event as it is propagated over the p2p network. The implementation is available in the `network.py` file. Let's take a simple example."
   ]
  },
  {
   "cell_type": "code",
   "execution_count": 3,
   "metadata": {},
   "outputs": [],
   "source": [
    "set_a = nt.NetworkSet(validators=list([0,1]))\n",
    "set_b = nt.NetworkSet(validators=list([1,2]))\n",
    "set_c = nt.NetworkSet(validators=list([2,3]))\n",
    "net = nt.Network(sets=list([set_a, set_b, set_c]))"
   ]
  },
  {
   "cell_type": "markdown",
   "metadata": {},
   "source": [
    "Here we have four validators, 0, 1, 2 and 3 connected in a chain. 0 is connected to 1, who is connected to 2, who is connected to 3. Our information sets are stored in the `network.sets` array with the following indices:\n",
    "\n",
    "```\n",
    "index: [validators]\n",
    "-------------------\n",
    "0: [0,1]\n",
    "1: [1,2]\n",
    "2: [2,3]\n",
    "```\n",
    "\n",
    "\n",
    "Same as we did in the [first notebook](../beaconrunner/br.html), we now create a dummy genesis state with four validators who each deposit 32 ETH in the contract -- the minimum to start validating."
   ]
  },
  {
   "cell_type": "code",
   "execution_count": 4,
   "metadata": {},
   "outputs": [],
   "source": [
    "genesis_state = brlib.get_genesis_state(4)\n",
    "brlib.process_genesis_block(genesis_state)\n",
    "specs.process_slots(genesis_state, 1)"
   ]
  },
  {
   "cell_type": "markdown",
   "metadata": {},
   "source": [
    "In the next code chunk, validator 3 disseminates an `Attestation` object, which is kept in the `items` attributes of the network. \n",
    "\n",
    "_Note:_ We use [brlib.py](https://github.com/ethereum/beaconrunner/tree/master/notebooks/beaconrunner2049/brlib.py) -- the Beacon Runner library of validator behaviours -- to create this attestation object. Unlike the first notebook, we won’t be going over the code governing validator policies, but if you’re curious to see how it works, check  it out [here](https://github.com/ethereum/beaconrunner/tree/master/notebooks/beaconrunner2049/brlib.py)."
   ]
  },
  {
   "cell_type": "code",
   "execution_count": 5,
   "metadata": {},
   "outputs": [
    {
     "name": "stdout",
     "output_type": "stream",
     "text": [
      "there are 1 attestations in network\n",
      "validator sets who know about this attestation: [2]\n"
     ]
    }
   ],
   "source": [
    "attestation = brlib.honest_attest(genesis_state, 3)\n",
    "nt.disseminate_attestation(net, 3, attestation)\n",
    "\n",
    "print(\"there are\", len(net.attestations), \"attestations in network\")\n",
    "print(\"validator sets who know about this attestation:\", [d for d in net.attestations[0].info_sets])"
   ]
  },
  {
   "cell_type": "markdown",
   "metadata": {},
   "source": [
    "As you can see from the `print` statement above, at this stage only the validator set at index 2 knows about the item, i.e., $I(3,1) = \\{ 3, 2 \\}$."
   ]
  },
  {
   "cell_type": "markdown",
   "metadata": {},
   "source": [
    "We call `update_network` to diffuse items in the network by one step. Since validator 2 is in $I(3, 1)$, and validator 1 shares an information set with validator 2, then we expect validator 1 to know about the attestation at $t=2$ (which means $I(3,2) = \\{ 3, 2, 1 \\}$)."
   ]
  },
  {
   "cell_type": "code",
   "execution_count": 6,
   "metadata": {},
   "outputs": [
    {
     "name": "stdout",
     "output_type": "stream",
     "text": [
      "validator sets who know about this attestation: [2, 1]\n"
     ]
    }
   ],
   "source": [
    "nt.update_network(net)\n",
    "\n",
    "print(\"validator sets who know about this attestation:\", [d for d in net.attestations[0].info_sets])"
   ]
  },
  {
   "cell_type": "markdown",
   "metadata": {},
   "source": [
    "As expected, we now see that validator sets 2 and 1 know about the event.\n",
    "\n",
    "Since validator 0 shares an information set with validator 1, if we call `update_network` again, we should see that all sets have learned about the event."
   ]
  },
  {
   "cell_type": "code",
   "execution_count": 7,
   "metadata": {},
   "outputs": [
    {
     "name": "stdout",
     "output_type": "stream",
     "text": [
      "validator sets who know about this attestation: [2, 1, 0]\n"
     ]
    }
   ],
   "source": [
    "nt.update_network(net)\n",
    "\n",
    "print(\"validator sets who know about this attestation:\", [d for d in net.attestations[0].info_sets])"
   ]
  },
  {
   "cell_type": "markdown",
   "metadata": {},
   "source": [
    "Finally, to see things from the perspective of an individual validator, we can use `knowledge_set(network, validator_index)`."
   ]
  },
  {
   "cell_type": "code",
   "execution_count": 8,
   "metadata": {},
   "outputs": [
    {
     "data": {
      "text/plain": [
       "{'attestations': [(0,\n",
       "   NetworkAttestation(Container)\n",
       "       item: Attestation = Attestation(Container)\n",
       "                               aggregation_bits: SpecialBitlistView = Bitlist[2048](1 bits: 1)\n",
       "                               data: AttestationData = AttestationData(Container)\n",
       "                                                           slot: Slot = 0\n",
       "                                                           index: CommitteeIndex = 0\n",
       "                                                           beacon_block_root: Root = 0xb6ecaf3995644680caedd44613f7e95bee66e6cce84c650334acf1594cc9466e\n",
       "                                                           source: Checkpoint = Checkpoint(Container)\n",
       "                                                                                    epoch: Epoch = 0\n",
       "                                                                                    root: Root = 0x0000000000000000000000000000000000000000000000000000000000000000\n",
       "                                                           target: Checkpoint = Checkpoint(Container)\n",
       "                                                                                    epoch: Epoch = 0\n",
       "                                                                                    root: Root = 0xb6ecaf3995644680caedd44613f7e95bee66e6cce84c650334acf1594cc9466e\n",
       "                               signature: BLSSignature = 0x000000000000000000000000000000000000000000000000000000000000000000000000000000000000000000000000000000000000000000000000000000000000000000000000000000000000000000000000000000000000000000000000\n",
       "       info_sets: List[NetworkSetIndex, 1099511627776] = List[NetworkSetIndex, 1099511627776]<<len=3>>(2, 1, 0))]}"
      ]
     },
     "execution_count": 8,
     "metadata": {},
     "output_type": "execute_result"
    }
   ],
   "source": [
    "nt.knowledge_set(net, 2)"
   ]
  },
  {
   "cell_type": "markdown",
   "metadata": {},
   "source": [
    "`knowledge_set` returns a dictionary. In this notebook, we only consider attestations on the network, but in the next, we'll add blocks on there too. Each value in the dictionary is an array of pairs, each pair giving the item and the index of the item in the network queue."
   ]
  },
  {
   "cell_type": "markdown",
   "metadata": {},
   "source": [
    "## Modelling a network partition\n",
    "\n",
    "In a network partition, the network is split in two (or more) components, which are unable to communicate with each other. We can represent it simply with our network class by defining two information sets that do not share any member in common. In particular, to represent the example given in [_Incentives in Ethereum's hybrid Casper protocol_](https://onlinelibrary.wiley.com/doi/pdf/10.1002/nem.2098) by Buterin, Reijsbergen, Leonardos and Piliouras (Figure 6), we assume the first partition contains 60% of the validators, while the remaining 40% are in the second partition.\n",
    "\n",
    "Our simulation will investigate how finalisation resumes after inactive validators lose their stake to protocol penalties. This time, we will have 100 validators in our network. Since we have more validators, let's go ahead and set `SLOTS_PER_EPOCH` to 16, giving them more room to breathe (note that current specs set `SLOTS_PER_EPOCH` to 32). We'll also increase the penalty from the chain not finalising anymore, so that we can speed up the interesting things in the simulation."
   ]
  },
  {
   "cell_type": "code",
   "execution_count": 9,
   "metadata": {},
   "outputs": [],
   "source": [
    "%%capture\n",
    "\n",
    "prepare_config(\".\", \"medium.yaml\")\n",
    "importlib.reload(specs)\n",
    "importlib.reload(nt)\n",
    "importlib.reload(brlib)"
   ]
  },
  {
   "cell_type": "markdown",
   "metadata": {},
   "source": [
    "Neither partition sees what is going on with the other partition, so we create two beacon states that will evolve in parallel. We associate a beacon state with each network information set. Both states start out in the same initial condition, with 100 registered validators, although, as we will see, only 60 will be active in consensus formation in the first partition, compared to 40 in the second. "
   ]
  },
  {
   "cell_type": "code",
   "execution_count": 10,
   "metadata": {},
   "outputs": [],
   "source": [
    "genesis_state = brlib.get_genesis_state(100)\n",
    "brlib.process_genesis_block(genesis_state)\n",
    "specs.process_slots(genesis_state, 1)\n",
    "genesis_state_2 = copy.deepcopy(genesis_state)\n",
    "\n",
    "set_a = nt.NetworkSet(validators=list(range(0,60)), beacon_state=genesis_state)\n",
    "set_b = nt.NetworkSet(validators=list(range(60,100)), beacon_state=genesis_state_2)\n",
    "network = nt.Network(sets=list([set_a, set_b]))"
   ]
  },
  {
   "cell_type": "markdown",
   "metadata": {},
   "source": [
    "Why are network partitions an issue? Attestations produced by validators in one partition cannot make it to validators in the other. At the start, all validators are assumed to have equal stake (the 32 ETH needed to become a validator), so there is no way for either partition to finalise checkpoints since neither has 2/3rds of the total stake (respectively, they have 60 and 40% of the total stake).\n",
    "\n",
    "The partition pretty much splits the chain into two branches. We can think of validators as having two _accounts_: one on their side of the partition (_the branch they can keep up with_), and one on the other side (_the branch they can't see_).\n",
    "\n",
    "The only way for finalisation to resume is for inactive validators on either side to start losing their stake -- this has the effect of  progressively increasing the stake of active validators (as a percentage of the total stake). At some point, active validators will have over 2/3rds of the total stake.\n",
    "\n",
    "Validators in partition 0 do not see any activity from validators in partition 1, so the branch run by partition 0 slowly penalises validators by emptying their accounts and giving more relative weight to the active validators in partition 0.\n",
    "\n",
    "The penalties come in different flavours:\n",
    "\n",
    "- Validators who are not seen producing attestations lose their base reward three times over (2 times for failing to vote on checkpoints, and 1 time for failing to vote on the current head of the chain).\n",
    "- In addition, when the chain has not finalised blocks for over `MIN_EPOCHS_TO_INACTIVITY_PENALTY` epochs, an additional penalty kicks in to nullify the gains of honest (and timely) validators and add a penalty proportional to the number of epochs since the last finalised block. Gulp!\n",
    "\n",
    "The second penalty might seem overly strict. But a chain that is not finalising is no good to anyone! The idea is to make it highly unprofitable to keep validating on a chain where some partition or malicious set of validators prevents finalisation.\n",
    "\n",
    "When the issue is a \"simple\" partition, as we'll see, the mechanism leaks enough cash from the inactive validators that finalisation resumes after some time, so waiting it out works. But in the case of a malicious attack, where a set of validators may be censoring another set, finalisation can be durably prevented. Compared to having no reward from honestly validating, the cost of coordinating off-chain to fork away malicious validators doesn't seem so bad now."
   ]
  },
  {
   "cell_type": "markdown",
   "metadata": {},
   "source": [
    "### Simulation time!\n",
    "\n",
    "We have quite a few new building blocks to our simulation, with most of the code is abstracted away in our [brlib.py](https://github.com/ethereum/beaconrunner/tree/master/notebooks/beaconrunner2049/brlib.py) file. We also introduce _observers_, metrics collected throughout the simulation, such as the active stake on each branch."
   ]
  },
  {
   "cell_type": "code",
   "execution_count": 11,
   "metadata": {},
   "outputs": [],
   "source": [
    "# Average effective stake of active validators in the first partition\n",
    "def active_stake_branch_0(state):\n",
    "    network = state[\"network\"]\n",
    "    return sum(\n",
    "        [network.sets[0].beacon_state.validators[validator_index].effective_balance\n",
    "         for validator_index in network.sets[0].validators]\n",
    "    ) / 60\n",
    "\n",
    "# Average effective stake of inactive validators in the first partition\n",
    "def inactive_stake_branch_0(state):\n",
    "    network = state[\"network\"]\n",
    "    return sum(\n",
    "        [network.sets[0].beacon_state.validators[validator_index].effective_balance\n",
    "         for validator_index in network.sets[1].validators]\n",
    "    ) / 40\n",
    "\n",
    "# Activity ratio of validators in the first partition\n",
    "def activity_ratio_0(state):\n",
    "    return state['active_stake_branch_0'] * 60 / state['inactive_stake_branch_0'] / 40\n",
    "\n",
    "# Average effective stake of active validators in the second partition\n",
    "def active_stake_branch_1(state):\n",
    "    network = state[\"network\"]\n",
    "    return sum(\n",
    "        [network.sets[1].beacon_state.validators[validator_index].effective_balance\n",
    "         for validator_index in network.sets[1].validators]\n",
    "    ) / 40\n",
    "\n",
    "# Average effective stake of inactive validators in the second partition\n",
    "def inactive_stake_branch_1(state):\n",
    "    network = state[\"network\"]\n",
    "    return sum(\n",
    "        [network.sets[1].beacon_state.validators[validator_index].effective_balance\n",
    "         for validator_index in network.sets[0].validators]\n",
    "    ) / 60\n",
    "\n",
    "# Activity ratio of validators in the second partition\n",
    "def activity_ratio_1(state):\n",
    "    return state['active_stake_branch_1'] * 40 / state['inactive_stake_branch_1'] / 60\n",
    "\n",
    "def slot(state):\n",
    "    network = state[\"network\"]\n",
    "    return network.sets[0].beacon_state.slot\n",
    "\n",
    "def epoch(state):\n",
    "    network = state[\"network\"]\n",
    "    return specs.get_current_epoch(network.sets[0].beacon_state)\n",
    "\n",
    "def finalized_epoch(state):\n",
    "    network = state[\"network\"]\n",
    "    return network.sets[0].beacon_state.finalized_checkpoint.epoch\n",
    "\n",
    "def just_bits(state):\n",
    "    network = state[\"network\"]\n",
    "    return network.sets[0].beacon_state.justification_bits\n",
    "\n",
    "def prev_justified_cp(state):\n",
    "    network = state[\"network\"]\n",
    "    return network.sets[0].beacon_state.previous_justified_checkpoint.epoch\n",
    "\n",
    "def curr_justified_cp(state):\n",
    "    network = state[\"network\"]\n",
    "    return network.sets[0].beacon_state.current_justified_checkpoint.epoch\n",
    "\n",
    "def proposer(state):\n",
    "    network = state[\"network\"]\n",
    "    return specs.get_beacon_proposer_index(network.sets[0].beacon_state)\n",
    "\n",
    "def attestations_length(state):\n",
    "    network = state[\"network\"]\n",
    "    proposer = state[\"proposer\"]\n",
    "    return len(nt.knowledge_set(network, proposer)[\"attestations\"])\n",
    "\n",
    "def percent_attesting_previous_epoch(state):\n",
    "    if specs.get_current_epoch(state) <= 0 + 1:\n",
    "        return 0.0\n",
    "\n",
    "    previous_epoch = specs.get_previous_epoch(state)\n",
    "\n",
    "    matching_target_attestations = specs.get_matching_target_attestations(state, previous_epoch)\n",
    "    percent_attest = float(specs.get_attesting_balance(state, matching_target_attestations)) / specs.get_total_active_balance(state) * 100\n",
    "    return percent_attest\n",
    "\n",
    "def percent_attesting_current_epoch(state):\n",
    "    if specs.get_current_epoch(state) <= 0 + 1:\n",
    "        return 0.0\n",
    "\n",
    "    current_epoch = specs.get_current_epoch(state)\n",
    "\n",
    "    matching_target_attestations = specs.get_matching_target_attestations(state, current_epoch)  # Current epoch\n",
    "    percent_attest = float(specs.get_attesting_balance(state, matching_target_attestations)) / specs.get_total_active_balance(state) * 100\n",
    "    return percent_attest\n",
    "\n",
    "def attest_prev(state):\n",
    "    network = state[\"network\"]\n",
    "    return round(\n",
    "        percent_attesting_previous_epoch(network.sets[0].beacon_state), 2\n",
    "    )\n",
    "\n",
    "def attest_curr(state):\n",
    "    network = state[\"network\"]\n",
    "    return round(\n",
    "        percent_attesting_current_epoch(network.sets[0].beacon_state), 2\n",
    "    )\n",
    "\n",
    "def attestations_for_0(state):\n",
    "    network = state[\"network\"]\n",
    "    return len([item for item in network.attestations if 0 in item.info_sets])\n",
    "\n",
    "observers = {\n",
    "    \"active_stake_branch_0\": active_stake_branch_0,\n",
    "    \"active_stake_branch_1\": active_stake_branch_1,\n",
    "    \"inactive_stake_branch_0\": inactive_stake_branch_0,\n",
    "    \"inactive_stake_branch_1\": inactive_stake_branch_1,\n",
    "    \"activity_ratio_0\": activity_ratio_0,\n",
    "    \"activity_ratio_1\": activity_ratio_1,\n",
    "    \"slot\": slot,\n",
    "    \"epoch\": epoch,\n",
    "    \"finalized_epoch\": finalized_epoch,\n",
    "    \"just_bits\": just_bits,\n",
    "    \"prev_justified_cp\": prev_justified_cp,\n",
    "    \"curr_justified_cp\": curr_justified_cp,\n",
    "    \"proposer\": proposer,\n",
    "    \"attestations_length\": attestations_length,\n",
    "    \"attest_prev\": attest_prev,\n",
    "    \"attest_curr\": attest_curr,\n",
    "    \"attestations_for_0\": attestations_for_0,\n",
    "}"
   ]
  },
  {
   "cell_type": "markdown",
   "metadata": {},
   "source": [
    "You should be able to get how the simulation will be built from the way we organise our `block_attestation_psub` array in the following code snippet. If you are not sure what this means, take a look at [the first notebook!](../beaconrunner/br.html)"
   ]
  },
  {
   "cell_type": "code",
   "execution_count": 12,
   "metadata": {},
   "outputs": [],
   "source": [
    "%%capture\n",
    "\n",
    "from cadCADsupSUP import *\n",
    "\n",
    "initial_conditions = {\n",
    "    'network': network\n",
    "}\n",
    "\n",
    "block_attestation_psub = [\n",
    "    # Step 1+2\n",
    "    {\n",
    "        'policies': {\n",
    "            'action': brlib.attest_policy\n",
    "        },\n",
    "        'variables': {\n",
    "            'network': brlib.disseminate_attestations\n",
    "        }\n",
    "    },\n",
    "    # Step 3+4\n",
    "    {\n",
    "        'policies': {\n",
    "            'action': brlib.propose_policy\n",
    "        },\n",
    "        'variables': {\n",
    "            'network': brlib.disseminate_blocks\n",
    "        }\n",
    "    }\n",
    "]\n",
    "\n",
    "observed_ic = get_observed_initial_conditions(initial_conditions, observers)\n",
    "observed_psubs = get_observed_psubs(block_attestation_psub, observers)\n",
    "\n",
    "model = Model(\n",
    "    initial_state=observed_ic,\n",
    "    state_update_blocks=observed_psubs,\n",
    "    params={},\n",
    ")\n",
    "simulation = Simulation(model=model, timesteps=300, runs=1)\n",
    "experiment = Experiment([simulation])\n",
    "experiment.engine = Engine(deepcopy=False, backend=Backend.SINGLE_PROCESS)\n",
    "result = experiment.run()\n",
    "df = pd.DataFrame(result)"
   ]
  },
  {
   "cell_type": "markdown",
   "metadata": {},
   "source": [
    "Our simulation has one _state variable_, declared in `initial_conditions`, our `network` object. We run the simulation for 300 steps (= 300 slots). Each step can be broken down in the following substeps:\n",
    "\n",
    "1. **(Policy):** Validators at state $\\omega[s]$ produce attestations for slot $s-1$.\n",
    "2. **(State update):** Attestations are sent \"over-the-wire\" and propagate in the network.\n",
    "3. **(Policy):** Validators who are designated to produce a block for slot $s$ collect attestations they have heard about and build the block.\n",
    "4. **(State update):** The produced blocks are disseminated and the state is moved to $\\omega[s+1]$.\n",
    "\n",
    "Note that our partition introduces a few difficulties:\n",
    "\n",
    "- Sometimes, a validator from partition 0 is designated to produce a block for the beacon chain growing in partition 1. In this case no block will be produced in partition 1, since the proposer is either unaware that they were chosen to produce a block or unable to communicate that block to other validators in partition 1.\n",
    "- Under our model, we assume perfect information except for the partition, i.e., all validators in one partition are always in sync (no latency within partitions). This allows us to optimise by purging the attestations included in blocks from the `network.items` list. If we did not have perfect latency, we would want to keep these attestations around, so that the validator whose turn it is to produce a block in a partition, and who may be unaware of all the blocks created in that same partition, can include attestations that, from their perspective, have not yet been included.\n",
    "\n",
    "In the background, we have also optimised the storage of attestations with _aggregates_. If the chain works as expected, validators certainly won't get too creative with what they are attesting, and we should expect a whole lot of attestations to look like each other. Why bother keeping track of a thousand times the same object? Aggregates allow us to securely batch these attestations.\n",
    "\n",
    "Since this topic is fairly central to the larger eth2 construction, let's dive in for a moment."
   ]
  },
  {
   "cell_type": "markdown",
   "metadata": {},
   "source": [
    "### Aggregates\n",
    "\n",
    "If you remember how we built attestations in the [initial Beacon Runner](../beaconrunner/br.html), we had an `aggregation_bits` attribute in `Attestation` instances. In the previous notebook, we set all bits of the `aggregation_bits` to 0, except for the one bit corresponding to the validator's index in its committee, which we set to 1.\n",
    "\n",
    "If however, in the ideal case, we expect all validators from the same committee to cast the exact same vote (same source, target and head), why bother collating all these votes as single `Attestation`s?\n",
    "\n",
    "Instead, we set the bits of the `aggregation_bits` attribute to represent which validators from the committee have cast this exact attestation.\n",
    "\n",
    "```python\n",
    "a = Attestation(AttestationData(source, target, head, committee, slot))\n",
    "\n",
    "# Possible values\n",
    "a.aggregation_bits = [0, 1] # val. 1 cast attestation a\n",
    "a.aggregation_bits = [1, 0] # val. 0 cast attestation a\n",
    "a.aggregation_bits = [1, 1] # vals. 0 and 1 cast attestation a\n",
    "```\n",
    "\n",
    "In [the consensus layer specifications](https://github.com/ethereum/eth2.0-specs/blob/dev/specs/phase0/validator.md#attestation-aggregation), each slot, some validators are randomly chosen as aggregators. Their job is to collect a bunch of attestations from diverse validators and package them in unique attestations, with `aggregation_bits` fields set to denote which validators have attested to a particular vote.\n",
    "\n",
    "In the best case, if all validators of a committee have attested to the same vote, an aggregator will take in their big pile of attestations and output a single one with all bits set to 1. _How can they do that? Why wouldn't they set the bits to anything they want?_ This is the magic of BLS signatures, and the particular case of BLS12-381, an especially friendly elliptic curve that allows us to aggregate signatures securely.\n",
    "\n",
    "One caveat here is that while signatures are aggregatable, aggregates themselves are not! This means that we couldn't reduce further two aggregates of the same attestation with the following bits: `[0, 1, 1]` and `[1, 1, 0]`. In both aggregates, the second bit is set to 1, meaning that both aggregates have seen the attestation produced by the second validator. Aren't we double-counting then?\n",
    "\n",
    "We are not! The beacon chain is quite permissive and the second validator would just see their vote included twice: once in the aggregate with bits `[0, 1, 1]`, and once in the aggregate with bits `[1, 1, 0]`. Validators are rewarded for their timeliness, or how fast their attestations are included in the chain. In case a validator's vote is included twice or more, the reward measures how fast their first inclusion was made and only counts that vote. Good guy beacon state!\n",
    "\n",
    "In our simulation, we follow more or less the same pattern but we do not model the behaviour of aggregators (yet!) Validators produce attestations on their own, setting the aggregate bit to 1 for themselves only. Once the block producer has collected all the attestations that were not included in their version of the chain (remember that we have two partitions!), they aggregate them as much as possible. This is done with the following two pieces of code:"
   ]
  },
  {
   "cell_type": "markdown",
   "metadata": {},
   "source": [
    "```python\n",
    "def build_aggregate(state, attestations):\n",
    "    # All attestations are from the same slot, committee index and vote for\n",
    "    # same source, target and beacon block.\n",
    "    if len(attestations) == 0:\n",
    "        return []\n",
    "\n",
    "    aggregation_bits = Bitlist[specs.MAX_VALIDATORS_PER_COMMITTEE](*([0] * len(attestations[0].aggregation_bits)))\n",
    "    for attestation in attestations:\n",
    "        validator_index_in_committee = attestation.aggregation_bits.index(1)\n",
    "        aggregation_bits[validator_index_in_committee] = True\n",
    "\n",
    "    return specs.Attestation(\n",
    "        aggregation_bits=aggregation_bits,\n",
    "        data=attestations[0].data\n",
    "    )\n",
    "\n",
    "def aggregate_attestations(state, attestations):\n",
    "    # Take in a set of attestations\n",
    "    # Output aggregated attestations\n",
    "    hashes = set([hash_tree_root(att.data) for att in attestations])\n",
    "    return [build_aggregate(\n",
    "        state,\n",
    "        [att for att in attestations if att_hash == hash_tree_root(att.data)]\n",
    "    ) for att_hash in hashes]\n",
    "```"
   ]
  },
  {
   "cell_type": "markdown",
   "metadata": {},
   "source": [
    "The first function, given a set of attestations vouching for the same source, target, head and from the same slot and committee, returns an aggregate attestation with the correct bits set to 1. The second function takes in a set of diverse attestations and groups identical attestations together."
   ]
  },
  {
   "cell_type": "markdown",
   "metadata": {},
   "source": [
    "### Show me the (leaking) money!\n",
    "\n",
    "OK, so validators in both partitions are working hard on their own version of the beacon chain, but nothing is finalising. This is because part of the stake is inactive, that is, the validators stuck on the other side cannot attest to anything.\n",
    "\n",
    "In order to finalise, we need at least 2/3rds of the stake attesting, meaning that active validators should have at least twice as much stake as inactive ones.\n",
    "\n",
    "Another way of saying this is the following: If we define the _activity ratio_ as the stake of active validators divided by the stake of inactive validators, then this ratio must be at least 2 in order for checkpoints to start finalising.\n",
    "\n",
    "At the beginning of our simulation, the first partition has an activity ratio of 60/40 = 3/2, while the second partition is at 40/60 = 2/3. Neither is quite at 2 yet! But as time goes by, inactive validators start losing stake to the protocol penalties. Let's see how much."
   ]
  },
  {
   "cell_type": "markdown",
   "metadata": {},
   "source": [
    "First, let's plot the average stake of active and inactive validators in partition 0."
   ]
  },
  {
   "cell_type": "code",
   "execution_count": 13,
   "metadata": {},
   "outputs": [
    {
     "data": {
      "text/html": [
       "        <script type=\"text/javascript\">\n",
       "        window.PlotlyConfig = {MathJaxConfig: 'local'};\n",
       "        if (window.MathJax) {MathJax.Hub.Config({SVG: {font: \"STIX-Web\"}});}\n",
       "        if (typeof require !== 'undefined') {\n",
       "        require.undef(\"plotly\");\n",
       "        requirejs.config({\n",
       "            paths: {\n",
       "                'plotly': ['https://cdn.plot.ly/plotly-2.2.0.min']\n",
       "            }\n",
       "        });\n",
       "        require(['plotly'], function(Plotly) {\n",
       "            window._Plotly = Plotly;\n",
       "        });\n",
       "        }\n",
       "        </script>\n",
       "        "
      ]
     },
     "metadata": {},
     "output_type": "display_data"
    },
    {
     "data": {
      "application/vnd.plotly.v1+json": {
       "config": {
        "plotlyServerURL": "https://plot.ly"
       },
       "data": [
        {
         "hovertemplate": "variable=active_stake_branch_0<br>timestep=%{x}<br>value=%{y}<extra></extra>",
         "legendgroup": "active_stake_branch_0",
         "line": {
          "color": "#636efa",
          "dash": "solid"
         },
         "mode": "lines",
         "name": "active_stake_branch_0",
         "orientation": "v",
         "showlegend": true,
         "type": "scatter",
         "x": [
          1,
          2,
          3,
          4,
          5,
          6,
          7,
          8,
          9,
          10,
          11,
          12,
          13,
          14,
          15,
          16,
          17,
          18,
          19,
          20,
          21,
          22,
          23,
          24,
          25,
          26,
          27,
          28,
          29,
          30,
          31,
          32,
          33,
          34,
          35,
          36,
          37,
          38,
          39,
          40,
          41,
          42,
          43,
          44,
          45,
          46,
          47,
          48,
          49,
          50,
          51,
          52,
          53,
          54,
          55,
          56,
          57,
          58,
          59,
          60,
          61,
          62,
          63,
          64,
          65,
          66,
          67,
          68,
          69,
          70,
          71,
          72,
          73,
          74,
          75,
          76,
          77,
          78,
          79,
          80,
          81,
          82,
          83,
          84,
          85,
          86,
          87,
          88,
          89,
          90,
          91,
          92,
          93,
          94,
          95,
          96,
          97,
          98,
          99,
          100,
          101,
          102,
          103,
          104,
          105,
          106,
          107,
          108,
          109,
          110,
          111,
          112,
          113,
          114,
          115,
          116,
          117,
          118,
          119,
          120,
          121,
          122,
          123,
          124,
          125,
          126,
          127,
          128,
          129,
          130,
          131,
          132,
          133,
          134,
          135,
          136,
          137,
          138,
          139,
          140,
          141,
          142,
          143,
          144,
          145,
          146,
          147,
          148,
          149,
          150,
          151,
          152,
          153,
          154,
          155,
          156,
          157,
          158,
          159,
          160,
          161,
          162,
          163,
          164,
          165,
          166,
          167,
          168,
          169,
          170,
          171,
          172,
          173,
          174,
          175,
          176,
          177,
          178,
          179,
          180,
          181,
          182,
          183,
          184,
          185,
          186,
          187,
          188,
          189,
          190,
          191,
          192,
          193,
          194,
          195,
          196,
          197,
          198,
          199,
          200,
          201,
          202,
          203,
          204,
          205,
          206,
          207,
          208,
          209,
          210,
          211,
          212,
          213,
          214,
          215,
          216,
          217,
          218,
          219,
          220,
          221,
          222,
          223,
          224,
          225,
          226,
          227,
          228,
          229,
          230,
          231,
          232,
          233,
          234,
          235,
          236,
          237,
          238,
          239,
          240,
          241,
          242,
          243,
          244,
          245,
          246,
          247,
          248,
          249,
          250,
          251,
          252,
          253,
          254,
          255,
          256,
          257,
          258,
          259,
          260,
          261,
          262,
          263,
          264,
          265,
          266,
          267,
          268,
          269,
          270,
          271,
          272,
          273,
          274,
          275,
          276,
          277,
          278,
          279,
          280,
          281,
          282,
          283,
          284,
          285,
          286,
          287,
          288,
          289,
          290,
          291,
          292,
          293,
          294,
          295,
          296,
          297,
          298,
          299,
          300
         ],
         "xaxis": "x",
         "y": [
          32000000000,
          32000000000,
          32000000000,
          32000000000,
          32000000000,
          32000000000,
          32000000000,
          32000000000,
          32000000000,
          32000000000,
          32000000000,
          32000000000,
          32000000000,
          32000000000,
          32000000000,
          32000000000,
          32000000000,
          32000000000,
          32000000000,
          32000000000,
          32000000000,
          32000000000,
          32000000000,
          32000000000,
          32000000000,
          32000000000,
          32000000000,
          32000000000,
          32000000000,
          32000000000,
          32000000000,
          32000000000,
          32000000000,
          32000000000,
          32000000000,
          32000000000,
          32000000000,
          32000000000,
          32000000000,
          32000000000,
          32000000000,
          32000000000,
          32000000000,
          32000000000,
          32000000000,
          32000000000,
          32000000000,
          32000000000,
          32000000000,
          32000000000,
          32000000000,
          32000000000,
          32000000000,
          32000000000,
          32000000000,
          32000000000,
          32000000000,
          32000000000,
          32000000000,
          32000000000,
          32000000000,
          32000000000,
          32000000000,
          32000000000,
          32000000000,
          32000000000,
          32000000000,
          32000000000,
          32000000000,
          32000000000,
          32000000000,
          32000000000,
          32000000000,
          32000000000,
          32000000000,
          32000000000,
          32000000000,
          32000000000,
          32000000000,
          32000000000,
          32000000000,
          32000000000,
          32000000000,
          32000000000,
          32000000000,
          32000000000,
          32000000000,
          32000000000,
          32000000000,
          32000000000,
          32000000000,
          32000000000,
          32000000000,
          32000000000,
          32000000000,
          32000000000,
          32000000000,
          32000000000,
          32000000000,
          32000000000,
          32000000000,
          32000000000,
          32000000000,
          32000000000,
          32000000000,
          32000000000,
          32000000000,
          32000000000,
          32000000000,
          32000000000,
          32000000000,
          32000000000,
          32000000000,
          32000000000,
          32000000000,
          32000000000,
          32000000000,
          32000000000,
          32000000000,
          32000000000,
          32000000000,
          32000000000,
          32000000000,
          32000000000,
          32000000000,
          32000000000,
          32000000000,
          32000000000,
          32000000000,
          32000000000,
          32000000000,
          32000000000,
          32000000000,
          32000000000,
          32000000000,
          32000000000,
          32000000000,
          32000000000,
          32000000000,
          32000000000,
          32000000000,
          32000000000,
          32000000000,
          32000000000,
          32000000000,
          32000000000,
          32000000000,
          32000000000,
          32000000000,
          32000000000,
          32000000000,
          32000000000,
          32000000000,
          32000000000,
          32000000000,
          32000000000,
          32000000000,
          32000000000,
          32000000000,
          32000000000,
          32000000000,
          32000000000,
          32000000000,
          32000000000,
          32000000000,
          32000000000,
          32000000000,
          32000000000,
          32000000000,
          32000000000,
          32000000000,
          32000000000,
          32000000000,
          32000000000,
          32000000000,
          32000000000,
          32000000000,
          32000000000,
          32000000000,
          32000000000,
          32000000000,
          32000000000,
          32000000000,
          32000000000,
          32000000000,
          32000000000,
          32000000000,
          32000000000,
          32000000000,
          32000000000,
          32000000000,
          32000000000,
          32000000000,
          32000000000,
          32000000000,
          32000000000,
          32000000000,
          32000000000,
          32000000000,
          32000000000,
          32000000000,
          32000000000,
          32000000000,
          32000000000,
          32000000000,
          32000000000,
          32000000000,
          32000000000,
          32000000000,
          32000000000,
          32000000000,
          32000000000,
          32000000000,
          32000000000,
          32000000000,
          32000000000,
          32000000000,
          32000000000,
          32000000000,
          32000000000,
          32000000000,
          32000000000,
          32000000000,
          32000000000,
          32000000000,
          32000000000,
          32000000000,
          32000000000,
          32000000000,
          32000000000,
          32000000000,
          32000000000,
          32000000000,
          32000000000,
          32000000000,
          32000000000,
          32000000000,
          32000000000,
          32000000000,
          32000000000,
          32000000000,
          32000000000,
          32000000000,
          32000000000,
          32000000000,
          32000000000,
          32000000000,
          32000000000,
          32000000000,
          32000000000,
          32000000000,
          32000000000,
          32000000000,
          32000000000,
          32000000000,
          32000000000,
          32000000000,
          32000000000,
          32000000000,
          32000000000,
          32000000000,
          32000000000,
          32000000000,
          32000000000,
          32000000000,
          32000000000,
          32000000000,
          32000000000,
          32000000000,
          32000000000,
          32000000000,
          32000000000,
          32000000000,
          32000000000,
          32000000000,
          32000000000,
          32000000000,
          32000000000,
          32000000000,
          32000000000,
          32000000000,
          32000000000,
          32000000000,
          32000000000,
          32000000000,
          32000000000,
          32000000000,
          32000000000,
          32000000000,
          32000000000,
          32000000000,
          32000000000,
          32000000000,
          32000000000,
          32000000000,
          32000000000,
          32000000000,
          32000000000,
          32000000000,
          32000000000
         ],
         "yaxis": "y"
        },
        {
         "hovertemplate": "variable=inactive_stake_branch_0<br>timestep=%{x}<br>value=%{y}<extra></extra>",
         "legendgroup": "inactive_stake_branch_0",
         "line": {
          "color": "#EF553B",
          "dash": "solid"
         },
         "mode": "lines",
         "name": "inactive_stake_branch_0",
         "orientation": "v",
         "showlegend": true,
         "type": "scatter",
         "x": [
          1,
          2,
          3,
          4,
          5,
          6,
          7,
          8,
          9,
          10,
          11,
          12,
          13,
          14,
          15,
          16,
          17,
          18,
          19,
          20,
          21,
          22,
          23,
          24,
          25,
          26,
          27,
          28,
          29,
          30,
          31,
          32,
          33,
          34,
          35,
          36,
          37,
          38,
          39,
          40,
          41,
          42,
          43,
          44,
          45,
          46,
          47,
          48,
          49,
          50,
          51,
          52,
          53,
          54,
          55,
          56,
          57,
          58,
          59,
          60,
          61,
          62,
          63,
          64,
          65,
          66,
          67,
          68,
          69,
          70,
          71,
          72,
          73,
          74,
          75,
          76,
          77,
          78,
          79,
          80,
          81,
          82,
          83,
          84,
          85,
          86,
          87,
          88,
          89,
          90,
          91,
          92,
          93,
          94,
          95,
          96,
          97,
          98,
          99,
          100,
          101,
          102,
          103,
          104,
          105,
          106,
          107,
          108,
          109,
          110,
          111,
          112,
          113,
          114,
          115,
          116,
          117,
          118,
          119,
          120,
          121,
          122,
          123,
          124,
          125,
          126,
          127,
          128,
          129,
          130,
          131,
          132,
          133,
          134,
          135,
          136,
          137,
          138,
          139,
          140,
          141,
          142,
          143,
          144,
          145,
          146,
          147,
          148,
          149,
          150,
          151,
          152,
          153,
          154,
          155,
          156,
          157,
          158,
          159,
          160,
          161,
          162,
          163,
          164,
          165,
          166,
          167,
          168,
          169,
          170,
          171,
          172,
          173,
          174,
          175,
          176,
          177,
          178,
          179,
          180,
          181,
          182,
          183,
          184,
          185,
          186,
          187,
          188,
          189,
          190,
          191,
          192,
          193,
          194,
          195,
          196,
          197,
          198,
          199,
          200,
          201,
          202,
          203,
          204,
          205,
          206,
          207,
          208,
          209,
          210,
          211,
          212,
          213,
          214,
          215,
          216,
          217,
          218,
          219,
          220,
          221,
          222,
          223,
          224,
          225,
          226,
          227,
          228,
          229,
          230,
          231,
          232,
          233,
          234,
          235,
          236,
          237,
          238,
          239,
          240,
          241,
          242,
          243,
          244,
          245,
          246,
          247,
          248,
          249,
          250,
          251,
          252,
          253,
          254,
          255,
          256,
          257,
          258,
          259,
          260,
          261,
          262,
          263,
          264,
          265,
          266,
          267,
          268,
          269,
          270,
          271,
          272,
          273,
          274,
          275,
          276,
          277,
          278,
          279,
          280,
          281,
          282,
          283,
          284,
          285,
          286,
          287,
          288,
          289,
          290,
          291,
          292,
          293,
          294,
          295,
          296,
          297,
          298,
          299,
          300
         ],
         "xaxis": "x",
         "y": [
          32000000000,
          32000000000,
          32000000000,
          32000000000,
          32000000000,
          32000000000,
          32000000000,
          32000000000,
          32000000000,
          32000000000,
          32000000000,
          32000000000,
          32000000000,
          32000000000,
          32000000000,
          32000000000,
          32000000000,
          32000000000,
          32000000000,
          32000000000,
          32000000000,
          32000000000,
          32000000000,
          32000000000,
          32000000000,
          32000000000,
          32000000000,
          32000000000,
          32000000000,
          32000000000,
          32000000000,
          32000000000,
          32000000000,
          32000000000,
          32000000000,
          32000000000,
          32000000000,
          32000000000,
          32000000000,
          32000000000,
          32000000000,
          32000000000,
          32000000000,
          32000000000,
          32000000000,
          32000000000,
          32000000000,
          32000000000,
          32000000000,
          32000000000,
          32000000000,
          32000000000,
          32000000000,
          32000000000,
          32000000000,
          32000000000,
          32000000000,
          32000000000,
          32000000000,
          32000000000,
          32000000000,
          32000000000,
          32000000000,
          32000000000,
          32000000000,
          32000000000,
          32000000000,
          32000000000,
          32000000000,
          32000000000,
          32000000000,
          32000000000,
          32000000000,
          32000000000,
          32000000000,
          32000000000,
          32000000000,
          32000000000,
          32000000000,
          32000000000,
          32000000000,
          32000000000,
          32000000000,
          32000000000,
          32000000000,
          32000000000,
          32000000000,
          32000000000,
          32000000000,
          32000000000,
          32000000000,
          32000000000,
          32000000000,
          32000000000,
          32000000000,
          32000000000,
          32000000000,
          32000000000,
          32000000000,
          32000000000,
          32000000000,
          32000000000,
          32000000000,
          32000000000,
          32000000000,
          32000000000,
          32000000000,
          32000000000,
          32000000000,
          32000000000,
          32000000000,
          26000000000,
          26000000000,
          26000000000,
          26000000000,
          26000000000,
          26000000000,
          26000000000,
          26000000000,
          26000000000,
          26000000000,
          26000000000,
          26000000000,
          26000000000,
          26000000000,
          26000000000,
          26000000000,
          22000000000,
          22000000000,
          22000000000,
          22000000000,
          22000000000,
          22000000000,
          22000000000,
          22000000000,
          22000000000,
          22000000000,
          22000000000,
          22000000000,
          22000000000,
          22000000000,
          22000000000,
          22000000000,
          17000000000,
          17000000000,
          17000000000,
          17000000000,
          17000000000,
          17000000000,
          17000000000,
          17000000000,
          17000000000,
          17000000000,
          17000000000,
          17000000000,
          17000000000,
          17000000000,
          17000000000,
          17000000000,
          17000000000,
          17000000000,
          17000000000,
          17000000000,
          17000000000,
          17000000000,
          17000000000,
          17000000000,
          17000000000,
          17000000000,
          17000000000,
          17000000000,
          17000000000,
          17000000000,
          17000000000,
          17000000000,
          17000000000,
          17000000000,
          17000000000,
          17000000000,
          17000000000,
          17000000000,
          17000000000,
          17000000000,
          17000000000,
          17000000000,
          17000000000,
          17000000000,
          17000000000,
          17000000000,
          17000000000,
          17000000000,
          17000000000,
          17000000000,
          17000000000,
          17000000000,
          17000000000,
          17000000000,
          17000000000,
          17000000000,
          17000000000,
          17000000000,
          17000000000,
          17000000000,
          17000000000,
          17000000000,
          17000000000,
          17000000000,
          17000000000,
          17000000000,
          17000000000,
          17000000000,
          17000000000,
          17000000000,
          17000000000,
          17000000000,
          17000000000,
          17000000000,
          17000000000,
          17000000000,
          17000000000,
          17000000000,
          17000000000,
          17000000000,
          17000000000,
          17000000000,
          17000000000,
          17000000000,
          17000000000,
          17000000000,
          17000000000,
          17000000000,
          17000000000,
          17000000000,
          17000000000,
          17000000000,
          17000000000,
          17000000000,
          17000000000,
          17000000000,
          17000000000,
          17000000000,
          17000000000,
          17000000000,
          17000000000,
          17000000000,
          17000000000,
          17000000000,
          17000000000,
          17000000000,
          17000000000,
          17000000000,
          17000000000,
          17000000000,
          17000000000,
          17000000000,
          17000000000,
          17000000000,
          17000000000,
          17000000000,
          17000000000,
          17000000000,
          17000000000,
          17000000000,
          17000000000,
          17000000000,
          17000000000,
          17000000000,
          17000000000,
          17000000000,
          17000000000,
          17000000000,
          17000000000,
          17000000000,
          17000000000,
          17000000000,
          17000000000,
          17000000000,
          17000000000,
          17000000000,
          17000000000,
          17000000000,
          17000000000,
          17000000000,
          17000000000,
          17000000000,
          17000000000,
          17000000000,
          17000000000,
          17000000000,
          17000000000,
          17000000000,
          17000000000,
          17000000000,
          17000000000,
          17000000000,
          17000000000,
          17000000000,
          17000000000,
          17000000000,
          17000000000
         ],
         "yaxis": "y"
        }
       ],
       "layout": {
        "autosize": true,
        "legend": {
         "title": {
          "text": "variable"
         },
         "tracegroupgap": 0
        },
        "margin": {
         "t": 60
        },
        "template": {
         "data": {
          "bar": [
           {
            "error_x": {
             "color": "#2a3f5f"
            },
            "error_y": {
             "color": "#2a3f5f"
            },
            "marker": {
             "line": {
              "color": "#E5ECF6",
              "width": 0.5
             },
             "pattern": {
              "fillmode": "overlay",
              "size": 10,
              "solidity": 0.2
             }
            },
            "type": "bar"
           }
          ],
          "barpolar": [
           {
            "marker": {
             "line": {
              "color": "#E5ECF6",
              "width": 0.5
             },
             "pattern": {
              "fillmode": "overlay",
              "size": 10,
              "solidity": 0.2
             }
            },
            "type": "barpolar"
           }
          ],
          "carpet": [
           {
            "aaxis": {
             "endlinecolor": "#2a3f5f",
             "gridcolor": "white",
             "linecolor": "white",
             "minorgridcolor": "white",
             "startlinecolor": "#2a3f5f"
            },
            "baxis": {
             "endlinecolor": "#2a3f5f",
             "gridcolor": "white",
             "linecolor": "white",
             "minorgridcolor": "white",
             "startlinecolor": "#2a3f5f"
            },
            "type": "carpet"
           }
          ],
          "choropleth": [
           {
            "colorbar": {
             "outlinewidth": 0,
             "ticks": ""
            },
            "type": "choropleth"
           }
          ],
          "contour": [
           {
            "colorbar": {
             "outlinewidth": 0,
             "ticks": ""
            },
            "colorscale": [
             [
              0,
              "#0d0887"
             ],
             [
              0.1111111111111111,
              "#46039f"
             ],
             [
              0.2222222222222222,
              "#7201a8"
             ],
             [
              0.3333333333333333,
              "#9c179e"
             ],
             [
              0.4444444444444444,
              "#bd3786"
             ],
             [
              0.5555555555555556,
              "#d8576b"
             ],
             [
              0.6666666666666666,
              "#ed7953"
             ],
             [
              0.7777777777777778,
              "#fb9f3a"
             ],
             [
              0.8888888888888888,
              "#fdca26"
             ],
             [
              1,
              "#f0f921"
             ]
            ],
            "type": "contour"
           }
          ],
          "contourcarpet": [
           {
            "colorbar": {
             "outlinewidth": 0,
             "ticks": ""
            },
            "type": "contourcarpet"
           }
          ],
          "heatmap": [
           {
            "colorbar": {
             "outlinewidth": 0,
             "ticks": ""
            },
            "colorscale": [
             [
              0,
              "#0d0887"
             ],
             [
              0.1111111111111111,
              "#46039f"
             ],
             [
              0.2222222222222222,
              "#7201a8"
             ],
             [
              0.3333333333333333,
              "#9c179e"
             ],
             [
              0.4444444444444444,
              "#bd3786"
             ],
             [
              0.5555555555555556,
              "#d8576b"
             ],
             [
              0.6666666666666666,
              "#ed7953"
             ],
             [
              0.7777777777777778,
              "#fb9f3a"
             ],
             [
              0.8888888888888888,
              "#fdca26"
             ],
             [
              1,
              "#f0f921"
             ]
            ],
            "type": "heatmap"
           }
          ],
          "heatmapgl": [
           {
            "colorbar": {
             "outlinewidth": 0,
             "ticks": ""
            },
            "colorscale": [
             [
              0,
              "#0d0887"
             ],
             [
              0.1111111111111111,
              "#46039f"
             ],
             [
              0.2222222222222222,
              "#7201a8"
             ],
             [
              0.3333333333333333,
              "#9c179e"
             ],
             [
              0.4444444444444444,
              "#bd3786"
             ],
             [
              0.5555555555555556,
              "#d8576b"
             ],
             [
              0.6666666666666666,
              "#ed7953"
             ],
             [
              0.7777777777777778,
              "#fb9f3a"
             ],
             [
              0.8888888888888888,
              "#fdca26"
             ],
             [
              1,
              "#f0f921"
             ]
            ],
            "type": "heatmapgl"
           }
          ],
          "histogram": [
           {
            "marker": {
             "pattern": {
              "fillmode": "overlay",
              "size": 10,
              "solidity": 0.2
             }
            },
            "type": "histogram"
           }
          ],
          "histogram2d": [
           {
            "colorbar": {
             "outlinewidth": 0,
             "ticks": ""
            },
            "colorscale": [
             [
              0,
              "#0d0887"
             ],
             [
              0.1111111111111111,
              "#46039f"
             ],
             [
              0.2222222222222222,
              "#7201a8"
             ],
             [
              0.3333333333333333,
              "#9c179e"
             ],
             [
              0.4444444444444444,
              "#bd3786"
             ],
             [
              0.5555555555555556,
              "#d8576b"
             ],
             [
              0.6666666666666666,
              "#ed7953"
             ],
             [
              0.7777777777777778,
              "#fb9f3a"
             ],
             [
              0.8888888888888888,
              "#fdca26"
             ],
             [
              1,
              "#f0f921"
             ]
            ],
            "type": "histogram2d"
           }
          ],
          "histogram2dcontour": [
           {
            "colorbar": {
             "outlinewidth": 0,
             "ticks": ""
            },
            "colorscale": [
             [
              0,
              "#0d0887"
             ],
             [
              0.1111111111111111,
              "#46039f"
             ],
             [
              0.2222222222222222,
              "#7201a8"
             ],
             [
              0.3333333333333333,
              "#9c179e"
             ],
             [
              0.4444444444444444,
              "#bd3786"
             ],
             [
              0.5555555555555556,
              "#d8576b"
             ],
             [
              0.6666666666666666,
              "#ed7953"
             ],
             [
              0.7777777777777778,
              "#fb9f3a"
             ],
             [
              0.8888888888888888,
              "#fdca26"
             ],
             [
              1,
              "#f0f921"
             ]
            ],
            "type": "histogram2dcontour"
           }
          ],
          "mesh3d": [
           {
            "colorbar": {
             "outlinewidth": 0,
             "ticks": ""
            },
            "type": "mesh3d"
           }
          ],
          "parcoords": [
           {
            "line": {
             "colorbar": {
              "outlinewidth": 0,
              "ticks": ""
             }
            },
            "type": "parcoords"
           }
          ],
          "pie": [
           {
            "automargin": true,
            "type": "pie"
           }
          ],
          "scatter": [
           {
            "marker": {
             "colorbar": {
              "outlinewidth": 0,
              "ticks": ""
             }
            },
            "type": "scatter"
           }
          ],
          "scatter3d": [
           {
            "line": {
             "colorbar": {
              "outlinewidth": 0,
              "ticks": ""
             }
            },
            "marker": {
             "colorbar": {
              "outlinewidth": 0,
              "ticks": ""
             }
            },
            "type": "scatter3d"
           }
          ],
          "scattercarpet": [
           {
            "marker": {
             "colorbar": {
              "outlinewidth": 0,
              "ticks": ""
             }
            },
            "type": "scattercarpet"
           }
          ],
          "scattergeo": [
           {
            "marker": {
             "colorbar": {
              "outlinewidth": 0,
              "ticks": ""
             }
            },
            "type": "scattergeo"
           }
          ],
          "scattergl": [
           {
            "marker": {
             "colorbar": {
              "outlinewidth": 0,
              "ticks": ""
             }
            },
            "type": "scattergl"
           }
          ],
          "scattermapbox": [
           {
            "marker": {
             "colorbar": {
              "outlinewidth": 0,
              "ticks": ""
             }
            },
            "type": "scattermapbox"
           }
          ],
          "scatterpolar": [
           {
            "marker": {
             "colorbar": {
              "outlinewidth": 0,
              "ticks": ""
             }
            },
            "type": "scatterpolar"
           }
          ],
          "scatterpolargl": [
           {
            "marker": {
             "colorbar": {
              "outlinewidth": 0,
              "ticks": ""
             }
            },
            "type": "scatterpolargl"
           }
          ],
          "scatterternary": [
           {
            "marker": {
             "colorbar": {
              "outlinewidth": 0,
              "ticks": ""
             }
            },
            "type": "scatterternary"
           }
          ],
          "surface": [
           {
            "colorbar": {
             "outlinewidth": 0,
             "ticks": ""
            },
            "colorscale": [
             [
              0,
              "#0d0887"
             ],
             [
              0.1111111111111111,
              "#46039f"
             ],
             [
              0.2222222222222222,
              "#7201a8"
             ],
             [
              0.3333333333333333,
              "#9c179e"
             ],
             [
              0.4444444444444444,
              "#bd3786"
             ],
             [
              0.5555555555555556,
              "#d8576b"
             ],
             [
              0.6666666666666666,
              "#ed7953"
             ],
             [
              0.7777777777777778,
              "#fb9f3a"
             ],
             [
              0.8888888888888888,
              "#fdca26"
             ],
             [
              1,
              "#f0f921"
             ]
            ],
            "type": "surface"
           }
          ],
          "table": [
           {
            "cells": {
             "fill": {
              "color": "#EBF0F8"
             },
             "line": {
              "color": "white"
             }
            },
            "header": {
             "fill": {
              "color": "#C8D4E3"
             },
             "line": {
              "color": "white"
             }
            },
            "type": "table"
           }
          ]
         },
         "layout": {
          "annotationdefaults": {
           "arrowcolor": "#2a3f5f",
           "arrowhead": 0,
           "arrowwidth": 1
          },
          "autotypenumbers": "strict",
          "coloraxis": {
           "colorbar": {
            "outlinewidth": 0,
            "ticks": ""
           }
          },
          "colorscale": {
           "diverging": [
            [
             0,
             "#8e0152"
            ],
            [
             0.1,
             "#c51b7d"
            ],
            [
             0.2,
             "#de77ae"
            ],
            [
             0.3,
             "#f1b6da"
            ],
            [
             0.4,
             "#fde0ef"
            ],
            [
             0.5,
             "#f7f7f7"
            ],
            [
             0.6,
             "#e6f5d0"
            ],
            [
             0.7,
             "#b8e186"
            ],
            [
             0.8,
             "#7fbc41"
            ],
            [
             0.9,
             "#4d9221"
            ],
            [
             1,
             "#276419"
            ]
           ],
           "sequential": [
            [
             0,
             "#0d0887"
            ],
            [
             0.1111111111111111,
             "#46039f"
            ],
            [
             0.2222222222222222,
             "#7201a8"
            ],
            [
             0.3333333333333333,
             "#9c179e"
            ],
            [
             0.4444444444444444,
             "#bd3786"
            ],
            [
             0.5555555555555556,
             "#d8576b"
            ],
            [
             0.6666666666666666,
             "#ed7953"
            ],
            [
             0.7777777777777778,
             "#fb9f3a"
            ],
            [
             0.8888888888888888,
             "#fdca26"
            ],
            [
             1,
             "#f0f921"
            ]
           ],
           "sequentialminus": [
            [
             0,
             "#0d0887"
            ],
            [
             0.1111111111111111,
             "#46039f"
            ],
            [
             0.2222222222222222,
             "#7201a8"
            ],
            [
             0.3333333333333333,
             "#9c179e"
            ],
            [
             0.4444444444444444,
             "#bd3786"
            ],
            [
             0.5555555555555556,
             "#d8576b"
            ],
            [
             0.6666666666666666,
             "#ed7953"
            ],
            [
             0.7777777777777778,
             "#fb9f3a"
            ],
            [
             0.8888888888888888,
             "#fdca26"
            ],
            [
             1,
             "#f0f921"
            ]
           ]
          },
          "colorway": [
           "#636efa",
           "#EF553B",
           "#00cc96",
           "#ab63fa",
           "#FFA15A",
           "#19d3f3",
           "#FF6692",
           "#B6E880",
           "#FF97FF",
           "#FECB52"
          ],
          "font": {
           "color": "#2a3f5f"
          },
          "geo": {
           "bgcolor": "white",
           "lakecolor": "white",
           "landcolor": "#E5ECF6",
           "showlakes": true,
           "showland": true,
           "subunitcolor": "white"
          },
          "hoverlabel": {
           "align": "left"
          },
          "hovermode": "closest",
          "mapbox": {
           "style": "light"
          },
          "paper_bgcolor": "white",
          "plot_bgcolor": "#E5ECF6",
          "polar": {
           "angularaxis": {
            "gridcolor": "white",
            "linecolor": "white",
            "ticks": ""
           },
           "bgcolor": "#E5ECF6",
           "radialaxis": {
            "gridcolor": "white",
            "linecolor": "white",
            "ticks": ""
           }
          },
          "scene": {
           "xaxis": {
            "backgroundcolor": "#E5ECF6",
            "gridcolor": "white",
            "gridwidth": 2,
            "linecolor": "white",
            "showbackground": true,
            "ticks": "",
            "zerolinecolor": "white"
           },
           "yaxis": {
            "backgroundcolor": "#E5ECF6",
            "gridcolor": "white",
            "gridwidth": 2,
            "linecolor": "white",
            "showbackground": true,
            "ticks": "",
            "zerolinecolor": "white"
           },
           "zaxis": {
            "backgroundcolor": "#E5ECF6",
            "gridcolor": "white",
            "gridwidth": 2,
            "linecolor": "white",
            "showbackground": true,
            "ticks": "",
            "zerolinecolor": "white"
           }
          },
          "shapedefaults": {
           "line": {
            "color": "#2a3f5f"
           }
          },
          "ternary": {
           "aaxis": {
            "gridcolor": "white",
            "linecolor": "white",
            "ticks": ""
           },
           "baxis": {
            "gridcolor": "white",
            "linecolor": "white",
            "ticks": ""
           },
           "bgcolor": "#E5ECF6",
           "caxis": {
            "gridcolor": "white",
            "linecolor": "white",
            "ticks": ""
           }
          },
          "title": {
           "x": 0.05
          },
          "xaxis": {
           "automargin": true,
           "gridcolor": "white",
           "linecolor": "white",
           "ticks": "",
           "title": {
            "standoff": 15
           },
           "zerolinecolor": "white",
           "zerolinewidth": 2
          },
          "yaxis": {
           "automargin": true,
           "gridcolor": "white",
           "linecolor": "white",
           "ticks": "",
           "title": {
            "standoff": 15
           },
           "zerolinecolor": "white",
           "zerolinewidth": 2
          }
         }
        },
        "xaxis": {
         "anchor": "y",
         "autorange": true,
         "domain": [
          0,
          1
         ],
         "range": [
          1,
          300
         ],
         "title": {
          "text": "timestep"
         },
         "type": "linear"
        },
        "yaxis": {
         "anchor": "x",
         "autorange": true,
         "domain": [
          0,
          1
         ],
         "range": [
          16166666666.666666,
          32833333333.333332
         ],
         "title": {
          "text": "value"
         },
         "type": "linear"
        }
       }
      },
      "image/png": "[encoded data removed]",
      "text/html": [
       "<div>                            <div id=\"090ab848-5567-43cb-b72b-4d929ce31fb0\" class=\"plotly-graph-div\" style=\"height:525px; width:100%;\"></div>            <script type=\"text/javascript\">                require([\"plotly\"], function(Plotly) {                    window.PLOTLYENV=window.PLOTLYENV || {};                                    if (document.getElementById(\"090ab848-5567-43cb-b72b-4d929ce31fb0\")) {                    Plotly.newPlot(                        \"090ab848-5567-43cb-b72b-4d929ce31fb0\",                        [{\"hovertemplate\":\"variable=active_stake_branch_0<br>timestep=%{x}<br>value=%{y}<extra></extra>\",\"legendgroup\":\"active_stake_branch_0\",\"line\":{\"color\":\"#636efa\",\"dash\":\"solid\"},\"mode\":\"lines\",\"name\":\"active_stake_branch_0\",\"orientation\":\"v\",\"showlegend\":true,\"type\":\"scatter\",\"x\":[1,2,3,4,5,6,7,8,9,10,11,12,13,14,15,16,17,18,19,20,21,22,23,24,25,26,27,28,29,30,31,32,33,34,35,36,37,38,39,40,41,42,43,44,45,46,47,48,49,50,51,52,53,54,55,56,57,58,59,60,61,62,63,64,65,66,67,68,69,70,71,72,73,74,75,76,77,78,79,80,81,82,83,84,85,86,87,88,89,90,91,92,93,94,95,96,97,98,99,100,101,102,103,104,105,106,107,108,109,110,111,112,113,114,115,116,117,118,119,120,121,122,123,124,125,126,127,128,129,130,131,132,133,134,135,136,137,138,139,140,141,142,143,144,145,146,147,148,149,150,151,152,153,154,155,156,157,158,159,160,161,162,163,164,165,166,167,168,169,170,171,172,173,174,175,176,177,178,179,180,181,182,183,184,185,186,187,188,189,190,191,192,193,194,195,196,197,198,199,200,201,202,203,204,205,206,207,208,209,210,211,212,213,214,215,216,217,218,219,220,221,222,223,224,225,226,227,228,229,230,231,232,233,234,235,236,237,238,239,240,241,242,243,244,245,246,247,248,249,250,251,252,253,254,255,256,257,258,259,260,261,262,263,264,265,266,267,268,269,270,271,272,273,274,275,276,277,278,279,280,281,282,283,284,285,286,287,288,289,290,291,292,293,294,295,296,297,298,299,300],\"xaxis\":\"x\",\"y\":[32000000000.0,32000000000.0,32000000000.0,32000000000.0,32000000000.0,32000000000.0,32000000000.0,32000000000.0,32000000000.0,32000000000.0,32000000000.0,32000000000.0,32000000000.0,32000000000.0,32000000000.0,32000000000.0,32000000000.0,32000000000.0,32000000000.0,32000000000.0,32000000000.0,32000000000.0,32000000000.0,32000000000.0,32000000000.0,32000000000.0,32000000000.0,32000000000.0,32000000000.0,32000000000.0,32000000000.0,32000000000.0,32000000000.0,32000000000.0,32000000000.0,32000000000.0,32000000000.0,32000000000.0,32000000000.0,32000000000.0,32000000000.0,32000000000.0,32000000000.0,32000000000.0,32000000000.0,32000000000.0,32000000000.0,32000000000.0,32000000000.0,32000000000.0,32000000000.0,32000000000.0,32000000000.0,32000000000.0,32000000000.0,32000000000.0,32000000000.0,32000000000.0,32000000000.0,32000000000.0,32000000000.0,32000000000.0,32000000000.0,32000000000.0,32000000000.0,32000000000.0,32000000000.0,32000000000.0,32000000000.0,32000000000.0,32000000000.0,32000000000.0,32000000000.0,32000000000.0,32000000000.0,32000000000.0,32000000000.0,32000000000.0,32000000000.0,32000000000.0,32000000000.0,32000000000.0,32000000000.0,32000000000.0,32000000000.0,32000000000.0,32000000000.0,32000000000.0,32000000000.0,32000000000.0,32000000000.0,32000000000.0,32000000000.0,32000000000.0,32000000000.0,32000000000.0,32000000000.0,32000000000.0,32000000000.0,32000000000.0,32000000000.0,32000000000.0,32000000000.0,32000000000.0,32000000000.0,32000000000.0,32000000000.0,32000000000.0,32000000000.0,32000000000.0,32000000000.0,32000000000.0,32000000000.0,32000000000.0,32000000000.0,32000000000.0,32000000000.0,32000000000.0,32000000000.0,32000000000.0,32000000000.0,32000000000.0,32000000000.0,32000000000.0,32000000000.0,32000000000.0,32000000000.0,32000000000.0,32000000000.0,32000000000.0,32000000000.0,32000000000.0,32000000000.0,32000000000.0,32000000000.0,32000000000.0,32000000000.0,32000000000.0,32000000000.0,32000000000.0,32000000000.0,32000000000.0,32000000000.0,32000000000.0,32000000000.0,32000000000.0,32000000000.0,32000000000.0,32000000000.0,32000000000.0,32000000000.0,32000000000.0,32000000000.0,32000000000.0,32000000000.0,32000000000.0,32000000000.0,32000000000.0,32000000000.0,32000000000.0,32000000000.0,32000000000.0,32000000000.0,32000000000.0,32000000000.0,32000000000.0,32000000000.0,32000000000.0,32000000000.0,32000000000.0,32000000000.0,32000000000.0,32000000000.0,32000000000.0,32000000000.0,32000000000.0,32000000000.0,32000000000.0,32000000000.0,32000000000.0,32000000000.0,32000000000.0,32000000000.0,32000000000.0,32000000000.0,32000000000.0,32000000000.0,32000000000.0,32000000000.0,32000000000.0,32000000000.0,32000000000.0,32000000000.0,32000000000.0,32000000000.0,32000000000.0,32000000000.0,32000000000.0,32000000000.0,32000000000.0,32000000000.0,32000000000.0,32000000000.0,32000000000.0,32000000000.0,32000000000.0,32000000000.0,32000000000.0,32000000000.0,32000000000.0,32000000000.0,32000000000.0,32000000000.0,32000000000.0,32000000000.0,32000000000.0,32000000000.0,32000000000.0,32000000000.0,32000000000.0,32000000000.0,32000000000.0,32000000000.0,32000000000.0,32000000000.0,32000000000.0,32000000000.0,32000000000.0,32000000000.0,32000000000.0,32000000000.0,32000000000.0,32000000000.0,32000000000.0,32000000000.0,32000000000.0,32000000000.0,32000000000.0,32000000000.0,32000000000.0,32000000000.0,32000000000.0,32000000000.0,32000000000.0,32000000000.0,32000000000.0,32000000000.0,32000000000.0,32000000000.0,32000000000.0,32000000000.0,32000000000.0,32000000000.0,32000000000.0,32000000000.0,32000000000.0,32000000000.0,32000000000.0,32000000000.0,32000000000.0,32000000000.0,32000000000.0,32000000000.0,32000000000.0,32000000000.0,32000000000.0,32000000000.0,32000000000.0,32000000000.0,32000000000.0,32000000000.0,32000000000.0,32000000000.0,32000000000.0,32000000000.0,32000000000.0,32000000000.0,32000000000.0,32000000000.0,32000000000.0,32000000000.0,32000000000.0,32000000000.0,32000000000.0,32000000000.0,32000000000.0,32000000000.0,32000000000.0,32000000000.0,32000000000.0,32000000000.0,32000000000.0,32000000000.0,32000000000.0,32000000000.0,32000000000.0,32000000000.0,32000000000.0,32000000000.0,32000000000.0],\"yaxis\":\"y\"},{\"hovertemplate\":\"variable=inactive_stake_branch_0<br>timestep=%{x}<br>value=%{y}<extra></extra>\",\"legendgroup\":\"inactive_stake_branch_0\",\"line\":{\"color\":\"#EF553B\",\"dash\":\"solid\"},\"mode\":\"lines\",\"name\":\"inactive_stake_branch_0\",\"orientation\":\"v\",\"showlegend\":true,\"type\":\"scatter\",\"x\":[1,2,3,4,5,6,7,8,9,10,11,12,13,14,15,16,17,18,19,20,21,22,23,24,25,26,27,28,29,30,31,32,33,34,35,36,37,38,39,40,41,42,43,44,45,46,47,48,49,50,51,52,53,54,55,56,57,58,59,60,61,62,63,64,65,66,67,68,69,70,71,72,73,74,75,76,77,78,79,80,81,82,83,84,85,86,87,88,89,90,91,92,93,94,95,96,97,98,99,100,101,102,103,104,105,106,107,108,109,110,111,112,113,114,115,116,117,118,119,120,121,122,123,124,125,126,127,128,129,130,131,132,133,134,135,136,137,138,139,140,141,142,143,144,145,146,147,148,149,150,151,152,153,154,155,156,157,158,159,160,161,162,163,164,165,166,167,168,169,170,171,172,173,174,175,176,177,178,179,180,181,182,183,184,185,186,187,188,189,190,191,192,193,194,195,196,197,198,199,200,201,202,203,204,205,206,207,208,209,210,211,212,213,214,215,216,217,218,219,220,221,222,223,224,225,226,227,228,229,230,231,232,233,234,235,236,237,238,239,240,241,242,243,244,245,246,247,248,249,250,251,252,253,254,255,256,257,258,259,260,261,262,263,264,265,266,267,268,269,270,271,272,273,274,275,276,277,278,279,280,281,282,283,284,285,286,287,288,289,290,291,292,293,294,295,296,297,298,299,300],\"xaxis\":\"x\",\"y\":[32000000000.0,32000000000.0,32000000000.0,32000000000.0,32000000000.0,32000000000.0,32000000000.0,32000000000.0,32000000000.0,32000000000.0,32000000000.0,32000000000.0,32000000000.0,32000000000.0,32000000000.0,32000000000.0,32000000000.0,32000000000.0,32000000000.0,32000000000.0,32000000000.0,32000000000.0,32000000000.0,32000000000.0,32000000000.0,32000000000.0,32000000000.0,32000000000.0,32000000000.0,32000000000.0,32000000000.0,32000000000.0,32000000000.0,32000000000.0,32000000000.0,32000000000.0,32000000000.0,32000000000.0,32000000000.0,32000000000.0,32000000000.0,32000000000.0,32000000000.0,32000000000.0,32000000000.0,32000000000.0,32000000000.0,32000000000.0,32000000000.0,32000000000.0,32000000000.0,32000000000.0,32000000000.0,32000000000.0,32000000000.0,32000000000.0,32000000000.0,32000000000.0,32000000000.0,32000000000.0,32000000000.0,32000000000.0,32000000000.0,32000000000.0,32000000000.0,32000000000.0,32000000000.0,32000000000.0,32000000000.0,32000000000.0,32000000000.0,32000000000.0,32000000000.0,32000000000.0,32000000000.0,32000000000.0,32000000000.0,32000000000.0,32000000000.0,32000000000.0,32000000000.0,32000000000.0,32000000000.0,32000000000.0,32000000000.0,32000000000.0,32000000000.0,32000000000.0,32000000000.0,32000000000.0,32000000000.0,32000000000.0,32000000000.0,32000000000.0,32000000000.0,32000000000.0,32000000000.0,32000000000.0,32000000000.0,32000000000.0,32000000000.0,32000000000.0,32000000000.0,32000000000.0,32000000000.0,32000000000.0,32000000000.0,32000000000.0,32000000000.0,32000000000.0,32000000000.0,26000000000.0,26000000000.0,26000000000.0,26000000000.0,26000000000.0,26000000000.0,26000000000.0,26000000000.0,26000000000.0,26000000000.0,26000000000.0,26000000000.0,26000000000.0,26000000000.0,26000000000.0,26000000000.0,22000000000.0,22000000000.0,22000000000.0,22000000000.0,22000000000.0,22000000000.0,22000000000.0,22000000000.0,22000000000.0,22000000000.0,22000000000.0,22000000000.0,22000000000.0,22000000000.0,22000000000.0,22000000000.0,17000000000.0,17000000000.0,17000000000.0,17000000000.0,17000000000.0,17000000000.0,17000000000.0,17000000000.0,17000000000.0,17000000000.0,17000000000.0,17000000000.0,17000000000.0,17000000000.0,17000000000.0,17000000000.0,17000000000.0,17000000000.0,17000000000.0,17000000000.0,17000000000.0,17000000000.0,17000000000.0,17000000000.0,17000000000.0,17000000000.0,17000000000.0,17000000000.0,17000000000.0,17000000000.0,17000000000.0,17000000000.0,17000000000.0,17000000000.0,17000000000.0,17000000000.0,17000000000.0,17000000000.0,17000000000.0,17000000000.0,17000000000.0,17000000000.0,17000000000.0,17000000000.0,17000000000.0,17000000000.0,17000000000.0,17000000000.0,17000000000.0,17000000000.0,17000000000.0,17000000000.0,17000000000.0,17000000000.0,17000000000.0,17000000000.0,17000000000.0,17000000000.0,17000000000.0,17000000000.0,17000000000.0,17000000000.0,17000000000.0,17000000000.0,17000000000.0,17000000000.0,17000000000.0,17000000000.0,17000000000.0,17000000000.0,17000000000.0,17000000000.0,17000000000.0,17000000000.0,17000000000.0,17000000000.0,17000000000.0,17000000000.0,17000000000.0,17000000000.0,17000000000.0,17000000000.0,17000000000.0,17000000000.0,17000000000.0,17000000000.0,17000000000.0,17000000000.0,17000000000.0,17000000000.0,17000000000.0,17000000000.0,17000000000.0,17000000000.0,17000000000.0,17000000000.0,17000000000.0,17000000000.0,17000000000.0,17000000000.0,17000000000.0,17000000000.0,17000000000.0,17000000000.0,17000000000.0,17000000000.0,17000000000.0,17000000000.0,17000000000.0,17000000000.0,17000000000.0,17000000000.0,17000000000.0,17000000000.0,17000000000.0,17000000000.0,17000000000.0,17000000000.0,17000000000.0,17000000000.0,17000000000.0,17000000000.0,17000000000.0,17000000000.0,17000000000.0,17000000000.0,17000000000.0,17000000000.0,17000000000.0,17000000000.0,17000000000.0,17000000000.0,17000000000.0,17000000000.0,17000000000.0,17000000000.0,17000000000.0,17000000000.0,17000000000.0,17000000000.0,17000000000.0,17000000000.0,17000000000.0,17000000000.0,17000000000.0,17000000000.0,17000000000.0,17000000000.0,17000000000.0,17000000000.0,17000000000.0,17000000000.0,17000000000.0,17000000000.0,17000000000.0,17000000000.0,17000000000.0],\"yaxis\":\"y\"}],                        {\"legend\":{\"title\":{\"text\":\"variable\"},\"tracegroupgap\":0},\"margin\":{\"t\":60},\"template\":{\"data\":{\"bar\":[{\"error_x\":{\"color\":\"#2a3f5f\"},\"error_y\":{\"color\":\"#2a3f5f\"},\"marker\":{\"line\":{\"color\":\"#E5ECF6\",\"width\":0.5},\"pattern\":{\"fillmode\":\"overlay\",\"size\":10,\"solidity\":0.2}},\"type\":\"bar\"}],\"barpolar\":[{\"marker\":{\"line\":{\"color\":\"#E5ECF6\",\"width\":0.5},\"pattern\":{\"fillmode\":\"overlay\",\"size\":10,\"solidity\":0.2}},\"type\":\"barpolar\"}],\"carpet\":[{\"aaxis\":{\"endlinecolor\":\"#2a3f5f\",\"gridcolor\":\"white\",\"linecolor\":\"white\",\"minorgridcolor\":\"white\",\"startlinecolor\":\"#2a3f5f\"},\"baxis\":{\"endlinecolor\":\"#2a3f5f\",\"gridcolor\":\"white\",\"linecolor\":\"white\",\"minorgridcolor\":\"white\",\"startlinecolor\":\"#2a3f5f\"},\"type\":\"carpet\"}],\"choropleth\":[{\"colorbar\":{\"outlinewidth\":0,\"ticks\":\"\"},\"type\":\"choropleth\"}],\"contour\":[{\"colorbar\":{\"outlinewidth\":0,\"ticks\":\"\"},\"colorscale\":[[0.0,\"#0d0887\"],[0.1111111111111111,\"#46039f\"],[0.2222222222222222,\"#7201a8\"],[0.3333333333333333,\"#9c179e\"],[0.4444444444444444,\"#bd3786\"],[0.5555555555555556,\"#d8576b\"],[0.6666666666666666,\"#ed7953\"],[0.7777777777777778,\"#fb9f3a\"],[0.8888888888888888,\"#fdca26\"],[1.0,\"#f0f921\"]],\"type\":\"contour\"}],\"contourcarpet\":[{\"colorbar\":{\"outlinewidth\":0,\"ticks\":\"\"},\"type\":\"contourcarpet\"}],\"heatmap\":[{\"colorbar\":{\"outlinewidth\":0,\"ticks\":\"\"},\"colorscale\":[[0.0,\"#0d0887\"],[0.1111111111111111,\"#46039f\"],[0.2222222222222222,\"#7201a8\"],[0.3333333333333333,\"#9c179e\"],[0.4444444444444444,\"#bd3786\"],[0.5555555555555556,\"#d8576b\"],[0.6666666666666666,\"#ed7953\"],[0.7777777777777778,\"#fb9f3a\"],[0.8888888888888888,\"#fdca26\"],[1.0,\"#f0f921\"]],\"type\":\"heatmap\"}],\"heatmapgl\":[{\"colorbar\":{\"outlinewidth\":0,\"ticks\":\"\"},\"colorscale\":[[0.0,\"#0d0887\"],[0.1111111111111111,\"#46039f\"],[0.2222222222222222,\"#7201a8\"],[0.3333333333333333,\"#9c179e\"],[0.4444444444444444,\"#bd3786\"],[0.5555555555555556,\"#d8576b\"],[0.6666666666666666,\"#ed7953\"],[0.7777777777777778,\"#fb9f3a\"],[0.8888888888888888,\"#fdca26\"],[1.0,\"#f0f921\"]],\"type\":\"heatmapgl\"}],\"histogram\":[{\"marker\":{\"pattern\":{\"fillmode\":\"overlay\",\"size\":10,\"solidity\":0.2}},\"type\":\"histogram\"}],\"histogram2d\":[{\"colorbar\":{\"outlinewidth\":0,\"ticks\":\"\"},\"colorscale\":[[0.0,\"#0d0887\"],[0.1111111111111111,\"#46039f\"],[0.2222222222222222,\"#7201a8\"],[0.3333333333333333,\"#9c179e\"],[0.4444444444444444,\"#bd3786\"],[0.5555555555555556,\"#d8576b\"],[0.6666666666666666,\"#ed7953\"],[0.7777777777777778,\"#fb9f3a\"],[0.8888888888888888,\"#fdca26\"],[1.0,\"#f0f921\"]],\"type\":\"histogram2d\"}],\"histogram2dcontour\":[{\"colorbar\":{\"outlinewidth\":0,\"ticks\":\"\"},\"colorscale\":[[0.0,\"#0d0887\"],[0.1111111111111111,\"#46039f\"],[0.2222222222222222,\"#7201a8\"],[0.3333333333333333,\"#9c179e\"],[0.4444444444444444,\"#bd3786\"],[0.5555555555555556,\"#d8576b\"],[0.6666666666666666,\"#ed7953\"],[0.7777777777777778,\"#fb9f3a\"],[0.8888888888888888,\"#fdca26\"],[1.0,\"#f0f921\"]],\"type\":\"histogram2dcontour\"}],\"mesh3d\":[{\"colorbar\":{\"outlinewidth\":0,\"ticks\":\"\"},\"type\":\"mesh3d\"}],\"parcoords\":[{\"line\":{\"colorbar\":{\"outlinewidth\":0,\"ticks\":\"\"}},\"type\":\"parcoords\"}],\"pie\":[{\"automargin\":true,\"type\":\"pie\"}],\"scatter\":[{\"marker\":{\"colorbar\":{\"outlinewidth\":0,\"ticks\":\"\"}},\"type\":\"scatter\"}],\"scatter3d\":[{\"line\":{\"colorbar\":{\"outlinewidth\":0,\"ticks\":\"\"}},\"marker\":{\"colorbar\":{\"outlinewidth\":0,\"ticks\":\"\"}},\"type\":\"scatter3d\"}],\"scattercarpet\":[{\"marker\":{\"colorbar\":{\"outlinewidth\":0,\"ticks\":\"\"}},\"type\":\"scattercarpet\"}],\"scattergeo\":[{\"marker\":{\"colorbar\":{\"outlinewidth\":0,\"ticks\":\"\"}},\"type\":\"scattergeo\"}],\"scattergl\":[{\"marker\":{\"colorbar\":{\"outlinewidth\":0,\"ticks\":\"\"}},\"type\":\"scattergl\"}],\"scattermapbox\":[{\"marker\":{\"colorbar\":{\"outlinewidth\":0,\"ticks\":\"\"}},\"type\":\"scattermapbox\"}],\"scatterpolar\":[{\"marker\":{\"colorbar\":{\"outlinewidth\":0,\"ticks\":\"\"}},\"type\":\"scatterpolar\"}],\"scatterpolargl\":[{\"marker\":{\"colorbar\":{\"outlinewidth\":0,\"ticks\":\"\"}},\"type\":\"scatterpolargl\"}],\"scatterternary\":[{\"marker\":{\"colorbar\":{\"outlinewidth\":0,\"ticks\":\"\"}},\"type\":\"scatterternary\"}],\"surface\":[{\"colorbar\":{\"outlinewidth\":0,\"ticks\":\"\"},\"colorscale\":[[0.0,\"#0d0887\"],[0.1111111111111111,\"#46039f\"],[0.2222222222222222,\"#7201a8\"],[0.3333333333333333,\"#9c179e\"],[0.4444444444444444,\"#bd3786\"],[0.5555555555555556,\"#d8576b\"],[0.6666666666666666,\"#ed7953\"],[0.7777777777777778,\"#fb9f3a\"],[0.8888888888888888,\"#fdca26\"],[1.0,\"#f0f921\"]],\"type\":\"surface\"}],\"table\":[{\"cells\":{\"fill\":{\"color\":\"#EBF0F8\"},\"line\":{\"color\":\"white\"}},\"header\":{\"fill\":{\"color\":\"#C8D4E3\"},\"line\":{\"color\":\"white\"}},\"type\":\"table\"}]},\"layout\":{\"annotationdefaults\":{\"arrowcolor\":\"#2a3f5f\",\"arrowhead\":0,\"arrowwidth\":1},\"autotypenumbers\":\"strict\",\"coloraxis\":{\"colorbar\":{\"outlinewidth\":0,\"ticks\":\"\"}},\"colorscale\":{\"diverging\":[[0,\"#8e0152\"],[0.1,\"#c51b7d\"],[0.2,\"#de77ae\"],[0.3,\"#f1b6da\"],[0.4,\"#fde0ef\"],[0.5,\"#f7f7f7\"],[0.6,\"#e6f5d0\"],[0.7,\"#b8e186\"],[0.8,\"#7fbc41\"],[0.9,\"#4d9221\"],[1,\"#276419\"]],\"sequential\":[[0.0,\"#0d0887\"],[0.1111111111111111,\"#46039f\"],[0.2222222222222222,\"#7201a8\"],[0.3333333333333333,\"#9c179e\"],[0.4444444444444444,\"#bd3786\"],[0.5555555555555556,\"#d8576b\"],[0.6666666666666666,\"#ed7953\"],[0.7777777777777778,\"#fb9f3a\"],[0.8888888888888888,\"#fdca26\"],[1.0,\"#f0f921\"]],\"sequentialminus\":[[0.0,\"#0d0887\"],[0.1111111111111111,\"#46039f\"],[0.2222222222222222,\"#7201a8\"],[0.3333333333333333,\"#9c179e\"],[0.4444444444444444,\"#bd3786\"],[0.5555555555555556,\"#d8576b\"],[0.6666666666666666,\"#ed7953\"],[0.7777777777777778,\"#fb9f3a\"],[0.8888888888888888,\"#fdca26\"],[1.0,\"#f0f921\"]]},\"colorway\":[\"#636efa\",\"#EF553B\",\"#00cc96\",\"#ab63fa\",\"#FFA15A\",\"#19d3f3\",\"#FF6692\",\"#B6E880\",\"#FF97FF\",\"#FECB52\"],\"font\":{\"color\":\"#2a3f5f\"},\"geo\":{\"bgcolor\":\"white\",\"lakecolor\":\"white\",\"landcolor\":\"#E5ECF6\",\"showlakes\":true,\"showland\":true,\"subunitcolor\":\"white\"},\"hoverlabel\":{\"align\":\"left\"},\"hovermode\":\"closest\",\"mapbox\":{\"style\":\"light\"},\"paper_bgcolor\":\"white\",\"plot_bgcolor\":\"#E5ECF6\",\"polar\":{\"angularaxis\":{\"gridcolor\":\"white\",\"linecolor\":\"white\",\"ticks\":\"\"},\"bgcolor\":\"#E5ECF6\",\"radialaxis\":{\"gridcolor\":\"white\",\"linecolor\":\"white\",\"ticks\":\"\"}},\"scene\":{\"xaxis\":{\"backgroundcolor\":\"#E5ECF6\",\"gridcolor\":\"white\",\"gridwidth\":2,\"linecolor\":\"white\",\"showbackground\":true,\"ticks\":\"\",\"zerolinecolor\":\"white\"},\"yaxis\":{\"backgroundcolor\":\"#E5ECF6\",\"gridcolor\":\"white\",\"gridwidth\":2,\"linecolor\":\"white\",\"showbackground\":true,\"ticks\":\"\",\"zerolinecolor\":\"white\"},\"zaxis\":{\"backgroundcolor\":\"#E5ECF6\",\"gridcolor\":\"white\",\"gridwidth\":2,\"linecolor\":\"white\",\"showbackground\":true,\"ticks\":\"\",\"zerolinecolor\":\"white\"}},\"shapedefaults\":{\"line\":{\"color\":\"#2a3f5f\"}},\"ternary\":{\"aaxis\":{\"gridcolor\":\"white\",\"linecolor\":\"white\",\"ticks\":\"\"},\"baxis\":{\"gridcolor\":\"white\",\"linecolor\":\"white\",\"ticks\":\"\"},\"bgcolor\":\"#E5ECF6\",\"caxis\":{\"gridcolor\":\"white\",\"linecolor\":\"white\",\"ticks\":\"\"}},\"title\":{\"x\":0.05},\"xaxis\":{\"automargin\":true,\"gridcolor\":\"white\",\"linecolor\":\"white\",\"ticks\":\"\",\"title\":{\"standoff\":15},\"zerolinecolor\":\"white\",\"zerolinewidth\":2},\"yaxis\":{\"automargin\":true,\"gridcolor\":\"white\",\"linecolor\":\"white\",\"ticks\":\"\",\"title\":{\"standoff\":15},\"zerolinecolor\":\"white\",\"zerolinewidth\":2}}},\"xaxis\":{\"anchor\":\"y\",\"domain\":[0.0,1.0],\"title\":{\"text\":\"timestep\"}},\"yaxis\":{\"anchor\":\"x\",\"domain\":[0.0,1.0],\"title\":{\"text\":\"value\"}}},                        {\"responsive\": true}                    ).then(function(){\n",
       "                            \n",
       "var gd = document.getElementById('090ab848-5567-43cb-b72b-4d929ce31fb0');\n",
       "var x = new MutationObserver(function (mutations, observer) {{\n",
       "        var display = window.getComputedStyle(gd).display;\n",
       "        if (!display || display === 'none') {{\n",
       "            console.log([gd, 'removed!']);\n",
       "            Plotly.purge(gd);\n",
       "            observer.disconnect();\n",
       "        }}\n",
       "}});\n",
       "\n",
       "// Listen for the removal of the full notebook cells\n",
       "var notebookContainer = gd.closest('#notebook-container');\n",
       "if (notebookContainer) {{\n",
       "    x.observe(notebookContainer, {childList: true});\n",
       "}}\n",
       "\n",
       "// Listen for the clearing of the current output cell\n",
       "var outputEl = gd.closest('.output');\n",
       "if (outputEl) {{\n",
       "    x.observe(outputEl, {childList: true});\n",
       "}}\n",
       "\n",
       "                        })                };                });            </script>        </div>"
      ]
     },
     "metadata": {},
     "output_type": "display_data"
    }
   ],
   "source": [
    "df[df.substep == 1].plot('timestep', ['active_stake_branch_0', 'inactive_stake_branch_0'])"
   ]
  },
  {
   "cell_type": "markdown",
   "metadata": {},
   "source": [
    "As expected, active validators maintain their effective balance at 32 ETH, while inactive validators quickly feel the wrath of eth2 (in fact, feeling it much quicker than expected since we turned up the `INACTIVITY_PENALTY_QUOTIENT` constant quite a bit). How do our activity ratios compare?"
   ]
  },
  {
   "cell_type": "code",
   "execution_count": 14,
   "metadata": {},
   "outputs": [
    {
     "data": {
      "application/vnd.plotly.v1+json": {
       "config": {
        "plotlyServerURL": "https://plot.ly"
       },
       "data": [
        {
         "hovertemplate": "variable=activity_ratio_0<br>timestep=%{x}<br>value=%{y}<extra></extra>",
         "legendgroup": "activity_ratio_0",
         "line": {
          "color": "#636efa",
          "dash": "solid"
         },
         "mode": "lines",
         "name": "activity_ratio_0",
         "orientation": "v",
         "showlegend": true,
         "type": "scatter",
         "x": [
          1,
          2,
          3,
          4,
          5,
          6,
          7,
          8,
          9,
          10,
          11,
          12,
          13,
          14,
          15,
          16,
          17,
          18,
          19,
          20,
          21,
          22,
          23,
          24,
          25,
          26,
          27,
          28,
          29,
          30,
          31,
          32,
          33,
          34,
          35,
          36,
          37,
          38,
          39,
          40,
          41,
          42,
          43,
          44,
          45,
          46,
          47,
          48,
          49,
          50,
          51,
          52,
          53,
          54,
          55,
          56,
          57,
          58,
          59,
          60,
          61,
          62,
          63,
          64,
          65,
          66,
          67,
          68,
          69,
          70,
          71,
          72,
          73,
          74,
          75,
          76,
          77,
          78,
          79,
          80,
          81,
          82,
          83,
          84,
          85,
          86,
          87,
          88,
          89,
          90,
          91,
          92,
          93,
          94,
          95,
          96,
          97,
          98,
          99,
          100,
          101,
          102,
          103,
          104,
          105,
          106,
          107,
          108,
          109,
          110,
          111,
          112,
          113,
          114,
          115,
          116,
          117,
          118,
          119,
          120,
          121,
          122,
          123,
          124,
          125,
          126,
          127,
          128,
          129,
          130,
          131,
          132,
          133,
          134,
          135,
          136,
          137,
          138,
          139,
          140,
          141,
          142,
          143,
          144,
          145,
          146,
          147,
          148,
          149,
          150,
          151,
          152,
          153,
          154,
          155,
          156,
          157,
          158,
          159,
          160,
          161,
          162,
          163,
          164,
          165,
          166,
          167,
          168,
          169,
          170,
          171,
          172,
          173,
          174,
          175,
          176,
          177,
          178,
          179,
          180,
          181,
          182,
          183,
          184,
          185,
          186,
          187,
          188,
          189,
          190,
          191,
          192,
          193,
          194,
          195,
          196,
          197,
          198,
          199,
          200,
          201,
          202,
          203,
          204,
          205,
          206,
          207,
          208,
          209,
          210,
          211,
          212,
          213,
          214,
          215,
          216,
          217,
          218,
          219,
          220,
          221,
          222,
          223,
          224,
          225,
          226,
          227,
          228,
          229,
          230,
          231,
          232,
          233,
          234,
          235,
          236,
          237,
          238,
          239,
          240,
          241,
          242,
          243,
          244,
          245,
          246,
          247,
          248,
          249,
          250,
          251,
          252,
          253,
          254,
          255,
          256,
          257,
          258,
          259,
          260,
          261,
          262,
          263,
          264,
          265,
          266,
          267,
          268,
          269,
          270,
          271,
          272,
          273,
          274,
          275,
          276,
          277,
          278,
          279,
          280,
          281,
          282,
          283,
          284,
          285,
          286,
          287,
          288,
          289,
          290,
          291,
          292,
          293,
          294,
          295,
          296,
          297,
          298,
          299,
          300
         ],
         "xaxis": "x",
         "y": [
          1.5,
          1.5,
          1.5,
          1.5,
          1.5,
          1.5,
          1.5,
          1.5,
          1.5,
          1.5,
          1.5,
          1.5,
          1.5,
          1.5,
          1.5,
          1.5,
          1.5,
          1.5,
          1.5,
          1.5,
          1.5,
          1.5,
          1.5,
          1.5,
          1.5,
          1.5,
          1.5,
          1.5,
          1.5,
          1.5,
          1.5,
          1.5,
          1.5,
          1.5,
          1.5,
          1.5,
          1.5,
          1.5,
          1.5,
          1.5,
          1.5,
          1.5,
          1.5,
          1.5,
          1.5,
          1.5,
          1.5,
          1.5,
          1.5,
          1.5,
          1.5,
          1.5,
          1.5,
          1.5,
          1.5,
          1.5,
          1.5,
          1.5,
          1.5,
          1.5,
          1.5,
          1.5,
          1.5,
          1.5,
          1.5,
          1.5,
          1.5,
          1.5,
          1.5,
          1.5,
          1.5,
          1.5,
          1.5,
          1.5,
          1.5,
          1.5,
          1.5,
          1.5,
          1.5,
          1.5,
          1.5,
          1.5,
          1.5,
          1.5,
          1.5,
          1.5,
          1.5,
          1.5,
          1.5,
          1.5,
          1.5,
          1.5,
          1.5,
          1.5,
          1.5,
          1.5,
          1.5,
          1.5,
          1.5,
          1.5,
          1.5,
          1.5,
          1.5,
          1.5,
          1.5,
          1.5,
          1.5,
          1.5,
          1.5,
          1.5,
          1.5,
          1.846153846153846,
          1.846153846153846,
          1.846153846153846,
          1.846153846153846,
          1.846153846153846,
          1.846153846153846,
          1.846153846153846,
          1.846153846153846,
          1.846153846153846,
          1.846153846153846,
          1.846153846153846,
          1.846153846153846,
          1.846153846153846,
          1.846153846153846,
          1.846153846153846,
          1.846153846153846,
          2.1818181818181817,
          2.1818181818181817,
          2.1818181818181817,
          2.1818181818181817,
          2.1818181818181817,
          2.1818181818181817,
          2.1818181818181817,
          2.1818181818181817,
          2.1818181818181817,
          2.1818181818181817,
          2.1818181818181817,
          2.1818181818181817,
          2.1818181818181817,
          2.1818181818181817,
          2.1818181818181817,
          2.1818181818181817,
          2.8235294117647056,
          2.8235294117647056,
          2.8235294117647056,
          2.8235294117647056,
          2.8235294117647056,
          2.8235294117647056,
          2.8235294117647056,
          2.8235294117647056,
          2.8235294117647056,
          2.8235294117647056,
          2.8235294117647056,
          2.8235294117647056,
          2.8235294117647056,
          2.8235294117647056,
          2.8235294117647056,
          2.8235294117647056,
          2.8235294117647056,
          2.8235294117647056,
          2.8235294117647056,
          2.8235294117647056,
          2.8235294117647056,
          2.8235294117647056,
          2.8235294117647056,
          2.8235294117647056,
          2.8235294117647056,
          2.8235294117647056,
          2.8235294117647056,
          2.8235294117647056,
          2.8235294117647056,
          2.8235294117647056,
          2.8235294117647056,
          2.8235294117647056,
          2.8235294117647056,
          2.8235294117647056,
          2.8235294117647056,
          2.8235294117647056,
          2.8235294117647056,
          2.8235294117647056,
          2.8235294117647056,
          2.8235294117647056,
          2.8235294117647056,
          2.8235294117647056,
          2.8235294117647056,
          2.8235294117647056,
          2.8235294117647056,
          2.8235294117647056,
          2.8235294117647056,
          2.8235294117647056,
          2.8235294117647056,
          2.8235294117647056,
          2.8235294117647056,
          2.8235294117647056,
          2.8235294117647056,
          2.8235294117647056,
          2.8235294117647056,
          2.8235294117647056,
          2.8235294117647056,
          2.8235294117647056,
          2.8235294117647056,
          2.8235294117647056,
          2.8235294117647056,
          2.8235294117647056,
          2.8235294117647056,
          2.8235294117647056,
          2.8235294117647056,
          2.8235294117647056,
          2.8235294117647056,
          2.8235294117647056,
          2.8235294117647056,
          2.8235294117647056,
          2.8235294117647056,
          2.8235294117647056,
          2.8235294117647056,
          2.8235294117647056,
          2.8235294117647056,
          2.8235294117647056,
          2.8235294117647056,
          2.8235294117647056,
          2.8235294117647056,
          2.8235294117647056,
          2.8235294117647056,
          2.8235294117647056,
          2.8235294117647056,
          2.8235294117647056,
          2.8235294117647056,
          2.8235294117647056,
          2.8235294117647056,
          2.8235294117647056,
          2.8235294117647056,
          2.8235294117647056,
          2.8235294117647056,
          2.8235294117647056,
          2.8235294117647056,
          2.8235294117647056,
          2.8235294117647056,
          2.8235294117647056,
          2.8235294117647056,
          2.8235294117647056,
          2.8235294117647056,
          2.8235294117647056,
          2.8235294117647056,
          2.8235294117647056,
          2.8235294117647056,
          2.8235294117647056,
          2.8235294117647056,
          2.8235294117647056,
          2.8235294117647056,
          2.8235294117647056,
          2.8235294117647056,
          2.8235294117647056,
          2.8235294117647056,
          2.8235294117647056,
          2.8235294117647056,
          2.8235294117647056,
          2.8235294117647056,
          2.8235294117647056,
          2.8235294117647056,
          2.8235294117647056,
          2.8235294117647056,
          2.8235294117647056,
          2.8235294117647056,
          2.8235294117647056,
          2.8235294117647056,
          2.8235294117647056,
          2.8235294117647056,
          2.8235294117647056,
          2.8235294117647056,
          2.8235294117647056,
          2.8235294117647056,
          2.8235294117647056,
          2.8235294117647056,
          2.8235294117647056,
          2.8235294117647056,
          2.8235294117647056,
          2.8235294117647056,
          2.8235294117647056,
          2.8235294117647056,
          2.8235294117647056,
          2.8235294117647056,
          2.8235294117647056,
          2.8235294117647056,
          2.8235294117647056,
          2.8235294117647056,
          2.8235294117647056,
          2.8235294117647056,
          2.8235294117647056,
          2.8235294117647056,
          2.8235294117647056,
          2.8235294117647056,
          2.8235294117647056,
          2.8235294117647056,
          2.8235294117647056,
          2.8235294117647056,
          2.8235294117647056,
          2.8235294117647056,
          2.8235294117647056,
          2.8235294117647056
         ],
         "yaxis": "y"
        },
        {
         "hovertemplate": "variable=activity_ratio_1<br>timestep=%{x}<br>value=%{y}<extra></extra>",
         "legendgroup": "activity_ratio_1",
         "line": {
          "color": "#EF553B",
          "dash": "solid"
         },
         "mode": "lines",
         "name": "activity_ratio_1",
         "orientation": "v",
         "showlegend": true,
         "type": "scatter",
         "x": [
          1,
          2,
          3,
          4,
          5,
          6,
          7,
          8,
          9,
          10,
          11,
          12,
          13,
          14,
          15,
          16,
          17,
          18,
          19,
          20,
          21,
          22,
          23,
          24,
          25,
          26,
          27,
          28,
          29,
          30,
          31,
          32,
          33,
          34,
          35,
          36,
          37,
          38,
          39,
          40,
          41,
          42,
          43,
          44,
          45,
          46,
          47,
          48,
          49,
          50,
          51,
          52,
          53,
          54,
          55,
          56,
          57,
          58,
          59,
          60,
          61,
          62,
          63,
          64,
          65,
          66,
          67,
          68,
          69,
          70,
          71,
          72,
          73,
          74,
          75,
          76,
          77,
          78,
          79,
          80,
          81,
          82,
          83,
          84,
          85,
          86,
          87,
          88,
          89,
          90,
          91,
          92,
          93,
          94,
          95,
          96,
          97,
          98,
          99,
          100,
          101,
          102,
          103,
          104,
          105,
          106,
          107,
          108,
          109,
          110,
          111,
          112,
          113,
          114,
          115,
          116,
          117,
          118,
          119,
          120,
          121,
          122,
          123,
          124,
          125,
          126,
          127,
          128,
          129,
          130,
          131,
          132,
          133,
          134,
          135,
          136,
          137,
          138,
          139,
          140,
          141,
          142,
          143,
          144,
          145,
          146,
          147,
          148,
          149,
          150,
          151,
          152,
          153,
          154,
          155,
          156,
          157,
          158,
          159,
          160,
          161,
          162,
          163,
          164,
          165,
          166,
          167,
          168,
          169,
          170,
          171,
          172,
          173,
          174,
          175,
          176,
          177,
          178,
          179,
          180,
          181,
          182,
          183,
          184,
          185,
          186,
          187,
          188,
          189,
          190,
          191,
          192,
          193,
          194,
          195,
          196,
          197,
          198,
          199,
          200,
          201,
          202,
          203,
          204,
          205,
          206,
          207,
          208,
          209,
          210,
          211,
          212,
          213,
          214,
          215,
          216,
          217,
          218,
          219,
          220,
          221,
          222,
          223,
          224,
          225,
          226,
          227,
          228,
          229,
          230,
          231,
          232,
          233,
          234,
          235,
          236,
          237,
          238,
          239,
          240,
          241,
          242,
          243,
          244,
          245,
          246,
          247,
          248,
          249,
          250,
          251,
          252,
          253,
          254,
          255,
          256,
          257,
          258,
          259,
          260,
          261,
          262,
          263,
          264,
          265,
          266,
          267,
          268,
          269,
          270,
          271,
          272,
          273,
          274,
          275,
          276,
          277,
          278,
          279,
          280,
          281,
          282,
          283,
          284,
          285,
          286,
          287,
          288,
          289,
          290,
          291,
          292,
          293,
          294,
          295,
          296,
          297,
          298,
          299,
          300
         ],
         "xaxis": "x",
         "y": [
          0.6666666666666666,
          0.6666666666666666,
          0.6666666666666666,
          0.6666666666666666,
          0.6666666666666666,
          0.6666666666666666,
          0.6666666666666666,
          0.6666666666666666,
          0.6666666666666666,
          0.6666666666666666,
          0.6666666666666666,
          0.6666666666666666,
          0.6666666666666666,
          0.6666666666666666,
          0.6666666666666666,
          0.6666666666666666,
          0.6666666666666666,
          0.6666666666666666,
          0.6666666666666666,
          0.6666666666666666,
          0.6666666666666666,
          0.6666666666666666,
          0.6666666666666666,
          0.6666666666666666,
          0.6666666666666666,
          0.6666666666666666,
          0.6666666666666666,
          0.6666666666666666,
          0.6666666666666666,
          0.6666666666666666,
          0.6666666666666666,
          0.6666666666666666,
          0.6666666666666666,
          0.6666666666666666,
          0.6666666666666666,
          0.6666666666666666,
          0.6666666666666666,
          0.6666666666666666,
          0.6666666666666666,
          0.6666666666666666,
          0.6666666666666666,
          0.6666666666666666,
          0.6666666666666666,
          0.6666666666666666,
          0.6666666666666666,
          0.6666666666666666,
          0.6666666666666666,
          0.6666666666666666,
          0.6666666666666666,
          0.6666666666666666,
          0.6666666666666666,
          0.6666666666666666,
          0.6666666666666666,
          0.6666666666666666,
          0.6666666666666666,
          0.6666666666666666,
          0.6666666666666666,
          0.6666666666666666,
          0.6666666666666666,
          0.6666666666666666,
          0.6666666666666666,
          0.6666666666666666,
          0.6666666666666666,
          0.6666666666666666,
          0.6666666666666666,
          0.6666666666666666,
          0.6666666666666666,
          0.6666666666666666,
          0.6666666666666666,
          0.6666666666666666,
          0.6666666666666666,
          0.6666666666666666,
          0.6666666666666666,
          0.6666666666666666,
          0.6666666666666666,
          0.6666666666666666,
          0.6666666666666666,
          0.6666666666666666,
          0.6666666666666666,
          0.6666666666666666,
          0.6666666666666666,
          0.6666666666666666,
          0.6666666666666666,
          0.6666666666666666,
          0.6666666666666666,
          0.6666666666666666,
          0.6666666666666666,
          0.6666666666666666,
          0.6666666666666666,
          0.6666666666666666,
          0.6666666666666666,
          0.6666666666666666,
          0.6666666666666666,
          0.6666666666666666,
          0.6666666666666666,
          0.6666666666666666,
          0.6666666666666666,
          0.6666666666666666,
          0.6666666666666666,
          0.6666666666666666,
          0.6666666666666666,
          0.6666666666666666,
          0.6666666666666666,
          0.6666666666666666,
          0.6666666666666666,
          0.6666666666666666,
          0.6666666666666666,
          0.6666666666666666,
          0.6666666666666666,
          0.6666666666666666,
          0.6666666666666666,
          0.8205128205128206,
          0.8205128205128206,
          0.8205128205128206,
          0.8205128205128206,
          0.8205128205128206,
          0.8205128205128206,
          0.8205128205128206,
          0.8205128205128206,
          0.8205128205128206,
          0.8205128205128206,
          0.8205128205128206,
          0.8205128205128206,
          0.8205128205128206,
          0.8205128205128206,
          0.8205128205128206,
          0.8205128205128206,
          0.9696969696969696,
          0.9696969696969696,
          0.9696969696969696,
          0.9696969696969696,
          0.9696969696969696,
          0.9696969696969696,
          0.9696969696969696,
          0.9696969696969696,
          0.9696969696969696,
          0.9696969696969696,
          0.9696969696969696,
          0.9696969696969696,
          0.9696969696969696,
          0.9696969696969696,
          0.9696969696969696,
          0.9696969696969696,
          1.2549019607843137,
          1.2549019607843137,
          1.2549019607843137,
          1.2549019607843137,
          1.2549019607843137,
          1.2549019607843137,
          1.2549019607843137,
          1.2549019607843137,
          1.2549019607843137,
          1.2549019607843137,
          1.2549019607843137,
          1.2549019607843137,
          1.2549019607843137,
          1.2549019607843137,
          1.2549019607843137,
          1.2549019607843137,
          1.6410256410256412,
          1.6410256410256412,
          1.6410256410256412,
          1.6410256410256412,
          1.6410256410256412,
          1.6410256410256412,
          1.6410256410256412,
          1.6410256410256412,
          1.6410256410256412,
          1.6410256410256412,
          1.6410256410256412,
          1.6410256410256412,
          1.6410256410256412,
          1.6410256410256412,
          1.6410256410256412,
          1.6410256410256412,
          2.3703703703703707,
          2.3703703703703707,
          2.3703703703703707,
          2.3703703703703707,
          2.3703703703703707,
          2.3703703703703707,
          2.3703703703703707,
          2.3703703703703707,
          2.3703703703703707,
          2.3703703703703707,
          2.3703703703703707,
          2.3703703703703707,
          2.3703703703703707,
          2.3703703703703707,
          2.3703703703703707,
          2.3703703703703707,
          3.555555555555556,
          3.555555555555556,
          3.555555555555556,
          3.555555555555556,
          3.555555555555556,
          3.555555555555556,
          3.555555555555556,
          3.555555555555556,
          3.555555555555556,
          3.555555555555556,
          3.555555555555556,
          3.555555555555556,
          3.555555555555556,
          3.555555555555556,
          3.555555555555556,
          3.555555555555556,
          3.555555555555556,
          3.555555555555556,
          3.555555555555556,
          3.555555555555556,
          3.555555555555556,
          3.555555555555556,
          3.555555555555556,
          3.555555555555556,
          3.555555555555556,
          3.555555555555556,
          3.555555555555556,
          3.555555555555556,
          3.555555555555556,
          3.555555555555556,
          3.555555555555556,
          3.555555555555556,
          3.555555555555556,
          3.555555555555556,
          3.555555555555556,
          3.555555555555556,
          3.555555555555556,
          3.555555555555556,
          3.555555555555556,
          3.555555555555556,
          3.555555555555556,
          3.555555555555556,
          3.555555555555556,
          3.555555555555556,
          3.555555555555556,
          3.555555555555556,
          3.555555555555556,
          3.555555555555556,
          3.555555555555556,
          3.555555555555556,
          3.555555555555556,
          3.555555555555556,
          3.555555555555556,
          3.555555555555556,
          3.555555555555556,
          3.555555555555556,
          3.555555555555556,
          3.555555555555556,
          3.555555555555556,
          3.555555555555556,
          3.555555555555556,
          3.555555555555556,
          3.555555555555556,
          3.555555555555556,
          3.555555555555556,
          3.555555555555556,
          3.555555555555556,
          3.555555555555556,
          3.555555555555556,
          3.555555555555556,
          3.555555555555556,
          3.555555555555556,
          3.555555555555556,
          3.555555555555556,
          3.555555555555556,
          3.555555555555556,
          3.555555555555556,
          3.555555555555556,
          3.555555555555556,
          3.555555555555556,
          3.555555555555556,
          3.555555555555556,
          3.555555555555556,
          3.555555555555556,
          3.555555555555556,
          3.555555555555556,
          3.555555555555556,
          3.555555555555556,
          3.555555555555556,
          3.555555555555556,
          3.555555555555556,
          3.555555555555556,
          3.555555555555556,
          3.555555555555556,
          3.555555555555556,
          3.555555555555556,
          3.555555555555556,
          3.555555555555556,
          3.555555555555556,
          3.555555555555556,
          3.555555555555556,
          3.555555555555556,
          3.555555555555556,
          3.555555555555556,
          3.555555555555556,
          3.555555555555556,
          3.555555555555556,
          3.555555555555556,
          3.555555555555556
         ],
         "yaxis": "y"
        }
       ],
       "layout": {
        "autosize": true,
        "legend": {
         "title": {
          "text": "variable"
         },
         "tracegroupgap": 0
        },
        "margin": {
         "t": 60
        },
        "template": {
         "data": {
          "bar": [
           {
            "error_x": {
             "color": "#2a3f5f"
            },
            "error_y": {
             "color": "#2a3f5f"
            },
            "marker": {
             "line": {
              "color": "#E5ECF6",
              "width": 0.5
             },
             "pattern": {
              "fillmode": "overlay",
              "size": 10,
              "solidity": 0.2
             }
            },
            "type": "bar"
           }
          ],
          "barpolar": [
           {
            "marker": {
             "line": {
              "color": "#E5ECF6",
              "width": 0.5
             },
             "pattern": {
              "fillmode": "overlay",
              "size": 10,
              "solidity": 0.2
             }
            },
            "type": "barpolar"
           }
          ],
          "carpet": [
           {
            "aaxis": {
             "endlinecolor": "#2a3f5f",
             "gridcolor": "white",
             "linecolor": "white",
             "minorgridcolor": "white",
             "startlinecolor": "#2a3f5f"
            },
            "baxis": {
             "endlinecolor": "#2a3f5f",
             "gridcolor": "white",
             "linecolor": "white",
             "minorgridcolor": "white",
             "startlinecolor": "#2a3f5f"
            },
            "type": "carpet"
           }
          ],
          "choropleth": [
           {
            "colorbar": {
             "outlinewidth": 0,
             "ticks": ""
            },
            "type": "choropleth"
           }
          ],
          "contour": [
           {
            "colorbar": {
             "outlinewidth": 0,
             "ticks": ""
            },
            "colorscale": [
             [
              0,
              "#0d0887"
             ],
             [
              0.1111111111111111,
              "#46039f"
             ],
             [
              0.2222222222222222,
              "#7201a8"
             ],
             [
              0.3333333333333333,
              "#9c179e"
             ],
             [
              0.4444444444444444,
              "#bd3786"
             ],
             [
              0.5555555555555556,
              "#d8576b"
             ],
             [
              0.6666666666666666,
              "#ed7953"
             ],
             [
              0.7777777777777778,
              "#fb9f3a"
             ],
             [
              0.8888888888888888,
              "#fdca26"
             ],
             [
              1,
              "#f0f921"
             ]
            ],
            "type": "contour"
           }
          ],
          "contourcarpet": [
           {
            "colorbar": {
             "outlinewidth": 0,
             "ticks": ""
            },
            "type": "contourcarpet"
           }
          ],
          "heatmap": [
           {
            "colorbar": {
             "outlinewidth": 0,
             "ticks": ""
            },
            "colorscale": [
             [
              0,
              "#0d0887"
             ],
             [
              0.1111111111111111,
              "#46039f"
             ],
             [
              0.2222222222222222,
              "#7201a8"
             ],
             [
              0.3333333333333333,
              "#9c179e"
             ],
             [
              0.4444444444444444,
              "#bd3786"
             ],
             [
              0.5555555555555556,
              "#d8576b"
             ],
             [
              0.6666666666666666,
              "#ed7953"
             ],
             [
              0.7777777777777778,
              "#fb9f3a"
             ],
             [
              0.8888888888888888,
              "#fdca26"
             ],
             [
              1,
              "#f0f921"
             ]
            ],
            "type": "heatmap"
           }
          ],
          "heatmapgl": [
           {
            "colorbar": {
             "outlinewidth": 0,
             "ticks": ""
            },
            "colorscale": [
             [
              0,
              "#0d0887"
             ],
             [
              0.1111111111111111,
              "#46039f"
             ],
             [
              0.2222222222222222,
              "#7201a8"
             ],
             [
              0.3333333333333333,
              "#9c179e"
             ],
             [
              0.4444444444444444,
              "#bd3786"
             ],
             [
              0.5555555555555556,
              "#d8576b"
             ],
             [
              0.6666666666666666,
              "#ed7953"
             ],
             [
              0.7777777777777778,
              "#fb9f3a"
             ],
             [
              0.8888888888888888,
              "#fdca26"
             ],
             [
              1,
              "#f0f921"
             ]
            ],
            "type": "heatmapgl"
           }
          ],
          "histogram": [
           {
            "marker": {
             "pattern": {
              "fillmode": "overlay",
              "size": 10,
              "solidity": 0.2
             }
            },
            "type": "histogram"
           }
          ],
          "histogram2d": [
           {
            "colorbar": {
             "outlinewidth": 0,
             "ticks": ""
            },
            "colorscale": [
             [
              0,
              "#0d0887"
             ],
             [
              0.1111111111111111,
              "#46039f"
             ],
             [
              0.2222222222222222,
              "#7201a8"
             ],
             [
              0.3333333333333333,
              "#9c179e"
             ],
             [
              0.4444444444444444,
              "#bd3786"
             ],
             [
              0.5555555555555556,
              "#d8576b"
             ],
             [
              0.6666666666666666,
              "#ed7953"
             ],
             [
              0.7777777777777778,
              "#fb9f3a"
             ],
             [
              0.8888888888888888,
              "#fdca26"
             ],
             [
              1,
              "#f0f921"
             ]
            ],
            "type": "histogram2d"
           }
          ],
          "histogram2dcontour": [
           {
            "colorbar": {
             "outlinewidth": 0,
             "ticks": ""
            },
            "colorscale": [
             [
              0,
              "#0d0887"
             ],
             [
              0.1111111111111111,
              "#46039f"
             ],
             [
              0.2222222222222222,
              "#7201a8"
             ],
             [
              0.3333333333333333,
              "#9c179e"
             ],
             [
              0.4444444444444444,
              "#bd3786"
             ],
             [
              0.5555555555555556,
              "#d8576b"
             ],
             [
              0.6666666666666666,
              "#ed7953"
             ],
             [
              0.7777777777777778,
              "#fb9f3a"
             ],
             [
              0.8888888888888888,
              "#fdca26"
             ],
             [
              1,
              "#f0f921"
             ]
            ],
            "type": "histogram2dcontour"
           }
          ],
          "mesh3d": [
           {
            "colorbar": {
             "outlinewidth": 0,
             "ticks": ""
            },
            "type": "mesh3d"
           }
          ],
          "parcoords": [
           {
            "line": {
             "colorbar": {
              "outlinewidth": 0,
              "ticks": ""
             }
            },
            "type": "parcoords"
           }
          ],
          "pie": [
           {
            "automargin": true,
            "type": "pie"
           }
          ],
          "scatter": [
           {
            "marker": {
             "colorbar": {
              "outlinewidth": 0,
              "ticks": ""
             }
            },
            "type": "scatter"
           }
          ],
          "scatter3d": [
           {
            "line": {
             "colorbar": {
              "outlinewidth": 0,
              "ticks": ""
             }
            },
            "marker": {
             "colorbar": {
              "outlinewidth": 0,
              "ticks": ""
             }
            },
            "type": "scatter3d"
           }
          ],
          "scattercarpet": [
           {
            "marker": {
             "colorbar": {
              "outlinewidth": 0,
              "ticks": ""
             }
            },
            "type": "scattercarpet"
           }
          ],
          "scattergeo": [
           {
            "marker": {
             "colorbar": {
              "outlinewidth": 0,
              "ticks": ""
             }
            },
            "type": "scattergeo"
           }
          ],
          "scattergl": [
           {
            "marker": {
             "colorbar": {
              "outlinewidth": 0,
              "ticks": ""
             }
            },
            "type": "scattergl"
           }
          ],
          "scattermapbox": [
           {
            "marker": {
             "colorbar": {
              "outlinewidth": 0,
              "ticks": ""
             }
            },
            "type": "scattermapbox"
           }
          ],
          "scatterpolar": [
           {
            "marker": {
             "colorbar": {
              "outlinewidth": 0,
              "ticks": ""
             }
            },
            "type": "scatterpolar"
           }
          ],
          "scatterpolargl": [
           {
            "marker": {
             "colorbar": {
              "outlinewidth": 0,
              "ticks": ""
             }
            },
            "type": "scatterpolargl"
           }
          ],
          "scatterternary": [
           {
            "marker": {
             "colorbar": {
              "outlinewidth": 0,
              "ticks": ""
             }
            },
            "type": "scatterternary"
           }
          ],
          "surface": [
           {
            "colorbar": {
             "outlinewidth": 0,
             "ticks": ""
            },
            "colorscale": [
             [
              0,
              "#0d0887"
             ],
             [
              0.1111111111111111,
              "#46039f"
             ],
             [
              0.2222222222222222,
              "#7201a8"
             ],
             [
              0.3333333333333333,
              "#9c179e"
             ],
             [
              0.4444444444444444,
              "#bd3786"
             ],
             [
              0.5555555555555556,
              "#d8576b"
             ],
             [
              0.6666666666666666,
              "#ed7953"
             ],
             [
              0.7777777777777778,
              "#fb9f3a"
             ],
             [
              0.8888888888888888,
              "#fdca26"
             ],
             [
              1,
              "#f0f921"
             ]
            ],
            "type": "surface"
           }
          ],
          "table": [
           {
            "cells": {
             "fill": {
              "color": "#EBF0F8"
             },
             "line": {
              "color": "white"
             }
            },
            "header": {
             "fill": {
              "color": "#C8D4E3"
             },
             "line": {
              "color": "white"
             }
            },
            "type": "table"
           }
          ]
         },
         "layout": {
          "annotationdefaults": {
           "arrowcolor": "#2a3f5f",
           "arrowhead": 0,
           "arrowwidth": 1
          },
          "autotypenumbers": "strict",
          "coloraxis": {
           "colorbar": {
            "outlinewidth": 0,
            "ticks": ""
           }
          },
          "colorscale": {
           "diverging": [
            [
             0,
             "#8e0152"
            ],
            [
             0.1,
             "#c51b7d"
            ],
            [
             0.2,
             "#de77ae"
            ],
            [
             0.3,
             "#f1b6da"
            ],
            [
             0.4,
             "#fde0ef"
            ],
            [
             0.5,
             "#f7f7f7"
            ],
            [
             0.6,
             "#e6f5d0"
            ],
            [
             0.7,
             "#b8e186"
            ],
            [
             0.8,
             "#7fbc41"
            ],
            [
             0.9,
             "#4d9221"
            ],
            [
             1,
             "#276419"
            ]
           ],
           "sequential": [
            [
             0,
             "#0d0887"
            ],
            [
             0.1111111111111111,
             "#46039f"
            ],
            [
             0.2222222222222222,
             "#7201a8"
            ],
            [
             0.3333333333333333,
             "#9c179e"
            ],
            [
             0.4444444444444444,
             "#bd3786"
            ],
            [
             0.5555555555555556,
             "#d8576b"
            ],
            [
             0.6666666666666666,
             "#ed7953"
            ],
            [
             0.7777777777777778,
             "#fb9f3a"
            ],
            [
             0.8888888888888888,
             "#fdca26"
            ],
            [
             1,
             "#f0f921"
            ]
           ],
           "sequentialminus": [
            [
             0,
             "#0d0887"
            ],
            [
             0.1111111111111111,
             "#46039f"
            ],
            [
             0.2222222222222222,
             "#7201a8"
            ],
            [
             0.3333333333333333,
             "#9c179e"
            ],
            [
             0.4444444444444444,
             "#bd3786"
            ],
            [
             0.5555555555555556,
             "#d8576b"
            ],
            [
             0.6666666666666666,
             "#ed7953"
            ],
            [
             0.7777777777777778,
             "#fb9f3a"
            ],
            [
             0.8888888888888888,
             "#fdca26"
            ],
            [
             1,
             "#f0f921"
            ]
           ]
          },
          "colorway": [
           "#636efa",
           "#EF553B",
           "#00cc96",
           "#ab63fa",
           "#FFA15A",
           "#19d3f3",
           "#FF6692",
           "#B6E880",
           "#FF97FF",
           "#FECB52"
          ],
          "font": {
           "color": "#2a3f5f"
          },
          "geo": {
           "bgcolor": "white",
           "lakecolor": "white",
           "landcolor": "#E5ECF6",
           "showlakes": true,
           "showland": true,
           "subunitcolor": "white"
          },
          "hoverlabel": {
           "align": "left"
          },
          "hovermode": "closest",
          "mapbox": {
           "style": "light"
          },
          "paper_bgcolor": "white",
          "plot_bgcolor": "#E5ECF6",
          "polar": {
           "angularaxis": {
            "gridcolor": "white",
            "linecolor": "white",
            "ticks": ""
           },
           "bgcolor": "#E5ECF6",
           "radialaxis": {
            "gridcolor": "white",
            "linecolor": "white",
            "ticks": ""
           }
          },
          "scene": {
           "xaxis": {
            "backgroundcolor": "#E5ECF6",
            "gridcolor": "white",
            "gridwidth": 2,
            "linecolor": "white",
            "showbackground": true,
            "ticks": "",
            "zerolinecolor": "white"
           },
           "yaxis": {
            "backgroundcolor": "#E5ECF6",
            "gridcolor": "white",
            "gridwidth": 2,
            "linecolor": "white",
            "showbackground": true,
            "ticks": "",
            "zerolinecolor": "white"
           },
           "zaxis": {
            "backgroundcolor": "#E5ECF6",
            "gridcolor": "white",
            "gridwidth": 2,
            "linecolor": "white",
            "showbackground": true,
            "ticks": "",
            "zerolinecolor": "white"
           }
          },
          "shapedefaults": {
           "line": {
            "color": "#2a3f5f"
           }
          },
          "ternary": {
           "aaxis": {
            "gridcolor": "white",
            "linecolor": "white",
            "ticks": ""
           },
           "baxis": {
            "gridcolor": "white",
            "linecolor": "white",
            "ticks": ""
           },
           "bgcolor": "#E5ECF6",
           "caxis": {
            "gridcolor": "white",
            "linecolor": "white",
            "ticks": ""
           }
          },
          "title": {
           "x": 0.05
          },
          "xaxis": {
           "automargin": true,
           "gridcolor": "white",
           "linecolor": "white",
           "ticks": "",
           "title": {
            "standoff": 15
           },
           "zerolinecolor": "white",
           "zerolinewidth": 2
          },
          "yaxis": {
           "automargin": true,
           "gridcolor": "white",
           "linecolor": "white",
           "ticks": "",
           "title": {
            "standoff": 15
           },
           "zerolinecolor": "white",
           "zerolinewidth": 2
          }
         }
        },
        "xaxis": {
         "anchor": "y",
         "autorange": true,
         "domain": [
          0,
          1
         ],
         "range": [
          1,
          300
         ],
         "title": {
          "text": "timestep"
         },
         "type": "linear"
        },
        "yaxis": {
         "anchor": "x",
         "autorange": true,
         "domain": [
          0,
          1
         ],
         "range": [
          0.5061728395061728,
          3.7160493827160495
         ],
         "title": {
          "text": "value"
         },
         "type": "linear"
        }
       }
      },
      "image/png": "[encoded data removed]",
      "text/html": [
       "<div>                            <div id=\"3e58d2a6-58fa-4124-be3f-e8fe8cffa9ad\" class=\"plotly-graph-div\" style=\"height:525px; width:100%;\"></div>            <script type=\"text/javascript\">                require([\"plotly\"], function(Plotly) {                    window.PLOTLYENV=window.PLOTLYENV || {};                                    if (document.getElementById(\"3e58d2a6-58fa-4124-be3f-e8fe8cffa9ad\")) {                    Plotly.newPlot(                        \"3e58d2a6-58fa-4124-be3f-e8fe8cffa9ad\",                        [{\"hovertemplate\":\"variable=activity_ratio_0<br>timestep=%{x}<br>value=%{y}<extra></extra>\",\"legendgroup\":\"activity_ratio_0\",\"line\":{\"color\":\"#636efa\",\"dash\":\"solid\"},\"mode\":\"lines\",\"name\":\"activity_ratio_0\",\"orientation\":\"v\",\"showlegend\":true,\"type\":\"scatter\",\"x\":[1,2,3,4,5,6,7,8,9,10,11,12,13,14,15,16,17,18,19,20,21,22,23,24,25,26,27,28,29,30,31,32,33,34,35,36,37,38,39,40,41,42,43,44,45,46,47,48,49,50,51,52,53,54,55,56,57,58,59,60,61,62,63,64,65,66,67,68,69,70,71,72,73,74,75,76,77,78,79,80,81,82,83,84,85,86,87,88,89,90,91,92,93,94,95,96,97,98,99,100,101,102,103,104,105,106,107,108,109,110,111,112,113,114,115,116,117,118,119,120,121,122,123,124,125,126,127,128,129,130,131,132,133,134,135,136,137,138,139,140,141,142,143,144,145,146,147,148,149,150,151,152,153,154,155,156,157,158,159,160,161,162,163,164,165,166,167,168,169,170,171,172,173,174,175,176,177,178,179,180,181,182,183,184,185,186,187,188,189,190,191,192,193,194,195,196,197,198,199,200,201,202,203,204,205,206,207,208,209,210,211,212,213,214,215,216,217,218,219,220,221,222,223,224,225,226,227,228,229,230,231,232,233,234,235,236,237,238,239,240,241,242,243,244,245,246,247,248,249,250,251,252,253,254,255,256,257,258,259,260,261,262,263,264,265,266,267,268,269,270,271,272,273,274,275,276,277,278,279,280,281,282,283,284,285,286,287,288,289,290,291,292,293,294,295,296,297,298,299,300],\"xaxis\":\"x\",\"y\":[1.5,1.5,1.5,1.5,1.5,1.5,1.5,1.5,1.5,1.5,1.5,1.5,1.5,1.5,1.5,1.5,1.5,1.5,1.5,1.5,1.5,1.5,1.5,1.5,1.5,1.5,1.5,1.5,1.5,1.5,1.5,1.5,1.5,1.5,1.5,1.5,1.5,1.5,1.5,1.5,1.5,1.5,1.5,1.5,1.5,1.5,1.5,1.5,1.5,1.5,1.5,1.5,1.5,1.5,1.5,1.5,1.5,1.5,1.5,1.5,1.5,1.5,1.5,1.5,1.5,1.5,1.5,1.5,1.5,1.5,1.5,1.5,1.5,1.5,1.5,1.5,1.5,1.5,1.5,1.5,1.5,1.5,1.5,1.5,1.5,1.5,1.5,1.5,1.5,1.5,1.5,1.5,1.5,1.5,1.5,1.5,1.5,1.5,1.5,1.5,1.5,1.5,1.5,1.5,1.5,1.5,1.5,1.5,1.5,1.5,1.5,1.846153846153846,1.846153846153846,1.846153846153846,1.846153846153846,1.846153846153846,1.846153846153846,1.846153846153846,1.846153846153846,1.846153846153846,1.846153846153846,1.846153846153846,1.846153846153846,1.846153846153846,1.846153846153846,1.846153846153846,1.846153846153846,2.1818181818181817,2.1818181818181817,2.1818181818181817,2.1818181818181817,2.1818181818181817,2.1818181818181817,2.1818181818181817,2.1818181818181817,2.1818181818181817,2.1818181818181817,2.1818181818181817,2.1818181818181817,2.1818181818181817,2.1818181818181817,2.1818181818181817,2.1818181818181817,2.8235294117647056,2.8235294117647056,2.8235294117647056,2.8235294117647056,2.8235294117647056,2.8235294117647056,2.8235294117647056,2.8235294117647056,2.8235294117647056,2.8235294117647056,2.8235294117647056,2.8235294117647056,2.8235294117647056,2.8235294117647056,2.8235294117647056,2.8235294117647056,2.8235294117647056,2.8235294117647056,2.8235294117647056,2.8235294117647056,2.8235294117647056,2.8235294117647056,2.8235294117647056,2.8235294117647056,2.8235294117647056,2.8235294117647056,2.8235294117647056,2.8235294117647056,2.8235294117647056,2.8235294117647056,2.8235294117647056,2.8235294117647056,2.8235294117647056,2.8235294117647056,2.8235294117647056,2.8235294117647056,2.8235294117647056,2.8235294117647056,2.8235294117647056,2.8235294117647056,2.8235294117647056,2.8235294117647056,2.8235294117647056,2.8235294117647056,2.8235294117647056,2.8235294117647056,2.8235294117647056,2.8235294117647056,2.8235294117647056,2.8235294117647056,2.8235294117647056,2.8235294117647056,2.8235294117647056,2.8235294117647056,2.8235294117647056,2.8235294117647056,2.8235294117647056,2.8235294117647056,2.8235294117647056,2.8235294117647056,2.8235294117647056,2.8235294117647056,2.8235294117647056,2.8235294117647056,2.8235294117647056,2.8235294117647056,2.8235294117647056,2.8235294117647056,2.8235294117647056,2.8235294117647056,2.8235294117647056,2.8235294117647056,2.8235294117647056,2.8235294117647056,2.8235294117647056,2.8235294117647056,2.8235294117647056,2.8235294117647056,2.8235294117647056,2.8235294117647056,2.8235294117647056,2.8235294117647056,2.8235294117647056,2.8235294117647056,2.8235294117647056,2.8235294117647056,2.8235294117647056,2.8235294117647056,2.8235294117647056,2.8235294117647056,2.8235294117647056,2.8235294117647056,2.8235294117647056,2.8235294117647056,2.8235294117647056,2.8235294117647056,2.8235294117647056,2.8235294117647056,2.8235294117647056,2.8235294117647056,2.8235294117647056,2.8235294117647056,2.8235294117647056,2.8235294117647056,2.8235294117647056,2.8235294117647056,2.8235294117647056,2.8235294117647056,2.8235294117647056,2.8235294117647056,2.8235294117647056,2.8235294117647056,2.8235294117647056,2.8235294117647056,2.8235294117647056,2.8235294117647056,2.8235294117647056,2.8235294117647056,2.8235294117647056,2.8235294117647056,2.8235294117647056,2.8235294117647056,2.8235294117647056,2.8235294117647056,2.8235294117647056,2.8235294117647056,2.8235294117647056,2.8235294117647056,2.8235294117647056,2.8235294117647056,2.8235294117647056,2.8235294117647056,2.8235294117647056,2.8235294117647056,2.8235294117647056,2.8235294117647056,2.8235294117647056,2.8235294117647056,2.8235294117647056,2.8235294117647056,2.8235294117647056,2.8235294117647056,2.8235294117647056,2.8235294117647056,2.8235294117647056,2.8235294117647056,2.8235294117647056,2.8235294117647056,2.8235294117647056,2.8235294117647056,2.8235294117647056,2.8235294117647056,2.8235294117647056,2.8235294117647056,2.8235294117647056,2.8235294117647056,2.8235294117647056],\"yaxis\":\"y\"},{\"hovertemplate\":\"variable=activity_ratio_1<br>timestep=%{x}<br>value=%{y}<extra></extra>\",\"legendgroup\":\"activity_ratio_1\",\"line\":{\"color\":\"#EF553B\",\"dash\":\"solid\"},\"mode\":\"lines\",\"name\":\"activity_ratio_1\",\"orientation\":\"v\",\"showlegend\":true,\"type\":\"scatter\",\"x\":[1,2,3,4,5,6,7,8,9,10,11,12,13,14,15,16,17,18,19,20,21,22,23,24,25,26,27,28,29,30,31,32,33,34,35,36,37,38,39,40,41,42,43,44,45,46,47,48,49,50,51,52,53,54,55,56,57,58,59,60,61,62,63,64,65,66,67,68,69,70,71,72,73,74,75,76,77,78,79,80,81,82,83,84,85,86,87,88,89,90,91,92,93,94,95,96,97,98,99,100,101,102,103,104,105,106,107,108,109,110,111,112,113,114,115,116,117,118,119,120,121,122,123,124,125,126,127,128,129,130,131,132,133,134,135,136,137,138,139,140,141,142,143,144,145,146,147,148,149,150,151,152,153,154,155,156,157,158,159,160,161,162,163,164,165,166,167,168,169,170,171,172,173,174,175,176,177,178,179,180,181,182,183,184,185,186,187,188,189,190,191,192,193,194,195,196,197,198,199,200,201,202,203,204,205,206,207,208,209,210,211,212,213,214,215,216,217,218,219,220,221,222,223,224,225,226,227,228,229,230,231,232,233,234,235,236,237,238,239,240,241,242,243,244,245,246,247,248,249,250,251,252,253,254,255,256,257,258,259,260,261,262,263,264,265,266,267,268,269,270,271,272,273,274,275,276,277,278,279,280,281,282,283,284,285,286,287,288,289,290,291,292,293,294,295,296,297,298,299,300],\"xaxis\":\"x\",\"y\":[0.6666666666666666,0.6666666666666666,0.6666666666666666,0.6666666666666666,0.6666666666666666,0.6666666666666666,0.6666666666666666,0.6666666666666666,0.6666666666666666,0.6666666666666666,0.6666666666666666,0.6666666666666666,0.6666666666666666,0.6666666666666666,0.6666666666666666,0.6666666666666666,0.6666666666666666,0.6666666666666666,0.6666666666666666,0.6666666666666666,0.6666666666666666,0.6666666666666666,0.6666666666666666,0.6666666666666666,0.6666666666666666,0.6666666666666666,0.6666666666666666,0.6666666666666666,0.6666666666666666,0.6666666666666666,0.6666666666666666,0.6666666666666666,0.6666666666666666,0.6666666666666666,0.6666666666666666,0.6666666666666666,0.6666666666666666,0.6666666666666666,0.6666666666666666,0.6666666666666666,0.6666666666666666,0.6666666666666666,0.6666666666666666,0.6666666666666666,0.6666666666666666,0.6666666666666666,0.6666666666666666,0.6666666666666666,0.6666666666666666,0.6666666666666666,0.6666666666666666,0.6666666666666666,0.6666666666666666,0.6666666666666666,0.6666666666666666,0.6666666666666666,0.6666666666666666,0.6666666666666666,0.6666666666666666,0.6666666666666666,0.6666666666666666,0.6666666666666666,0.6666666666666666,0.6666666666666666,0.6666666666666666,0.6666666666666666,0.6666666666666666,0.6666666666666666,0.6666666666666666,0.6666666666666666,0.6666666666666666,0.6666666666666666,0.6666666666666666,0.6666666666666666,0.6666666666666666,0.6666666666666666,0.6666666666666666,0.6666666666666666,0.6666666666666666,0.6666666666666666,0.6666666666666666,0.6666666666666666,0.6666666666666666,0.6666666666666666,0.6666666666666666,0.6666666666666666,0.6666666666666666,0.6666666666666666,0.6666666666666666,0.6666666666666666,0.6666666666666666,0.6666666666666666,0.6666666666666666,0.6666666666666666,0.6666666666666666,0.6666666666666666,0.6666666666666666,0.6666666666666666,0.6666666666666666,0.6666666666666666,0.6666666666666666,0.6666666666666666,0.6666666666666666,0.6666666666666666,0.6666666666666666,0.6666666666666666,0.6666666666666666,0.6666666666666666,0.6666666666666666,0.6666666666666666,0.6666666666666666,0.8205128205128206,0.8205128205128206,0.8205128205128206,0.8205128205128206,0.8205128205128206,0.8205128205128206,0.8205128205128206,0.8205128205128206,0.8205128205128206,0.8205128205128206,0.8205128205128206,0.8205128205128206,0.8205128205128206,0.8205128205128206,0.8205128205128206,0.8205128205128206,0.9696969696969696,0.9696969696969696,0.9696969696969696,0.9696969696969696,0.9696969696969696,0.9696969696969696,0.9696969696969696,0.9696969696969696,0.9696969696969696,0.9696969696969696,0.9696969696969696,0.9696969696969696,0.9696969696969696,0.9696969696969696,0.9696969696969696,0.9696969696969696,1.2549019607843137,1.2549019607843137,1.2549019607843137,1.2549019607843137,1.2549019607843137,1.2549019607843137,1.2549019607843137,1.2549019607843137,1.2549019607843137,1.2549019607843137,1.2549019607843137,1.2549019607843137,1.2549019607843137,1.2549019607843137,1.2549019607843137,1.2549019607843137,1.6410256410256412,1.6410256410256412,1.6410256410256412,1.6410256410256412,1.6410256410256412,1.6410256410256412,1.6410256410256412,1.6410256410256412,1.6410256410256412,1.6410256410256412,1.6410256410256412,1.6410256410256412,1.6410256410256412,1.6410256410256412,1.6410256410256412,1.6410256410256412,2.3703703703703707,2.3703703703703707,2.3703703703703707,2.3703703703703707,2.3703703703703707,2.3703703703703707,2.3703703703703707,2.3703703703703707,2.3703703703703707,2.3703703703703707,2.3703703703703707,2.3703703703703707,2.3703703703703707,2.3703703703703707,2.3703703703703707,2.3703703703703707,3.555555555555556,3.555555555555556,3.555555555555556,3.555555555555556,3.555555555555556,3.555555555555556,3.555555555555556,3.555555555555556,3.555555555555556,3.555555555555556,3.555555555555556,3.555555555555556,3.555555555555556,3.555555555555556,3.555555555555556,3.555555555555556,3.555555555555556,3.555555555555556,3.555555555555556,3.555555555555556,3.555555555555556,3.555555555555556,3.555555555555556,3.555555555555556,3.555555555555556,3.555555555555556,3.555555555555556,3.555555555555556,3.555555555555556,3.555555555555556,3.555555555555556,3.555555555555556,3.555555555555556,3.555555555555556,3.555555555555556,3.555555555555556,3.555555555555556,3.555555555555556,3.555555555555556,3.555555555555556,3.555555555555556,3.555555555555556,3.555555555555556,3.555555555555556,3.555555555555556,3.555555555555556,3.555555555555556,3.555555555555556,3.555555555555556,3.555555555555556,3.555555555555556,3.555555555555556,3.555555555555556,3.555555555555556,3.555555555555556,3.555555555555556,3.555555555555556,3.555555555555556,3.555555555555556,3.555555555555556,3.555555555555556,3.555555555555556,3.555555555555556,3.555555555555556,3.555555555555556,3.555555555555556,3.555555555555556,3.555555555555556,3.555555555555556,3.555555555555556,3.555555555555556,3.555555555555556,3.555555555555556,3.555555555555556,3.555555555555556,3.555555555555556,3.555555555555556,3.555555555555556,3.555555555555556,3.555555555555556,3.555555555555556,3.555555555555556,3.555555555555556,3.555555555555556,3.555555555555556,3.555555555555556,3.555555555555556,3.555555555555556,3.555555555555556,3.555555555555556,3.555555555555556,3.555555555555556,3.555555555555556,3.555555555555556,3.555555555555556,3.555555555555556,3.555555555555556,3.555555555555556,3.555555555555556,3.555555555555556,3.555555555555556,3.555555555555556,3.555555555555556,3.555555555555556,3.555555555555556,3.555555555555556,3.555555555555556,3.555555555555556,3.555555555555556],\"yaxis\":\"y\"}],                        {\"legend\":{\"title\":{\"text\":\"variable\"},\"tracegroupgap\":0},\"margin\":{\"t\":60},\"template\":{\"data\":{\"bar\":[{\"error_x\":{\"color\":\"#2a3f5f\"},\"error_y\":{\"color\":\"#2a3f5f\"},\"marker\":{\"line\":{\"color\":\"#E5ECF6\",\"width\":0.5},\"pattern\":{\"fillmode\":\"overlay\",\"size\":10,\"solidity\":0.2}},\"type\":\"bar\"}],\"barpolar\":[{\"marker\":{\"line\":{\"color\":\"#E5ECF6\",\"width\":0.5},\"pattern\":{\"fillmode\":\"overlay\",\"size\":10,\"solidity\":0.2}},\"type\":\"barpolar\"}],\"carpet\":[{\"aaxis\":{\"endlinecolor\":\"#2a3f5f\",\"gridcolor\":\"white\",\"linecolor\":\"white\",\"minorgridcolor\":\"white\",\"startlinecolor\":\"#2a3f5f\"},\"baxis\":{\"endlinecolor\":\"#2a3f5f\",\"gridcolor\":\"white\",\"linecolor\":\"white\",\"minorgridcolor\":\"white\",\"startlinecolor\":\"#2a3f5f\"},\"type\":\"carpet\"}],\"choropleth\":[{\"colorbar\":{\"outlinewidth\":0,\"ticks\":\"\"},\"type\":\"choropleth\"}],\"contour\":[{\"colorbar\":{\"outlinewidth\":0,\"ticks\":\"\"},\"colorscale\":[[0.0,\"#0d0887\"],[0.1111111111111111,\"#46039f\"],[0.2222222222222222,\"#7201a8\"],[0.3333333333333333,\"#9c179e\"],[0.4444444444444444,\"#bd3786\"],[0.5555555555555556,\"#d8576b\"],[0.6666666666666666,\"#ed7953\"],[0.7777777777777778,\"#fb9f3a\"],[0.8888888888888888,\"#fdca26\"],[1.0,\"#f0f921\"]],\"type\":\"contour\"}],\"contourcarpet\":[{\"colorbar\":{\"outlinewidth\":0,\"ticks\":\"\"},\"type\":\"contourcarpet\"}],\"heatmap\":[{\"colorbar\":{\"outlinewidth\":0,\"ticks\":\"\"},\"colorscale\":[[0.0,\"#0d0887\"],[0.1111111111111111,\"#46039f\"],[0.2222222222222222,\"#7201a8\"],[0.3333333333333333,\"#9c179e\"],[0.4444444444444444,\"#bd3786\"],[0.5555555555555556,\"#d8576b\"],[0.6666666666666666,\"#ed7953\"],[0.7777777777777778,\"#fb9f3a\"],[0.8888888888888888,\"#fdca26\"],[1.0,\"#f0f921\"]],\"type\":\"heatmap\"}],\"heatmapgl\":[{\"colorbar\":{\"outlinewidth\":0,\"ticks\":\"\"},\"colorscale\":[[0.0,\"#0d0887\"],[0.1111111111111111,\"#46039f\"],[0.2222222222222222,\"#7201a8\"],[0.3333333333333333,\"#9c179e\"],[0.4444444444444444,\"#bd3786\"],[0.5555555555555556,\"#d8576b\"],[0.6666666666666666,\"#ed7953\"],[0.7777777777777778,\"#fb9f3a\"],[0.8888888888888888,\"#fdca26\"],[1.0,\"#f0f921\"]],\"type\":\"heatmapgl\"}],\"histogram\":[{\"marker\":{\"pattern\":{\"fillmode\":\"overlay\",\"size\":10,\"solidity\":0.2}},\"type\":\"histogram\"}],\"histogram2d\":[{\"colorbar\":{\"outlinewidth\":0,\"ticks\":\"\"},\"colorscale\":[[0.0,\"#0d0887\"],[0.1111111111111111,\"#46039f\"],[0.2222222222222222,\"#7201a8\"],[0.3333333333333333,\"#9c179e\"],[0.4444444444444444,\"#bd3786\"],[0.5555555555555556,\"#d8576b\"],[0.6666666666666666,\"#ed7953\"],[0.7777777777777778,\"#fb9f3a\"],[0.8888888888888888,\"#fdca26\"],[1.0,\"#f0f921\"]],\"type\":\"histogram2d\"}],\"histogram2dcontour\":[{\"colorbar\":{\"outlinewidth\":0,\"ticks\":\"\"},\"colorscale\":[[0.0,\"#0d0887\"],[0.1111111111111111,\"#46039f\"],[0.2222222222222222,\"#7201a8\"],[0.3333333333333333,\"#9c179e\"],[0.4444444444444444,\"#bd3786\"],[0.5555555555555556,\"#d8576b\"],[0.6666666666666666,\"#ed7953\"],[0.7777777777777778,\"#fb9f3a\"],[0.8888888888888888,\"#fdca26\"],[1.0,\"#f0f921\"]],\"type\":\"histogram2dcontour\"}],\"mesh3d\":[{\"colorbar\":{\"outlinewidth\":0,\"ticks\":\"\"},\"type\":\"mesh3d\"}],\"parcoords\":[{\"line\":{\"colorbar\":{\"outlinewidth\":0,\"ticks\":\"\"}},\"type\":\"parcoords\"}],\"pie\":[{\"automargin\":true,\"type\":\"pie\"}],\"scatter\":[{\"marker\":{\"colorbar\":{\"outlinewidth\":0,\"ticks\":\"\"}},\"type\":\"scatter\"}],\"scatter3d\":[{\"line\":{\"colorbar\":{\"outlinewidth\":0,\"ticks\":\"\"}},\"marker\":{\"colorbar\":{\"outlinewidth\":0,\"ticks\":\"\"}},\"type\":\"scatter3d\"}],\"scattercarpet\":[{\"marker\":{\"colorbar\":{\"outlinewidth\":0,\"ticks\":\"\"}},\"type\":\"scattercarpet\"}],\"scattergeo\":[{\"marker\":{\"colorbar\":{\"outlinewidth\":0,\"ticks\":\"\"}},\"type\":\"scattergeo\"}],\"scattergl\":[{\"marker\":{\"colorbar\":{\"outlinewidth\":0,\"ticks\":\"\"}},\"type\":\"scattergl\"}],\"scattermapbox\":[{\"marker\":{\"colorbar\":{\"outlinewidth\":0,\"ticks\":\"\"}},\"type\":\"scattermapbox\"}],\"scatterpolar\":[{\"marker\":{\"colorbar\":{\"outlinewidth\":0,\"ticks\":\"\"}},\"type\":\"scatterpolar\"}],\"scatterpolargl\":[{\"marker\":{\"colorbar\":{\"outlinewidth\":0,\"ticks\":\"\"}},\"type\":\"scatterpolargl\"}],\"scatterternary\":[{\"marker\":{\"colorbar\":{\"outlinewidth\":0,\"ticks\":\"\"}},\"type\":\"scatterternary\"}],\"surface\":[{\"colorbar\":{\"outlinewidth\":0,\"ticks\":\"\"},\"colorscale\":[[0.0,\"#0d0887\"],[0.1111111111111111,\"#46039f\"],[0.2222222222222222,\"#7201a8\"],[0.3333333333333333,\"#9c179e\"],[0.4444444444444444,\"#bd3786\"],[0.5555555555555556,\"#d8576b\"],[0.6666666666666666,\"#ed7953\"],[0.7777777777777778,\"#fb9f3a\"],[0.8888888888888888,\"#fdca26\"],[1.0,\"#f0f921\"]],\"type\":\"surface\"}],\"table\":[{\"cells\":{\"fill\":{\"color\":\"#EBF0F8\"},\"line\":{\"color\":\"white\"}},\"header\":{\"fill\":{\"color\":\"#C8D4E3\"},\"line\":{\"color\":\"white\"}},\"type\":\"table\"}]},\"layout\":{\"annotationdefaults\":{\"arrowcolor\":\"#2a3f5f\",\"arrowhead\":0,\"arrowwidth\":1},\"autotypenumbers\":\"strict\",\"coloraxis\":{\"colorbar\":{\"outlinewidth\":0,\"ticks\":\"\"}},\"colorscale\":{\"diverging\":[[0,\"#8e0152\"],[0.1,\"#c51b7d\"],[0.2,\"#de77ae\"],[0.3,\"#f1b6da\"],[0.4,\"#fde0ef\"],[0.5,\"#f7f7f7\"],[0.6,\"#e6f5d0\"],[0.7,\"#b8e186\"],[0.8,\"#7fbc41\"],[0.9,\"#4d9221\"],[1,\"#276419\"]],\"sequential\":[[0.0,\"#0d0887\"],[0.1111111111111111,\"#46039f\"],[0.2222222222222222,\"#7201a8\"],[0.3333333333333333,\"#9c179e\"],[0.4444444444444444,\"#bd3786\"],[0.5555555555555556,\"#d8576b\"],[0.6666666666666666,\"#ed7953\"],[0.7777777777777778,\"#fb9f3a\"],[0.8888888888888888,\"#fdca26\"],[1.0,\"#f0f921\"]],\"sequentialminus\":[[0.0,\"#0d0887\"],[0.1111111111111111,\"#46039f\"],[0.2222222222222222,\"#7201a8\"],[0.3333333333333333,\"#9c179e\"],[0.4444444444444444,\"#bd3786\"],[0.5555555555555556,\"#d8576b\"],[0.6666666666666666,\"#ed7953\"],[0.7777777777777778,\"#fb9f3a\"],[0.8888888888888888,\"#fdca26\"],[1.0,\"#f0f921\"]]},\"colorway\":[\"#636efa\",\"#EF553B\",\"#00cc96\",\"#ab63fa\",\"#FFA15A\",\"#19d3f3\",\"#FF6692\",\"#B6E880\",\"#FF97FF\",\"#FECB52\"],\"font\":{\"color\":\"#2a3f5f\"},\"geo\":{\"bgcolor\":\"white\",\"lakecolor\":\"white\",\"landcolor\":\"#E5ECF6\",\"showlakes\":true,\"showland\":true,\"subunitcolor\":\"white\"},\"hoverlabel\":{\"align\":\"left\"},\"hovermode\":\"closest\",\"mapbox\":{\"style\":\"light\"},\"paper_bgcolor\":\"white\",\"plot_bgcolor\":\"#E5ECF6\",\"polar\":{\"angularaxis\":{\"gridcolor\":\"white\",\"linecolor\":\"white\",\"ticks\":\"\"},\"bgcolor\":\"#E5ECF6\",\"radialaxis\":{\"gridcolor\":\"white\",\"linecolor\":\"white\",\"ticks\":\"\"}},\"scene\":{\"xaxis\":{\"backgroundcolor\":\"#E5ECF6\",\"gridcolor\":\"white\",\"gridwidth\":2,\"linecolor\":\"white\",\"showbackground\":true,\"ticks\":\"\",\"zerolinecolor\":\"white\"},\"yaxis\":{\"backgroundcolor\":\"#E5ECF6\",\"gridcolor\":\"white\",\"gridwidth\":2,\"linecolor\":\"white\",\"showbackground\":true,\"ticks\":\"\",\"zerolinecolor\":\"white\"},\"zaxis\":{\"backgroundcolor\":\"#E5ECF6\",\"gridcolor\":\"white\",\"gridwidth\":2,\"linecolor\":\"white\",\"showbackground\":true,\"ticks\":\"\",\"zerolinecolor\":\"white\"}},\"shapedefaults\":{\"line\":{\"color\":\"#2a3f5f\"}},\"ternary\":{\"aaxis\":{\"gridcolor\":\"white\",\"linecolor\":\"white\",\"ticks\":\"\"},\"baxis\":{\"gridcolor\":\"white\",\"linecolor\":\"white\",\"ticks\":\"\"},\"bgcolor\":\"#E5ECF6\",\"caxis\":{\"gridcolor\":\"white\",\"linecolor\":\"white\",\"ticks\":\"\"}},\"title\":{\"x\":0.05},\"xaxis\":{\"automargin\":true,\"gridcolor\":\"white\",\"linecolor\":\"white\",\"ticks\":\"\",\"title\":{\"standoff\":15},\"zerolinecolor\":\"white\",\"zerolinewidth\":2},\"yaxis\":{\"automargin\":true,\"gridcolor\":\"white\",\"linecolor\":\"white\",\"ticks\":\"\",\"title\":{\"standoff\":15},\"zerolinecolor\":\"white\",\"zerolinewidth\":2}}},\"xaxis\":{\"anchor\":\"y\",\"domain\":[0.0,1.0],\"title\":{\"text\":\"timestep\"}},\"yaxis\":{\"anchor\":\"x\",\"domain\":[0.0,1.0],\"title\":{\"text\":\"value\"}}},                        {\"responsive\": true}                    ).then(function(){\n",
       "                            \n",
       "var gd = document.getElementById('3e58d2a6-58fa-4124-be3f-e8fe8cffa9ad');\n",
       "var x = new MutationObserver(function (mutations, observer) {{\n",
       "        var display = window.getComputedStyle(gd).display;\n",
       "        if (!display || display === 'none') {{\n",
       "            console.log([gd, 'removed!']);\n",
       "            Plotly.purge(gd);\n",
       "            observer.disconnect();\n",
       "        }}\n",
       "}});\n",
       "\n",
       "// Listen for the removal of the full notebook cells\n",
       "var notebookContainer = gd.closest('#notebook-container');\n",
       "if (notebookContainer) {{\n",
       "    x.observe(notebookContainer, {childList: true});\n",
       "}}\n",
       "\n",
       "// Listen for the clearing of the current output cell\n",
       "var outputEl = gd.closest('.output');\n",
       "if (outputEl) {{\n",
       "    x.observe(outputEl, {childList: true});\n",
       "}}\n",
       "\n",
       "                        })                };                });            </script>        </div>"
      ]
     },
     "metadata": {},
     "output_type": "display_data"
    }
   ],
   "source": [
    "df[df.substep == 1].plot('timestep', ['activity_ratio_0', 'activity_ratio_1'])"
   ]
  },
  {
   "cell_type": "markdown",
   "metadata": {},
   "source": [
    "Unsurprisingly, partition 0 is the quickest to reach an activity ratio of 2 and so resumes finalisation much earlier than partition 1. Let's dive into what happens as the chains start finalising again."
   ]
  },
  {
   "cell_type": "markdown",
   "metadata": {},
   "source": [
    "Here we'll focus on the first partition, where validators 0 to 59 are active. In the table below we show the moment when justification resumes, in other words when active validators have over twice the weight of inactive ones."
   ]
  },
  {
   "cell_type": "code",
   "execution_count": 15,
   "metadata": {},
   "outputs": [
    {
     "data": {
      "text/html": [
       "<div>\n",
       "<style scoped>\n",
       "    .dataframe tbody tr th:only-of-type {\n",
       "        vertical-align: middle;\n",
       "    }\n",
       "\n",
       "    .dataframe tbody tr th {\n",
       "        vertical-align: top;\n",
       "    }\n",
       "\n",
       "    .dataframe thead th {\n",
       "        text-align: right;\n",
       "    }\n",
       "</style>\n",
       "<table border=\"1\" class=\"dataframe\">\n",
       "  <thead>\n",
       "    <tr style=\"text-align: right;\">\n",
       "      <th></th>\n",
       "      <th>epoch</th>\n",
       "      <th>slot</th>\n",
       "      <th>attest_prev</th>\n",
       "      <th>attest_curr</th>\n",
       "      <th>prev_justified_cp</th>\n",
       "      <th>curr_justified_cp</th>\n",
       "      <th>finalized_epoch</th>\n",
       "      <th>just_bits</th>\n",
       "    </tr>\n",
       "  </thead>\n",
       "  <tbody>\n",
       "    <tr>\n",
       "      <th>283</th>\n",
       "      <td>8</td>\n",
       "      <td>142</td>\n",
       "      <td>68.57</td>\n",
       "      <td>52.57</td>\n",
       "      <td>0</td>\n",
       "      <td>0</td>\n",
       "      <td>0</td>\n",
       "      <td>[0, 0, 0, 0]</td>\n",
       "    </tr>\n",
       "    <tr>\n",
       "      <th>285</th>\n",
       "      <td>8</td>\n",
       "      <td>143</td>\n",
       "      <td>68.57</td>\n",
       "      <td>58.29</td>\n",
       "      <td>0</td>\n",
       "      <td>0</td>\n",
       "      <td>0</td>\n",
       "      <td>[0, 0, 0, 0]</td>\n",
       "    </tr>\n",
       "    <tr>\n",
       "      <th>287</th>\n",
       "      <td>9</td>\n",
       "      <td>144</td>\n",
       "      <td>62.77</td>\n",
       "      <td>0.04</td>\n",
       "      <td>0</td>\n",
       "      <td>7</td>\n",
       "      <td>0</td>\n",
       "      <td>[0, 1, 0, 0]</td>\n",
       "    </tr>\n",
       "    <tr>\n",
       "      <th>289</th>\n",
       "      <td>9</td>\n",
       "      <td>145</td>\n",
       "      <td>73.85</td>\n",
       "      <td>0.04</td>\n",
       "      <td>0</td>\n",
       "      <td>7</td>\n",
       "      <td>0</td>\n",
       "      <td>[0, 1, 0, 0]</td>\n",
       "    </tr>\n",
       "  </tbody>\n",
       "</table>\n",
       "</div>"
      ],
      "text/plain": [
       "     epoch  slot  attest_prev  attest_curr  prev_justified_cp  \\\n",
       "283      8   142        68.57        52.57                  0   \n",
       "285      8   143        68.57        58.29                  0   \n",
       "287      9   144        62.77         0.04                  0   \n",
       "289      9   145        73.85         0.04                  0   \n",
       "\n",
       "     curr_justified_cp  finalized_epoch     just_bits  \n",
       "283                  0                0  [0, 0, 0, 0]  \n",
       "285                  0                0  [0, 0, 0, 0]  \n",
       "287                  7                0  [0, 1, 0, 0]  \n",
       "289                  7                0  [0, 1, 0, 0]  "
      ]
     },
     "execution_count": 15,
     "metadata": {},
     "output_type": "execute_result"
    }
   ],
   "source": [
    "subs = df[(df.slot >= 142) & (df.slot < 146) & (df.substep == 1)]\n",
    "subs[['epoch', 'slot', 'attest_prev', 'attest_curr',\n",
    "      'prev_justified_cp', 'curr_justified_cp', 'finalized_epoch', 'just_bits']]"
   ]
  },
  {
   "cell_type": "markdown",
   "metadata": {},
   "source": [
    "`just_bits` is a 4 bits array indicating which of the four latest epochs are finalised. Notice that in the last step of epoch 8, `attest_prev` is over 66.666...%. The beacon chain has enough weighted votes to justify epoch 7! During the transition from epoch 8 to epoch 9, the justification bits are set to indicate that the second latest epoch (i.e., epoch 7) is justified, while the latest (epoch 8) and third and fourth latest (epochs 5 and 6) were not.\n",
    "\n",
    "```\n",
    "just_bits | 0 | 1 | 0 | 0 |\n",
    "----------|---|---|---|---|\n",
    "epoch     | 8 | 7 | 6 | 5 |\n",
    "```\n",
    "\n",
    "Casper FFG talks of _supermajority links_: heavy (with over 2/3rds of the stake) sets of votes taking as source the latest known justified checkpoint and as target a more recent checkpoint. In this case, genesis epoch 0 is the latest justified checkpoint since there was never enough weight to justify anything else, while the target was epoch 7. So we have the following links:\n",
    "\n",
    "```\n",
    "Supermajority links\n",
    "-------------------\n",
    "0 -> 7\n",
    "```\n",
    "\n",
    "But nothing is finalised yet, as `finalized_epoch_0` is still 0. When does finalisation happen?"
   ]
  },
  {
   "cell_type": "code",
   "execution_count": 16,
   "metadata": {},
   "outputs": [
    {
     "data": {
      "text/html": [
       "<div>\n",
       "<style scoped>\n",
       "    .dataframe tbody tr th:only-of-type {\n",
       "        vertical-align: middle;\n",
       "    }\n",
       "\n",
       "    .dataframe tbody tr th {\n",
       "        vertical-align: top;\n",
       "    }\n",
       "\n",
       "    .dataframe thead th {\n",
       "        text-align: right;\n",
       "    }\n",
       "</style>\n",
       "<table border=\"1\" class=\"dataframe\">\n",
       "  <thead>\n",
       "    <tr style=\"text-align: right;\">\n",
       "      <th></th>\n",
       "      <th>epoch</th>\n",
       "      <th>slot</th>\n",
       "      <th>attest_prev</th>\n",
       "      <th>attest_curr</th>\n",
       "      <th>prev_justified_cp</th>\n",
       "      <th>curr_justified_cp</th>\n",
       "      <th>finalized_epoch</th>\n",
       "      <th>just_bits</th>\n",
       "    </tr>\n",
       "  </thead>\n",
       "  <tbody>\n",
       "    <tr>\n",
       "      <th>315</th>\n",
       "      <td>9</td>\n",
       "      <td>158</td>\n",
       "      <td>73.85</td>\n",
       "      <td>56.62</td>\n",
       "      <td>0</td>\n",
       "      <td>7</td>\n",
       "      <td>0</td>\n",
       "      <td>[0, 1, 0, 0]</td>\n",
       "    </tr>\n",
       "    <tr>\n",
       "      <th>317</th>\n",
       "      <td>9</td>\n",
       "      <td>159</td>\n",
       "      <td>73.85</td>\n",
       "      <td>62.77</td>\n",
       "      <td>0</td>\n",
       "      <td>7</td>\n",
       "      <td>0</td>\n",
       "      <td>[0, 1, 0, 0]</td>\n",
       "    </tr>\n",
       "    <tr>\n",
       "      <th>319</th>\n",
       "      <td>10</td>\n",
       "      <td>160</td>\n",
       "      <td>67.69</td>\n",
       "      <td>0.04</td>\n",
       "      <td>7</td>\n",
       "      <td>9</td>\n",
       "      <td>7</td>\n",
       "      <td>[1, 1, 1, 0]</td>\n",
       "    </tr>\n",
       "    <tr>\n",
       "      <th>321</th>\n",
       "      <td>10</td>\n",
       "      <td>161</td>\n",
       "      <td>73.85</td>\n",
       "      <td>0.04</td>\n",
       "      <td>7</td>\n",
       "      <td>9</td>\n",
       "      <td>7</td>\n",
       "      <td>[1, 1, 1, 0]</td>\n",
       "    </tr>\n",
       "  </tbody>\n",
       "</table>\n",
       "</div>"
      ],
      "text/plain": [
       "     epoch  slot  attest_prev  attest_curr  prev_justified_cp  \\\n",
       "315      9   158        73.85        56.62                  0   \n",
       "317      9   159        73.85        62.77                  0   \n",
       "319     10   160        67.69         0.04                  7   \n",
       "321     10   161        73.85         0.04                  7   \n",
       "\n",
       "     curr_justified_cp  finalized_epoch     just_bits  \n",
       "315                  7                0  [0, 1, 0, 0]  \n",
       "317                  7                0  [0, 1, 0, 0]  \n",
       "319                  9                7  [1, 1, 1, 0]  \n",
       "321                  9                7  [1, 1, 1, 0]  "
      ]
     },
     "execution_count": 16,
     "metadata": {},
     "output_type": "execute_result"
    }
   ],
   "source": [
    "subs = df[(df.slot >= 158) & (df.slot < 162) & (df.substep == 1)]\n",
    "subs[['epoch', 'slot', 'attest_prev', 'attest_curr',\n",
    "      'prev_justified_cp', 'curr_justified_cp', 'finalized_epoch', 'just_bits']]"
   ]
  },
  {
   "cell_type": "markdown",
   "metadata": {},
   "source": [
    "Now we focus on the transition from epoch 9 to epoch 10. By the last slot of epoch 9, slot 159, `attest_prev` is well above 2/3rds with 73.85% of the (weighted) votes, which indicates that epoch 8 is justified. `attest_curr` however is only around 62.77% at that point, but this is hiding the fact that the last block of the epoch was not processed yet. Indeed, epoch 10 starts with an `attest_prev` of 67.69%, meaning that epoch 9 was also justified.\n",
    "\n",
    "```\n",
    "just_bits | 1 | 1 | 1 | 0 |\n",
    "----------|---|---|---|---|\n",
    "epoch     | 9 | 8 | 7 | 6 |\n",
    "```\n",
    "\n",
    "We have two consecutive sets of epochs which are both justified. In the language of Casper FFG, we have the following supermajority links:\n",
    "\n",
    "```\n",
    "Supermajority links\n",
    "-------------------\n",
    "0 -> 7\n",
    "7 -> 9\n",
    "```\n",
    "\n",
    "Finalisation of epoch 7 happens if all following three conditions are satisfied:\n",
    "\n",
    "- A supermajority link with epoch 7 as a source exists.\n",
    "- The target of that link 1 or 2 epochs away.\n",
    "- If the target is exactly 2 epochs away, then the epoch between the source and the target is also justified.\n",
    "\n",
    "We have a link from epoch 7 to epoch 9. Epoch 9 is two epochs away, and as we see from the justification bits, epoch 8 is also justified! So epoch 7 is finalised.\n",
    "\n",
    "Let's fast-forward a bit more..."
   ]
  },
  {
   "cell_type": "code",
   "execution_count": 17,
   "metadata": {},
   "outputs": [
    {
     "data": {
      "text/html": [
       "<div>\n",
       "<style scoped>\n",
       "    .dataframe tbody tr th:only-of-type {\n",
       "        vertical-align: middle;\n",
       "    }\n",
       "\n",
       "    .dataframe tbody tr th {\n",
       "        vertical-align: top;\n",
       "    }\n",
       "\n",
       "    .dataframe thead th {\n",
       "        text-align: right;\n",
       "    }\n",
       "</style>\n",
       "<table border=\"1\" class=\"dataframe\">\n",
       "  <thead>\n",
       "    <tr style=\"text-align: right;\">\n",
       "      <th></th>\n",
       "      <th>epoch</th>\n",
       "      <th>slot</th>\n",
       "      <th>attest_prev</th>\n",
       "      <th>attest_curr</th>\n",
       "      <th>prev_justified_cp</th>\n",
       "      <th>curr_justified_cp</th>\n",
       "      <th>finalized_epoch</th>\n",
       "      <th>just_bits</th>\n",
       "    </tr>\n",
       "  </thead>\n",
       "  <tbody>\n",
       "    <tr>\n",
       "      <th>347</th>\n",
       "      <td>10</td>\n",
       "      <td>174</td>\n",
       "      <td>73.85</td>\n",
       "      <td>59.08</td>\n",
       "      <td>7</td>\n",
       "      <td>9</td>\n",
       "      <td>7</td>\n",
       "      <td>[1, 1, 1, 0]</td>\n",
       "    </tr>\n",
       "    <tr>\n",
       "      <th>349</th>\n",
       "      <td>10</td>\n",
       "      <td>175</td>\n",
       "      <td>73.85</td>\n",
       "      <td>62.77</td>\n",
       "      <td>7</td>\n",
       "      <td>9</td>\n",
       "      <td>7</td>\n",
       "      <td>[1, 1, 1, 0]</td>\n",
       "    </tr>\n",
       "    <tr>\n",
       "      <th>351</th>\n",
       "      <td>11</td>\n",
       "      <td>176</td>\n",
       "      <td>67.69</td>\n",
       "      <td>0.04</td>\n",
       "      <td>9</td>\n",
       "      <td>10</td>\n",
       "      <td>9</td>\n",
       "      <td>[1, 1, 1, 1]</td>\n",
       "    </tr>\n",
       "    <tr>\n",
       "      <th>353</th>\n",
       "      <td>11</td>\n",
       "      <td>177</td>\n",
       "      <td>73.85</td>\n",
       "      <td>0.04</td>\n",
       "      <td>9</td>\n",
       "      <td>10</td>\n",
       "      <td>9</td>\n",
       "      <td>[1, 1, 1, 1]</td>\n",
       "    </tr>\n",
       "  </tbody>\n",
       "</table>\n",
       "</div>"
      ],
      "text/plain": [
       "     epoch  slot  attest_prev  attest_curr  prev_justified_cp  \\\n",
       "347     10   174        73.85        59.08                  7   \n",
       "349     10   175        73.85        62.77                  7   \n",
       "351     11   176        67.69         0.04                  9   \n",
       "353     11   177        73.85         0.04                  9   \n",
       "\n",
       "     curr_justified_cp  finalized_epoch     just_bits  \n",
       "347                  9                7  [1, 1, 1, 0]  \n",
       "349                  9                7  [1, 1, 1, 0]  \n",
       "351                 10                9  [1, 1, 1, 1]  \n",
       "353                 10                9  [1, 1, 1, 1]  "
      ]
     },
     "execution_count": 17,
     "metadata": {},
     "output_type": "execute_result"
    }
   ],
   "source": [
    "subs = df[(df.slot >= 174) & (df.slot < 178) & (df.substep == 1)]\n",
    "subs[['epoch', 'slot', 'attest_prev', 'attest_curr',\n",
    "      'prev_justified_cp', 'curr_justified_cp', 'finalized_epoch', 'just_bits']]"
   ]
  },
  {
   "cell_type": "markdown",
   "metadata": {},
   "source": [
    "Now epoch 9 is finalised, with supermajority links:\n",
    "\n",
    "```\n",
    "Supermajority links\n",
    "-------------------\n",
    "0 -> 7\n",
    "7 -> 9\n",
    "9 -> 10\n",
    "```\n",
    "\n",
    "OK last one..."
   ]
  },
  {
   "cell_type": "code",
   "execution_count": 18,
   "metadata": {},
   "outputs": [
    {
     "data": {
      "text/html": [
       "<div>\n",
       "<style scoped>\n",
       "    .dataframe tbody tr th:only-of-type {\n",
       "        vertical-align: middle;\n",
       "    }\n",
       "\n",
       "    .dataframe tbody tr th {\n",
       "        vertical-align: top;\n",
       "    }\n",
       "\n",
       "    .dataframe thead th {\n",
       "        text-align: right;\n",
       "    }\n",
       "</style>\n",
       "<table border=\"1\" class=\"dataframe\">\n",
       "  <thead>\n",
       "    <tr style=\"text-align: right;\">\n",
       "      <th></th>\n",
       "      <th>epoch</th>\n",
       "      <th>slot</th>\n",
       "      <th>attest_prev</th>\n",
       "      <th>attest_curr</th>\n",
       "      <th>prev_justified_cp</th>\n",
       "      <th>curr_justified_cp</th>\n",
       "      <th>finalized_epoch</th>\n",
       "      <th>just_bits</th>\n",
       "    </tr>\n",
       "  </thead>\n",
       "  <tbody>\n",
       "    <tr>\n",
       "      <th>379</th>\n",
       "      <td>11</td>\n",
       "      <td>190</td>\n",
       "      <td>73.85</td>\n",
       "      <td>57.85</td>\n",
       "      <td>9</td>\n",
       "      <td>10</td>\n",
       "      <td>9</td>\n",
       "      <td>[1, 1, 1, 1]</td>\n",
       "    </tr>\n",
       "    <tr>\n",
       "      <th>381</th>\n",
       "      <td>11</td>\n",
       "      <td>191</td>\n",
       "      <td>73.85</td>\n",
       "      <td>61.54</td>\n",
       "      <td>9</td>\n",
       "      <td>10</td>\n",
       "      <td>9</td>\n",
       "      <td>[1, 1, 1, 1]</td>\n",
       "    </tr>\n",
       "    <tr>\n",
       "      <th>383</th>\n",
       "      <td>12</td>\n",
       "      <td>192</td>\n",
       "      <td>66.46</td>\n",
       "      <td>0.04</td>\n",
       "      <td>10</td>\n",
       "      <td>10</td>\n",
       "      <td>9</td>\n",
       "      <td>[0, 1, 1, 1]</td>\n",
       "    </tr>\n",
       "    <tr>\n",
       "      <th>385</th>\n",
       "      <td>12</td>\n",
       "      <td>193</td>\n",
       "      <td>73.85</td>\n",
       "      <td>0.04</td>\n",
       "      <td>10</td>\n",
       "      <td>10</td>\n",
       "      <td>9</td>\n",
       "      <td>[0, 1, 1, 1]</td>\n",
       "    </tr>\n",
       "  </tbody>\n",
       "</table>\n",
       "</div>"
      ],
      "text/plain": [
       "     epoch  slot  attest_prev  attest_curr  prev_justified_cp  \\\n",
       "379     11   190        73.85        57.85                  9   \n",
       "381     11   191        73.85        61.54                  9   \n",
       "383     12   192        66.46         0.04                 10   \n",
       "385     12   193        73.85         0.04                 10   \n",
       "\n",
       "     curr_justified_cp  finalized_epoch     just_bits  \n",
       "379                 10                9  [1, 1, 1, 1]  \n",
       "381                 10                9  [1, 1, 1, 1]  \n",
       "383                 10                9  [0, 1, 1, 1]  \n",
       "385                 10                9  [0, 1, 1, 1]  "
      ]
     },
     "execution_count": 18,
     "metadata": {},
     "output_type": "execute_result"
    }
   ],
   "source": [
    "subs = df[(df.slot >= 190) & (df.slot < 194) & (df.substep == 1)]\n",
    "subs[['epoch', 'slot', 'attest_prev', 'attest_curr',\n",
    "      'prev_justified_cp', 'curr_justified_cp', 'finalized_epoch', 'just_bits']]"
   ]
  },
  {
   "cell_type": "markdown",
   "metadata": {},
   "source": [
    "What happened here? Things seemed to be going so well! Unfortunately, the last block in epoch 11 didn't carry enough votes to push `attest_curr` above 66.666%, scoring a close 66.46% (seen in `attest_prev` of slot 192).\n",
    "\n",
    "Why did this happen? Validators attesting at slot 191 are the last ones to do so before the next epoch begins. If their attestations had been included at the end of epoch 11 their weight would have pushed the attesting stake to 73.85%, but their attestations are only included at least one slot later, i.e., in the first slot of epoch 12, i.e., right after the accounting is over. This means our supermajority links are unchanged:\n",
    "\n",
    "```\n",
    "Supermajority links\n",
    "-------------------\n",
    "0 -> 7\n",
    "7 -> 9\n",
    "9 -> 10\n",
    "```\n",
    "\n",
    "and epoch 9 remains the last finalised epoch."
   ]
  },
  {
   "cell_type": "markdown",
   "metadata": {},
   "source": [
    "## Parting words\n",
    "\n",
    "This notebook introduced a key element of distributed systems: the abstraction of a P2P network over which agents exchange data. We observed how partitions that are more or less evenly split temporarily prevent finalisation on either side of the chain.\n",
    "\n",
    "Had the partition resolved itself and the network found integrity once more, validators would have needed to find consensus over the “true” state of the chain. Given the fork-choice rule based on GHOST, it is the chain with the most \"work\" (in the sense of staked votes) that would have won over and been accepted as canonical.\n",
    "\n",
    "We have not touched upon this fork rule yet, but we will do so in the next notebook where we introduce latency over the production of blocks. In this piece, we assumed no latency within each partition, so that validators in the same partition are always synced with each other. We'll relax this assumption and simulate how conflicts are resolved when block producers either do not release their blocks on time or experience delays communicating their blocks to other validators."
   ]
  },
  {
   "cell_type": "markdown",
   "metadata": {},
   "source": [
    "---\n",
    "\n",
    "_Some other cool resources:_\n",
    "\n",
    "- [Aditya](https://twitter.com/adiasg)'s FFG explainers ([Part 1](https://www.adiasg.me/2020/03/31/casper-ffg-explainer.html), [Part 2](https://www.adiasg.me/2020/04/09/casper-ffg-in-eth2-0.html))\n",
    "- [Carl](https://twitter.com/CarlBeek)'s _Validated_ series over at the Ethereum blog ([Part 0](https://blog.ethereum.org/2019/11/27/validated-staking-on-eth2-0/), [Part 1](https://blog.ethereum.org/2020/01/13/validated-staking-on-eth2-1-incentives/), [Part 2](https://blog.ethereum.org/2020/02/12/validated-staking-on-eth2-2-two-ghosts-in-a-trench-coat/), [Part 3](https://blog.ethereum.org/2020/03/27/sharding-consensus/))"
   ]
  },
  {
   "cell_type": "raw",
   "metadata": {},
   "source": [
    "Beacon Runner 2049"
   ]
  },
  {
   "cell_type": "raw",
   "metadata": {},
   "source": []
  },
  {
   "cell_type": "raw",
   "metadata": {},
   "source": [
    "// References + footnotes\n",
    "\n",
    "// Authors\n",
    "let authorData = [\"barnabe\"];"
   ]
  },
  {
   "cell_type": "raw",
   "metadata": {},
   "source": [
    "Danny Ryan once again for your input; CC Liang for hearing out my incoherent P2P questions; Sacha Saint-Leger for your wonderful edits and suggestions."
   ]
  }
 ],
 "metadata": {
  "desc": "Simulations of network partitions in PoS Ethereum",
  "kernelspec": {
   "display_name": "Python 3",
   "language": "python",
   "name": "python3"
  },
  "language_info": {
   "codemirror_mode": {
    "name": "ipython",
    "version": 3
   },
   "file_extension": ".py",
   "mimetype": "text/x-python",
   "name": "python",
   "nbconvert_exporter": "python",
   "pygments_lexer": "ipython3",
   "version": "3.8.2"
  },
  "path": "notebooks/beaconrunner2049/br2049.html",
  "repo": "beaconrunner",
  "title": "Beacon Runner 2049: Network partitions"
 },
 "nbformat": 4,
 "nbformat_minor": 4
}
